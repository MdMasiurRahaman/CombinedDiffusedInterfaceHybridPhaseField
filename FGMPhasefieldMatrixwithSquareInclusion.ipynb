{
 "cells": [
  {
   "cell_type": "code",
   "execution_count": null,
   "id": "87fd73b2",
   "metadata": {},
   "outputs": [],
   "source": [
    "using  SymPy\n",
    "using  Plots; pyplot()\n",
    "using  LinearAlgebra"
   ]
  },
  {
   "cell_type": "code",
   "execution_count": null,
   "id": "cb77c212",
   "metadata": {},
   "outputs": [],
   "source": [
    "L = 1\n",
    "H = 1\n",
    "d = 0.1\n",
    "l = 0.1\n",
    "η = 1e-10"
   ]
  },
  {
   "cell_type": "code",
   "execution_count": null,
   "id": "98d02f23",
   "metadata": {},
   "outputs": [],
   "source": [
    "E₁ = 2100e3\n",
    "E₂ = 210e3\n",
    "h = 0.005"
   ]
  },
  {
   "cell_type": "code",
   "execution_count": null,
   "id": "ec25f0c5",
   "metadata": {
    "scrolled": true
   },
   "outputs": [],
   "source": [
    "ht = 0.1"
   ]
  },
  {
   "cell_type": "code",
   "execution_count": null,
   "id": "0fc45b4a",
   "metadata": {},
   "outputs": [],
   "source": [
    "ν₁ = 0.30\n",
    "ν₂ = 0.30"
   ]
  },
  {
   "cell_type": "code",
   "execution_count": null,
   "id": "50393304",
   "metadata": {},
   "outputs": [],
   "source": [
    "x,x₁,y,y₁ = symbols(\"x,x₁,y,y₁\", real = true)"
   ]
  },
  {
   "cell_type": "code",
   "execution_count": null,
   "id": "c4c777ee",
   "metadata": {},
   "outputs": [],
   "source": [
    "@show λ₁ = E₁*ν₁/((1+ν₁)*(1-2*ν₁))\n",
    "@show λ₂ = E₂*ν₂/((1+ν₂)*(1-2*ν₂))\n",
    "@show μ₁ = E₁/(2*(1+ν₁))\n",
    "@show μ₂ = E₂/(2*(1+ν₂))"
   ]
  },
  {
   "cell_type": "markdown",
   "id": "c78dd1fc",
   "metadata": {},
   "source": [
    "### Piecewise function"
   ]
  },
  {
   "cell_type": "code",
   "execution_count": null,
   "id": "5c781e9d",
   "metadata": {},
   "outputs": [],
   "source": [
    "heaviside(x) = 0.5 * (sign(x) + 1)\n",
    "\n",
    "interval(x, a, b) = heaviside(x-a) - heaviside(x-b)"
   ]
  },
  {
   "cell_type": "markdown",
   "id": "8fd89d90",
   "metadata": {},
   "source": [
    "### Gaussian Kernel Function"
   ]
  },
  {
   "cell_type": "code",
   "execution_count": null,
   "id": "d349f7b0",
   "metadata": {},
   "outputs": [],
   "source": [
    "wₕ(x,x₁) = (1/(sqrt(2*pi)*h))*exp(-(x-x₁)^2/(2*h^2))"
   ]
  },
  {
   "cell_type": "code",
   "execution_count": null,
   "id": "9b7e5b37",
   "metadata": {},
   "outputs": [],
   "source": [
    "λx(x) = sqrt(λ₁-λ₂) * interval(x,-l/2,l/2) \n",
    "λy(y) = sqrt(λ₁-λ₂) * interval(y,-d/2,d/2) "
   ]
  },
  {
   "cell_type": "code",
   "execution_count": null,
   "id": "8280ceb8",
   "metadata": {},
   "outputs": [],
   "source": [
    "μx(x) = sqrt(μ₁-μ₂) * interval(x,-l/2,l/2) \n",
    "μy(y) = sqrt(μ₁-μ₂) * interval(y,-d/2,d/2) "
   ]
  },
  {
   "cell_type": "code",
   "execution_count": null,
   "id": "2a623632",
   "metadata": {},
   "outputs": [],
   "source": [
    "λ2D(x₁,y₁) = λx(x₁)*λy(y₁) + λ₂\n",
    "μ2D(x₁,y₁) = μx(x₁)*μy(y₁) + μ₂"
   ]
  },
  {
   "cell_type": "code",
   "execution_count": null,
   "id": "c12f45e4",
   "metadata": {},
   "outputs": [],
   "source": [
    "λFx = λx(x₁)*wₕ(x,x₁)\n",
    "λFy = λy(y₁)*wₕ(y,y₁)\n",
    "μFx = μx(x₁)*wₕ(x,x₁)\n",
    "μFy = μy(y₁)*wₕ(y,y₁)"
   ]
  },
  {
   "cell_type": "code",
   "execution_count": null,
   "id": "7b454e70",
   "metadata": {
    "scrolled": false
   },
   "outputs": [],
   "source": [
    "smoothλ = SymPy.integrate(λFx,(x₁,-L/2-ht,L/2+ht))*integrate(λFy,(y₁,-H/2-ht,H/2+ht)) + λ₂\n",
    "smoothμ = SymPy.integrate(μFx,(x₁,-L/2-ht,L/2+ht))*integrate(μFy,(y₁,-H/2-ht,H/2+ht)) + μ₂"
   ]
  },
  {
   "cell_type": "code",
   "execution_count": null,
   "id": "d0622ec8",
   "metadata": {},
   "outputs": [],
   "source": [
    "xs = range(-L/2,L/2, length=100)\n",
    "ys = range(-H/2,H/2, length=100)\n",
    "\n",
    "plot1 = contourf(xs, ys, λ2D, c=:diverging_bwr_40_95_c42_n256, axis = nothing, showaxis =false,aspect_ratio=:equal, camera=(0,90))\n",
    "plot2 = contourf(xs, ys, smoothλ, c=:diverging_bwr_40_95_c42_n256, axis = nothing, showaxis =false,aspect_ratio=:equal,camera=(0,90))\n",
    "plot(plot1,plot2)"
   ]
  },
  {
   "cell_type": "code",
   "execution_count": null,
   "id": "d522c642",
   "metadata": {},
   "outputs": [],
   "source": [
    "using Gmsh:gmsh\n",
    "using  GridapGmsh\n",
    "using  Gridap\n",
    "using  Gridap.Geometry\n",
    "using  Gridap.TensorValues\n",
    "using  Gridap.Fields\n",
    "using  Gridap.CellData\n",
    "using  Gridap.ReferenceFEs"
   ]
  },
  {
   "cell_type": "code",
   "execution_count": null,
   "id": "2de72dc3",
   "metadata": {
    "scrolled": true
   },
   "outputs": [],
   "source": [
    "const lsp = 0.0060\n",
    "hf = lsp/2.1\n",
    "hd = 30*hf\n",
    "Lₚ = 1.0\n",
    "Hₚ = 1.0\n",
    "lₚ = 0.1\n",
    "hₚ = 0.1\n",
    "rc1 = 0.10\n",
    "cw = 0.006\n",
    "cl = 0.10\n",
    "\n",
    "gmsh.initialize()\n",
    "gmsh.option.setNumber(\"General.Terminal\", 1)\n",
    "\n",
    "\n",
    "gmsh.model.geo.addPoint(-Lₚ/2, -Hₚ/2, 0.0, hd, 1)\n",
    "gmsh.model.geo.addPoint(Lₚ/2, -Hₚ/2, 0.0, hd, 2)\n",
    "gmsh.model.geo.addPoint(Lₚ/2, Hₚ/2, 0.0, hd, 3)\n",
    "gmsh.model.geo.addPoint(-Lₚ/2, Hₚ/2, 0.0, hd, 4)\n",
    "\n",
    "gmsh.model.geo.addPoint(-Lₚ/2, 0.5*cw, 0.0, hf, 100)\n",
    "gmsh.model.geo.addPoint(-Lₚ/2+cl, 0.5*cw, 0.0, hf, 101)\n",
    "gmsh.model.geo.addPoint(-Lₚ/2+cl, -0.5*cw, 0.0, hf, 102)\n",
    "gmsh.model.geo.addPoint(-Lₚ/2, -0.5*cw, 0.0, hf, 103)\n",
    "\n",
    "gmsh.model.geo.addLine(1, 2, 1)\n",
    "gmsh.model.geo.addLine(2, 3, 2)\n",
    "gmsh.model.geo.addLine(3, 4, 3)\n",
    "gmsh.model.geo.addLine(4, 100, 100)\n",
    "gmsh.model.geo.addLine(100, 101, 101)\n",
    "gmsh.model.geo.addLine(101, 102, 102)\n",
    "gmsh.model.geo.addLine(102, 103, 103)\n",
    "gmsh.model.geo.addLine(103, 1, 4)\n",
    "\n",
    "gmsh.model.geo.addCurveLoop([1,2,3,100,101,102,103,4],1)\n",
    "gmsh.model.addPhysicalGroup(2, [1],1)\n",
    "\n",
    "gmsh.model.geo.addPoint(-lₚ/2, -hₚ/2, 0.0, hd, 11)\n",
    "gmsh.model.geo.addPoint(lₚ/2, -hₚ/2, 0.0, hd, 12)\n",
    "gmsh.model.geo.addPoint(lₚ/2, hₚ/2, 0.0, hd, 13)\n",
    "gmsh.model.geo.addPoint(-lₚ/2, hₚ/2, 0.0, hd, 14)\n",
    "\n",
    "gmsh.model.geo.addLine(11, 12, 11)\n",
    "gmsh.model.geo.addLine(12, 13, 12)\n",
    "gmsh.model.geo.addLine(13, 14, 13)\n",
    "gmsh.model.geo.addLine(14, 11, 14)\n",
    "\n",
    "gmsh.model.geo.addCurveLoop([11,12,13,14],2)\n",
    "gmsh.model.addPhysicalGroup(2, [2],2)\n",
    "gmsh.model.geo.addPlaneSurface([2], 2)\n",
    "\n",
    "gmsh.model.geo.addPlaneSurface([2,-1], 1)\n",
    "\n",
    "gmsh.model.addPhysicalGroup(1, [1],1)\n",
    "gmsh.model.addPhysicalGroup(1, [3],2)\n",
    "\n",
    "gmsh.model.setPhysicalName(2, 1, \"Matrix\")\n",
    "gmsh.model.setPhysicalName(2, 2, \"InHom\")\n",
    "\n",
    "gmsh.model.setPhysicalName(1, 1, \"DirichletBot\")\n",
    "gmsh.model.setPhysicalName(1, 2, \"DirichletTop\")\n",
    "\n",
    "\n",
    "gmsh.model.mesh.field.add(\"Box\", 11)\n",
    "gmsh.model.mesh.field.setNumber(11, \"VIn\", hf)\n",
    "gmsh.model.mesh.field.setNumber(11, \"VOut\", hd)\n",
    "gmsh.model.mesh.field.setNumber(11, \"XMin\", -0.5*Lₚ)\n",
    "gmsh.model.mesh.field.setNumber(11, \"XMax\", 0.5*Lₚ)\n",
    "gmsh.model.mesh.field.setNumber(11, \"YMin\", -rc1)\n",
    "gmsh.model.mesh.field.setNumber(11, \"YMax\", rc1)\n",
    "gmsh.model.mesh.field.setAsBackgroundMesh(11)\n",
    "\n",
    "gmsh.model.geo.synchronize()\n",
    "gmsh.model.mesh.generate(2)\n",
    "\n",
    "gmsh.write(\"MatrixWithSquareInclusion.msh\")\n",
    "gmsh.finalize()"
   ]
  },
  {
   "cell_type": "code",
   "execution_count": null,
   "id": "94502196",
   "metadata": {
    "scrolled": true
   },
   "outputs": [],
   "source": [
    "model = GmshDiscreteModel(\"MatrixWithSquareInclusion.msh\")\n",
    "writevtk(model ,\"MatrixWithSquareInclusion\")"
   ]
  },
  {
   "cell_type": "code",
   "execution_count": null,
   "id": "dedb5b6a",
   "metadata": {},
   "outputs": [],
   "source": [
    "using Gridap.Geometry\n",
    "labels = get_face_labeling(model)\n",
    "dimension = 2\n",
    "mat_tags = get_face_tag(labels,dimension);"
   ]
  },
  {
   "cell_type": "code",
   "execution_count": null,
   "id": "77cc6769",
   "metadata": {},
   "outputs": [],
   "source": [
    "const matrix_tag = get_tag_from_name(labels,\"Matrix\")\n",
    "const InHom_tag = get_tag_from_name(labels,\"InHom\")"
   ]
  },
  {
   "cell_type": "code",
   "execution_count": null,
   "id": "aa0442bc",
   "metadata": {},
   "outputs": [],
   "source": [
    "const Gc_matrix = 2.7\n",
    "const Gc_Inhom = 27"
   ]
  },
  {
   "cell_type": "code",
   "execution_count": null,
   "id": "c3585e6d",
   "metadata": {},
   "outputs": [],
   "source": [
    "function Gc(s_id,tag)\n",
    "        if tag == matrix_tag          \n",
    "            return  Gc_matrix *s_id\n",
    "        elseif tag == InHom_tag        \n",
    "            return Gc_Inhom *s_id\n",
    "        end\n",
    "end"
   ]
  },
  {
   "cell_type": "code",
   "execution_count": null,
   "id": "2878c2d1",
   "metadata": {},
   "outputs": [],
   "source": [
    "order = 1\n",
    "degree = 2*order\n",
    "Ω = Triangulation(model)\n",
    "dΩ = Measure(Ω,degree)"
   ]
  },
  {
   "cell_type": "code",
   "execution_count": null,
   "id": "b2e28372",
   "metadata": {},
   "outputs": [],
   "source": [
    "I2 = SymTensorValue{2,Float64}(1.0 ,0.0 ,1.0)\n",
    "I4 = I2⊗I2\n",
    "I4_sym = one(SymFourthOrderTensorValue{2,Float64})\n",
    "P_vol = (1.0/2)*I4\n",
    "P_dev = I4_sym  - P_vol"
   ]
  },
  {
   "cell_type": "code",
   "execution_count": null,
   "id": "dc1e2a4c",
   "metadata": {
    "scrolled": true
   },
   "outputs": [],
   "source": [
    "p = get_cell_points(Ω)"
   ]
  },
  {
   "cell_type": "code",
   "execution_count": null,
   "id": "3a772a39",
   "metadata": {},
   "outputs": [],
   "source": [
    "reffe = ReferenceFE(lagrangian,Float64,order)\n",
    "V₁ = FESpace(model, reffe, conformity=:H1)"
   ]
  },
  {
   "cell_type": "code",
   "execution_count": null,
   "id": "c7c8a960",
   "metadata": {},
   "outputs": [],
   "source": [
    "λn = lambdify(smoothλ)\n",
    "μn = lambdify(smoothμ)\n",
    "\n",
    "λh22(p) = λn.(p[1],p[2])\n",
    "μh22(p) = μn.(p[1],p[2])"
   ]
  },
  {
   "cell_type": "code",
   "execution_count": null,
   "id": "c6c8eb0e",
   "metadata": {},
   "outputs": [],
   "source": [
    "V₁₂ = MultiFieldFESpace([V₁,V₁])"
   ]
  },
  {
   "cell_type": "code",
   "execution_count": null,
   "id": "1f3c8059",
   "metadata": {
    "scrolled": false
   },
   "outputs": [],
   "source": [
    "λ_h,μ_h = interpolate_everywhere([λh22,μh22],V₁₂)"
   ]
  },
  {
   "cell_type": "code",
   "execution_count": null,
   "id": "84017ae8",
   "metadata": {
    "scrolled": true
   },
   "outputs": [],
   "source": [
    "writevtk(Ω,\"MaterialProperties\",cellfields= [\"λ\"=>λ_h,\"μ\"=>μ_h])"
   ]
  },
  {
   "cell_type": "code",
   "execution_count": null,
   "id": "b6291480",
   "metadata": {},
   "outputs": [],
   "source": [
    "function σ_mod(ε,ε_in,s_in,λ,μ)\n",
    "    σ_elas = λ*tr(ε)*one(ε) + 2*μ*ε\n",
    "    σ = (s_in ^2+η)*σ_elas\n",
    "    return  σ\n",
    "end"
   ]
  },
  {
   "cell_type": "code",
   "execution_count": null,
   "id": "4f582946",
   "metadata": {},
   "outputs": [],
   "source": [
    "function ψPos(ε_in,λ,μ)\n",
    "    σ_elas = λ*tr(ε_in)*one(ε_in) + 2*μ*ε_in\n",
    "    σ_array = get_array(σ_elas)\n",
    "    Egn_Vals = eigvals(σ_array)\n",
    "    Egn_Vecs = eigvecs(σ_array)\n",
    "    σ1 = Egn_Vals[1]\n",
    "    σ2 = Egn_Vals[2]\n",
    "    n1 = VectorValue(Egn_Vecs[:,1])\n",
    "    n2 = VectorValue(Egn_Vecs[:,2])\n",
    " if (σ1)  >= 0\n",
    "        if (σ2)  >= 0\n",
    "            ψPlus = 0.5*(ε_in ⊙ (σ1*(n1 ⊗ n1) + σ2*(n2 ⊗ n2)))\n",
    "        else\n",
    "            ψPlus = 0.5*(ε_in ⊙ (σ1*(n1 ⊗ n1)))\n",
    "        end\n",
    "    elseif (σ1)  < 0\n",
    "        if (σ2)  >= 0\n",
    "            ψPlus = 0.5*(ε_in ⊙ (σ2*(n2 ⊗ n2)))\n",
    "        else\n",
    "            ψPlus = 0.0\n",
    "        end\n",
    "    end\n",
    "    return ψPlus\n",
    "end"
   ]
  },
  {
   "cell_type": "code",
   "execution_count": null,
   "id": "b6fb6afc",
   "metadata": {},
   "outputs": [],
   "source": [
    "function  new_EnergyState(ψPlusPrev_in,ψhPos_in)\n",
    "    ψPlus_in = ψhPos_in\n",
    "    if ψPlus_in  >=ψPlusPrev_in\n",
    "        ψPlus_out =ψPlus_in\n",
    "    else\n",
    "        ψPlus_out=ψPlusPrev_in\n",
    "    end\n",
    "    true,ψPlus_out\n",
    "end"
   ]
  },
  {
   "cell_type": "code",
   "execution_count": null,
   "id": "c564a5f5",
   "metadata": {},
   "outputs": [],
   "source": [
    "function  project(q,model ,dΩ,order)\n",
    "    reffe = ReferenceFE(lagrangian ,Float64 ,order)\n",
    "    V = FESpace(model ,reffe ,conformity =:L2)\n",
    "    a(u,v) =∫(u*v)*dΩ\n",
    "    b(v) =∫(v*q)*dΩ\n",
    "    op = AffineFEOperator(a,b,V,V)\n",
    "    qh = Gridap.solve(op)\n",
    "    return  qh\n",
    "end"
   ]
  },
  {
   "cell_type": "code",
   "execution_count": null,
   "id": "cf8dd0c5",
   "metadata": {},
   "outputs": [],
   "source": [
    "sId = CellState(1.0,dΩ)\n",
    "shId = project(sId,model,dΩ,order)"
   ]
  },
  {
   "cell_type": "code",
   "execution_count": null,
   "id": "5b15a1b1",
   "metadata": {},
   "outputs": [],
   "source": [
    "reffe_PF = ReferenceFE(lagrangian ,Float64,order)\n",
    "V0_PF = TestFESpace(model ,reffe_PF;conformity =:H1)\n",
    "U_PF = TrialFESpace(V0_PF)\n",
    "sh = zero(V0_PF)"
   ]
  },
  {
   "cell_type": "code",
   "execution_count": null,
   "id": "9f620064",
   "metadata": {},
   "outputs": [],
   "source": [
    "reffe_Disp = ReferenceFE(lagrangian,VectorValue{2,Float64},order)\n",
    "        V0_Disp = TestFESpace(model,reffe_Disp;\n",
    "          conformity=:H1,\n",
    "          dirichlet_tags=[\"DirichletBot\",\"DirichletTop\"],\n",
    "          dirichlet_masks=[(true,true), (false,true)])\n",
    "\n",
    "uh = zero(V0_Disp)"
   ]
  },
  {
   "cell_type": "code",
   "execution_count": null,
   "id": "3dd21650",
   "metadata": {},
   "outputs": [],
   "source": [
    "LoadTagId = get_tag_from_name(labels,\"DirichletTop\")\n",
    "Γ_Load = BoundaryTriangulation(model,tags = LoadTagId)\n",
    "dΓ_Load = Measure(Γ_Load,degree)\n",
    "n_Γ_Load = get_normal_vector(Γ_Load)"
   ]
  },
  {
   "cell_type": "code",
   "execution_count": null,
   "id": "9171a771",
   "metadata": {},
   "outputs": [],
   "source": [
    "function  stepPhaseField(uh_in,ψPlusPrev_in)\n",
    "\n",
    "        a_PF(s,ϕ) = ∫( (Gc∘(shId,mat_tags))*lsp*∇(ϕ)⋅ ∇(s) + 2*ψPlusPrev_in*s*ϕ + ((Gc∘(shId,mat_tags))/lsp)*s*ϕ )*dΩ\n",
    "        b_PF(ϕ) = ∫( ((Gc∘(shId,mat_tags))/lsp)*ϕ )*dΩ  \n",
    "        op_PF = AffineFEOperator(a_PF,b_PF,U_PF,V0_PF)\n",
    "        sh_out = Gridap.solve(op_PF) \n",
    "    \n",
    "    return sh_out  \n",
    "end"
   ]
  },
  {
   "cell_type": "code",
   "execution_count": null,
   "id": "81691306",
   "metadata": {},
   "outputs": [],
   "source": [
    "function   stepDisp(uh_in,sh_in,uApp)\n",
    "        uApp1(x) = VectorValue(0.0,0.0)\n",
    "        uApp2(x) = VectorValue(0.0,uApp)\n",
    "        U_Disp = TrialFESpace(V0_Disp,[uApp1,uApp2])\n",
    "\n",
    "        a_Disp(u,v) = ∫( (ε(v) ⊙ (σ_mod∘(ε(u),ε(uh_in),sh_in,λ_h,μ_h)) ) )*dΩ\n",
    "        b_Disp(v) = 0.0\n",
    "        op_Disp = AffineFEOperator(a_Disp,b_Disp,U_Disp,V0_Disp)\n",
    "        uh_out = Gridap.solve(op_Disp)\n",
    "    return uh_out\n",
    "end"
   ]
  },
  {
   "cell_type": "code",
   "execution_count": null,
   "id": "295f9b13",
   "metadata": {
    "scrolled": true
   },
   "outputs": [],
   "source": [
    "uApp = 0\n",
    "delu = 1.5e-4\n",
    "uAppMax = 0.011\n",
    "innerMax = 10\n",
    "count = 0\n",
    "Load = Float64[]\n",
    "Displacement = Float64[]\n",
    "StressVal = Float64[]\n",
    "push!(Load, 0.0)\n",
    "push!(Displacement, 0.0)\n",
    "push!(StressVal, 0.0)\n",
    "\n",
    "sPrev = CellState(1.0,dΩ)\n",
    "sh = project(sPrev,model,dΩ,order)\n",
    "ψPlusPrev = CellState(0.0,dΩ)\n",
    "\n",
    "while uApp .< uAppMax \n",
    "        \n",
    "    uApp = uApp .+ delu\n",
    "    count = count .+ 1\n",
    "    \n",
    "    if uApp >= 0.0065\n",
    "        delu = 5e-6\n",
    "    end\n",
    "   \n",
    "    print(\"\\n Entering displacemtent step$count :\", float(uApp))\n",
    "    \n",
    "   for inner = 1:innerMax\n",
    "        \n",
    "        ψhPlusPrev = project(ψPlusPrev,model,dΩ,order)\n",
    "        \n",
    "        RelErr = abs(sum(∫( (Gc∘(shId,mat_tags))*lsp*∇(sh)⋅ ∇(sh) + 2*ψhPlusPrev*sh*sh + ((Gc∘(shId,mat_tags))/lsp)*sh*sh)*dΩ-∫( ((Gc∘(shId,mat_tags))/lsp)*sh)*dΩ))/abs(sum(∫( ((Gc∘(shId,mat_tags))/lsp)*sh)*dΩ))\n",
    "        print(\"\\n error = \",float(RelErr))\n",
    "        \n",
    "        sh = stepPhaseField(uh,ψhPlusPrev) \n",
    "        uh = stepDisp(uh,sh,uApp)\n",
    "        \n",
    "        ψhPos_in = ψPos∘(ε(uh),λ_h,μ_h) \n",
    "        update_state!(new_EnergyState,ψPlusPrev,ψhPos_in)\n",
    "        \n",
    "        if RelErr < 1e-8\n",
    "            break \n",
    "        end \n",
    "    end\n",
    "    \n",
    "    Node_Force = sum(∫( n_Γ_Load ⋅ (σ_mod∘(ε(uh),ε(uh),sh,λ_h,μ_h)) ) *dΓ_Load)\n",
    "   \n",
    "    push!(Load, Node_Force[2])\n",
    "    push!(Displacement, uApp)\n",
    "    if uApp <= 0.005\n",
    "        if mod(count,4) == 0 \n",
    "             writevtk(Ω,\"results_PhaseFieldBeamWithNotch$count\",cellfields=\n",
    "            [\"uh\"=>uh,\"s\"=>sh , \"epsi\"=>ε(uh)])\n",
    "        end\n",
    "    elseif uApp > 0.005\n",
    "        if mod(count,4) == 0 \n",
    "             writevtk(Ω,\"results_PhaseFieldBeamWithNotch$count\",cellfields=\n",
    "            [\"uh\"=>uh,\"s\"=>sh , \"epsi\"=>ε(uh)])\n",
    "        end\n",
    "    end\n",
    "end "
   ]
  },
  {
   "cell_type": "code",
   "execution_count": null,
   "id": "4be0efa8",
   "metadata": {},
   "outputs": [],
   "source": [
    "dispPlot = plot(Displacement,Load,label = nothing,xticks = 0:0.001:0.011)\n",
    "xlabel!(\"Displacement (mm)\")\n",
    "ylabel!(\"Load (N)\")"
   ]
  },
  {
   "cell_type": "code",
   "execution_count": null,
   "id": "8b11c80e",
   "metadata": {},
   "outputs": [],
   "source": [
    "savefig(dispPlot,\"DisplacementPlot.pdf\")"
   ]
  },
  {
   "cell_type": "code",
   "execution_count": null,
   "id": "7ae05e0e",
   "metadata": {},
   "outputs": [],
   "source": [
    "using DelimitedFiles\n",
    "Disp = writedlm(\"DispDataSingleLayerPlatewithSquareInclusion.csv\",  Displacement, ',')\n",
    "Force = writedlm(\"LoadDataSingleLayerPlatewithSquareInclusion.csv\",  Load, ',')"
   ]
  },
  {
   "cell_type": "code",
   "execution_count": null,
   "id": "2fa81c01",
   "metadata": {},
   "outputs": [],
   "source": [
    "using Plots\n",
    "using CSV\n",
    "using DataFrames\n",
    "using StatsPlots"
   ]
  },
  {
   "cell_type": "code",
   "execution_count": null,
   "id": "de3888d8",
   "metadata": {},
   "outputs": [],
   "source": [
    "disp3Data = []\n",
    "load3Data = []\n",
    "disp1111 = CSV.read(\"DispDataSingleLayerPlatewithSquareInclusion.csv\", DataFrame)\n",
    "load1111 = CSV.read(\"LoadDataSingleLayerPlatewithSquareInclusion.csv\", DataFrame)\n",
    "disp2222 = CSV.read(\"MatrixWithSquareInclusionNew.csv\", DataFrame)\n",
    "\n",
    "push!(disp3Data,disp1111[!, 1])\n",
    "push!(disp3Data,disp2222[!, 1])\n",
    "push!(load3Data,load1111[!, 1])\n",
    "push!(load3Data,disp2222[!, 2])"
   ]
  },
  {
   "cell_type": "code",
   "execution_count": null,
   "id": "f6b340be",
   "metadata": {},
   "outputs": [],
   "source": [
    "plotf =[]\n",
    "plotf = plot(disp3Data[1],load3Data[1]*1e-3,label = \"Proposed model\", lw = 2,legend=:topleft)\n",
    "plotf = plot!(disp3Data[2],load3Data[2],label = \"Yin, B. B., & Zhang, L. W. (2019)\", lw = 2,legend=:topleft)\n",
    "plotf\n",
    "xlabel!(\"Displacement (mm)\")\n",
    "ylabel!(\"Load (KN)\")"
   ]
  },
  {
   "cell_type": "code",
   "execution_count": null,
   "id": "ad619810",
   "metadata": {},
   "outputs": [],
   "source": [
    "savefig(plotf,\"LoadDispRectangularWithSingleFiberInclusion.pdf\")"
   ]
  }
 ],
 "metadata": {
  "@webio": {
   "lastCommId": null,
   "lastKernelId": null
  },
  "kernelspec": {
   "display_name": "Julia 1.6.2",
   "language": "julia",
   "name": "julia-1.6"
  },
  "language_info": {
   "file_extension": ".jl",
   "mimetype": "application/julia",
   "name": "julia",
   "version": "1.6.2"
  }
 },
 "nbformat": 4,
 "nbformat_minor": 5
}
