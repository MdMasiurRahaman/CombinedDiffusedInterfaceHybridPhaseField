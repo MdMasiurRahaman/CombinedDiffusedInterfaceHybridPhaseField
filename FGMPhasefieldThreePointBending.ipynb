{
 "cells": [
  {
   "cell_type": "code",
   "execution_count": 1,
   "id": "87fd73b2",
   "metadata": {},
   "outputs": [],
   "source": [
    "using  SymPy\n",
    "using  Plots; pyplot()\n",
    "using LinearAlgebra"
   ]
  },
  {
   "cell_type": "code",
   "execution_count": 2,
   "id": "cab2d068",
   "metadata": {},
   "outputs": [
    {
     "name": "stdout",
     "output_type": "stream",
     "text": [
      "λᵢ = (Eᵢ * νᵢ) / ((1 + νᵢ) * (1 - 2νᵢ)) = 152000.0\n",
      "λₘ = (Eₘ * νₘ) / ((1 + νₘ) * (1 - 2νₘ)) = 152000.0\n",
      "λᵣ = (Eᵣ * νᵣ) / ((1 + νᵣ) * (1 - 2νᵣ)) = 276923.07692307694\n",
      "μᵢ = Eᵢ / (2 * (1 + νᵢ)) = 152000.0\n",
      "μₘ = Eₘ / (2 * (1 + νₘ)) = 152000.0\n",
      "μᵣ = Eᵣ / (2 * (1 + νᵣ)) = 184615.3846153846\n"
     ]
    },
    {
     "data": {
      "text/plain": [
       "184615.3846153846"
      ]
     },
     "execution_count": 2,
     "metadata": {},
     "output_type": "execute_result"
    }
   ],
   "source": [
    "Eₘ = 380e3\n",
    "Eᵣ = 480e3\n",
    "Eᵢ = Eₘ\n",
    "νₘ = 0.25\n",
    "νᵣ = 0.30\n",
    "νᵢ = νₘ\n",
    "\n",
    "@show λᵢ = Eᵢ*νᵢ/((1+νᵢ)*(1-2*νᵢ))\n",
    "@show λₘ = Eₘ*νₘ/((1+νₘ)*(1-2*νₘ))\n",
    "@show λᵣ = Eᵣ*νᵣ/((1+νᵣ)*(1-2*νᵣ))\n",
    "@show μᵢ = Eᵢ/(2*(1+νᵢ))\n",
    "@show μₘ = Eₘ/(2*(1+νₘ))\n",
    "@show μᵣ = Eᵣ/(2*(1+νᵣ))"
   ]
  },
  {
   "cell_type": "code",
   "execution_count": 3,
   "id": "fc5df476",
   "metadata": {},
   "outputs": [
    {
     "data": {
      "text/plain": [
       "0.00171"
      ]
     },
     "execution_count": 3,
     "metadata": {},
     "output_type": "execute_result"
    }
   ],
   "source": [
    "Gₘ = 0.01\n",
    "Gᵣ = 0.01710\n",
    "Gᵢ = 0.00171"
   ]
  },
  {
   "cell_type": "code",
   "execution_count": 4,
   "id": "cb77c212",
   "metadata": {},
   "outputs": [
    {
     "data": {
      "text/plain": [
       "1.0e-10"
      ]
     },
     "execution_count": 4,
     "metadata": {},
     "output_type": "execute_result"
    }
   ],
   "source": [
    "L = 2.25\n",
    "H = 0.5\n",
    "η = 1e-10"
   ]
  },
  {
   "cell_type": "code",
   "execution_count": 5,
   "id": "074ce258",
   "metadata": {},
   "outputs": [
    {
     "data": {
      "text/plain": [
       "0.05"
      ]
     },
     "execution_count": 5,
     "metadata": {},
     "output_type": "execute_result"
    }
   ],
   "source": [
    "ht = 0.10\n",
    "h = 0.01\n",
    "Hm = 0.30\n",
    "Hi = 0.05"
   ]
  },
  {
   "cell_type": "code",
   "execution_count": 6,
   "id": "50393304",
   "metadata": {},
   "outputs": [
    {
     "data": {
      "text/plain": [
       "(x, x₁, y, y₁)"
      ]
     },
     "execution_count": 6,
     "metadata": {},
     "output_type": "execute_result"
    }
   ],
   "source": [
    "x,x₁,y,y₁ = symbols(\"x,x₁,y,y₁\", real = true)"
   ]
  },
  {
   "cell_type": "markdown",
   "id": "c78dd1fc",
   "metadata": {},
   "source": [
    "### Piecewise function"
   ]
  },
  {
   "cell_type": "code",
   "execution_count": 7,
   "id": "5c781e9d",
   "metadata": {},
   "outputs": [
    {
     "data": {
      "text/plain": [
       "interval (generic function with 1 method)"
      ]
     },
     "execution_count": 7,
     "metadata": {},
     "output_type": "execute_result"
    }
   ],
   "source": [
    "heaviside(x) = 0.5 * (sign(x) + 1)\n",
    "\n",
    "interval(x, a, b) = heaviside(x-a) - heaviside(x-b)"
   ]
  },
  {
   "cell_type": "markdown",
   "id": "8fd89d90",
   "metadata": {},
   "source": [
    "### Gaussian Kernel Function"
   ]
  },
  {
   "cell_type": "code",
   "execution_count": 8,
   "id": "d349f7b0",
   "metadata": {},
   "outputs": [
    {
     "data": {
      "text/plain": [
       "wₕ (generic function with 1 method)"
      ]
     },
     "execution_count": 8,
     "metadata": {},
     "output_type": "execute_result"
    }
   ],
   "source": [
    "wₕ(x,x₁) = (1/(sqrt(2*pi)*h))*exp(-(x-x₁)^2/(2*h^2))"
   ]
  },
  {
   "cell_type": "code",
   "execution_count": 9,
   "id": "9b7e5b37",
   "metadata": {},
   "outputs": [
    {
     "data": {
      "text/latex": [
       "$39.8942280401433 \\left(- 0.5 \\operatorname{sign}{\\left(y₁ - 0.6 \\right)} + 0.5 \\operatorname{sign}{\\left(y₁ - 0.2 \\right)}\\right) e^{- 5000.0 \\left(y - y₁\\right)^{2}}$"
      ],
      "text/plain": [
       "                                                                             2\n",
       "                                                             -5000.0⋅(y - y₁) \n",
       "39.8942280401433⋅(-0.5⋅sign(y₁ - 0.6) + 0.5⋅sign(y₁ - 0.2))⋅ℯ                 "
      ]
     },
     "execution_count": 9,
     "metadata": {},
     "output_type": "execute_result"
    }
   ],
   "source": [
    "Fx1 = interval(x₁,-L-ht,L+ht)*wₕ(x,x₁)\n",
    "Fy1 = interval(y₁,-H-ht,-H+Hm)*wₕ(y,y₁)\n",
    "Fy2 = interval(y₁,-H+Hm,-H+Hm+Hi)*wₕ(y,y₁)\n",
    "Fy3 = interval(y₁,-H+Hm+Hi,-H+2*Hm+Hi)*wₕ(y,y₁)\n",
    "Fy4 = interval(y₁,-H+2*Hm+Hi,-H+2*Hm+2*Hi)*wₕ(y,y₁)\n",
    "Fy5 = interval(y₁,-H+2*Hm+2*Hi,-H+3*Hm+2*Hi+ht)*wₕ(y,y₁)"
   ]
  },
  {
   "cell_type": "code",
   "execution_count": 10,
   "id": "7f71f085",
   "metadata": {},
   "outputs": [
    {
     "data": {
      "text/latex": [
       "$\\left(- 138461.538461538 \\operatorname{sign}{\\left(x₁ - 2.35 \\right)} + 138461.538461538 \\operatorname{sign}{\\left(x₁ + 2.35 \\right)}\\right) \\left(- 0.5 \\operatorname{sign}{\\left(y₁ - 0.15 \\right)} + 0.5 \\operatorname{sign}{\\left(y₁ + 0.15 \\right)}\\right) + \\left(- 76000.0 \\operatorname{sign}{\\left(x₁ - 2.35 \\right)} + 76000.0 \\operatorname{sign}{\\left(x₁ + 2.35 \\right)}\\right) \\left(- 0.5 \\operatorname{sign}{\\left(y₁ - 0.6 \\right)} + 0.5 \\operatorname{sign}{\\left(y₁ - 0.2 \\right)}\\right) + \\left(- 76000.0 \\operatorname{sign}{\\left(x₁ - 2.35 \\right)} + 76000.0 \\operatorname{sign}{\\left(x₁ + 2.35 \\right)}\\right) \\left(- 0.5 \\operatorname{sign}{\\left(y₁ - 0.2 \\right)} + 0.5 \\operatorname{sign}{\\left(y₁ - 0.15 \\right)}\\right) + \\left(- 76000.0 \\operatorname{sign}{\\left(x₁ - 2.35 \\right)} + 76000.0 \\operatorname{sign}{\\left(x₁ + 2.35 \\right)}\\right) \\left(- 0.5 \\operatorname{sign}{\\left(y₁ + 0.15 \\right)} + 0.5 \\operatorname{sign}{\\left(y₁ + 0.2 \\right)}\\right) + \\left(- 76000.0 \\operatorname{sign}{\\left(x₁ - 2.35 \\right)} + 76000.0 \\operatorname{sign}{\\left(x₁ + 2.35 \\right)}\\right) \\left(- 0.5 \\operatorname{sign}{\\left(y₁ + 0.2 \\right)} + 0.5 \\operatorname{sign}{\\left(y₁ + 0.6 \\right)}\\right)$"
      ],
      "text/plain": [
       "(-138461.538461538⋅sign(x₁ - 2.35) + 138461.538461538⋅sign(x₁ + 2.35))⋅(-0.5⋅s\n",
       "ign(y₁ - 0.15) + 0.5⋅sign(y₁ + 0.15)) + (-76000.0⋅sign(x₁ - 2.35) + 76000.0⋅si\n",
       "gn(x₁ + 2.35))⋅(-0.5⋅sign(y₁ - 0.6) + 0.5⋅sign(y₁ - 0.2)) + (-76000.0⋅sign(x₁ \n",
       "- 2.35) + 76000.0⋅sign(x₁ + 2.35))⋅(-0.5⋅sign(y₁ - 0.2) + 0.5⋅sign(y₁ - 0.15))\n",
       " + (-76000.0⋅sign(x₁ - 2.35) + 76000.0⋅sign(x₁ + 2.35))⋅(-0.5⋅sign(y₁ + 0.15) \n",
       "+ 0.5⋅sign(y₁ + 0.2)) + (-76000.0⋅sign(x₁ - 2.35) + 76000.0⋅sign(x₁ + 2.35))⋅(\n",
       "-0.5⋅sign(y₁ + 0.2) + 0.5⋅sign(y₁ + 0.6))"
      ]
     },
     "execution_count": 10,
     "metadata": {},
     "output_type": "execute_result"
    }
   ],
   "source": [
    "λdiscont1 = λₘ * interval(x₁,-L-ht,L+ht)* interval(y₁,-H-ht,-H+Hm)\n",
    "λdiscont2 = λᵢ * interval(x₁,-L-ht,L+ht)* interval(y₁,-H+Hm,-H+Hm+Hi)\n",
    "λdiscont3 = λᵣ * interval(x₁,-L-ht,L+ht)* interval(y₁,-H+Hm+Hi,-H+2*Hm+Hi)\n",
    "λdiscont4 = λᵢ * interval(x₁,-L-ht,L+ht)* interval(y₁,-H+2*Hm+Hi,-H+2*Hm+2*Hi)\n",
    "λdiscont5 = λₘ * interval(x₁,-L-ht,L+ht)* interval(y₁,-H+2*Hm+2*Hi,-H+3*Hm+2*Hi+ht)\n",
    "λdiscont = λdiscont1 + λdiscont2 + λdiscont3 + λdiscont4 + λdiscont5"
   ]
  },
  {
   "cell_type": "code",
   "execution_count": 11,
   "id": "0463ca20",
   "metadata": {
    "scrolled": true
   },
   "outputs": [
    {
     "data": {
      "text/latex": [
       "$\\left(- 92307.6923076923 \\operatorname{sign}{\\left(x₁ - 2.35 \\right)} + 92307.6923076923 \\operatorname{sign}{\\left(x₁ + 2.35 \\right)}\\right) \\left(- 0.5 \\operatorname{sign}{\\left(y₁ - 0.15 \\right)} + 0.5 \\operatorname{sign}{\\left(y₁ + 0.15 \\right)}\\right) + \\left(- 76000.0 \\operatorname{sign}{\\left(x₁ - 2.35 \\right)} + 76000.0 \\operatorname{sign}{\\left(x₁ + 2.35 \\right)}\\right) \\left(- 0.5 \\operatorname{sign}{\\left(y₁ - 0.6 \\right)} + 0.5 \\operatorname{sign}{\\left(y₁ - 0.2 \\right)}\\right) + \\left(- 76000.0 \\operatorname{sign}{\\left(x₁ - 2.35 \\right)} + 76000.0 \\operatorname{sign}{\\left(x₁ + 2.35 \\right)}\\right) \\left(- 0.5 \\operatorname{sign}{\\left(y₁ - 0.2 \\right)} + 0.5 \\operatorname{sign}{\\left(y₁ - 0.15 \\right)}\\right) + \\left(- 76000.0 \\operatorname{sign}{\\left(x₁ - 2.35 \\right)} + 76000.0 \\operatorname{sign}{\\left(x₁ + 2.35 \\right)}\\right) \\left(- 0.5 \\operatorname{sign}{\\left(y₁ + 0.15 \\right)} + 0.5 \\operatorname{sign}{\\left(y₁ + 0.2 \\right)}\\right) + \\left(- 76000.0 \\operatorname{sign}{\\left(x₁ - 2.35 \\right)} + 76000.0 \\operatorname{sign}{\\left(x₁ + 2.35 \\right)}\\right) \\left(- 0.5 \\operatorname{sign}{\\left(y₁ + 0.2 \\right)} + 0.5 \\operatorname{sign}{\\left(y₁ + 0.6 \\right)}\\right)$"
      ],
      "text/plain": [
       "(-92307.6923076923⋅sign(x₁ - 2.35) + 92307.6923076923⋅sign(x₁ + 2.35))⋅(-0.5⋅s\n",
       "ign(y₁ - 0.15) + 0.5⋅sign(y₁ + 0.15)) + (-76000.0⋅sign(x₁ - 2.35) + 76000.0⋅si\n",
       "gn(x₁ + 2.35))⋅(-0.5⋅sign(y₁ - 0.6) + 0.5⋅sign(y₁ - 0.2)) + (-76000.0⋅sign(x₁ \n",
       "- 2.35) + 76000.0⋅sign(x₁ + 2.35))⋅(-0.5⋅sign(y₁ - 0.2) + 0.5⋅sign(y₁ - 0.15))\n",
       " + (-76000.0⋅sign(x₁ - 2.35) + 76000.0⋅sign(x₁ + 2.35))⋅(-0.5⋅sign(y₁ + 0.15) \n",
       "+ 0.5⋅sign(y₁ + 0.2)) + (-76000.0⋅sign(x₁ - 2.35) + 76000.0⋅sign(x₁ + 2.35))⋅(\n",
       "-0.5⋅sign(y₁ + 0.2) + 0.5⋅sign(y₁ + 0.6))"
      ]
     },
     "execution_count": 11,
     "metadata": {},
     "output_type": "execute_result"
    }
   ],
   "source": [
    "μdiscont1 = μₘ * interval(x₁,-L-ht,L+ht)* interval(y₁,-H-ht,-H+Hm)\n",
    "μdiscont2 = μᵢ * interval(x₁,-L-ht,L+ht)* interval(y₁,-H+Hm,-H+Hm+Hi)\n",
    "μdiscont3 = μᵣ * interval(x₁,-L-ht,L+ht)* interval(y₁,-H+Hm+Hi,-H+2*Hm+Hi)\n",
    "μdiscont4 = μᵢ * interval(x₁,-L-ht,L+ht)* interval(y₁,-H+2*Hm+Hi,-H+2*Hm+2*Hi)\n",
    "μdiscont5 = μₘ * interval(x₁,-L-ht,L+ht)* interval(y₁,-H+2*Hm+2*Hi,-H+3*Hm+2*Hi+ht)\n",
    "μdiscont = μdiscont1 + μdiscont2 + μdiscont3 + μdiscont4 + μdiscont5"
   ]
  },
  {
   "cell_type": "code",
   "execution_count": 12,
   "id": "f607cee9",
   "metadata": {},
   "outputs": [
    {
     "data": {
      "text/latex": [
       "$\\left(- 0.00855 \\operatorname{sign}{\\left(x₁ - 2.35 \\right)} + 0.00855 \\operatorname{sign}{\\left(x₁ + 2.35 \\right)}\\right) \\left(- 0.5 \\operatorname{sign}{\\left(y₁ - 0.15 \\right)} + 0.5 \\operatorname{sign}{\\left(y₁ + 0.15 \\right)}\\right) + \\left(- 0.005 \\operatorname{sign}{\\left(x₁ - 2.35 \\right)} + 0.005 \\operatorname{sign}{\\left(x₁ + 2.35 \\right)}\\right) \\left(- 0.5 \\operatorname{sign}{\\left(y₁ - 0.6 \\right)} + 0.5 \\operatorname{sign}{\\left(y₁ - 0.2 \\right)}\\right) + \\left(- 0.005 \\operatorname{sign}{\\left(x₁ - 2.35 \\right)} + 0.005 \\operatorname{sign}{\\left(x₁ + 2.35 \\right)}\\right) \\left(- 0.5 \\operatorname{sign}{\\left(y₁ + 0.2 \\right)} + 0.5 \\operatorname{sign}{\\left(y₁ + 0.6 \\right)}\\right) + \\left(- 0.000855 \\operatorname{sign}{\\left(x₁ - 2.35 \\right)} + 0.000855 \\operatorname{sign}{\\left(x₁ + 2.35 \\right)}\\right) \\left(- 0.5 \\operatorname{sign}{\\left(y₁ - 0.2 \\right)} + 0.5 \\operatorname{sign}{\\left(y₁ - 0.15 \\right)}\\right) + \\left(- 0.000855 \\operatorname{sign}{\\left(x₁ - 2.35 \\right)} + 0.000855 \\operatorname{sign}{\\left(x₁ + 2.35 \\right)}\\right) \\left(- 0.5 \\operatorname{sign}{\\left(y₁ + 0.15 \\right)} + 0.5 \\operatorname{sign}{\\left(y₁ + 0.2 \\right)}\\right)$"
      ],
      "text/plain": [
       "(-0.00855⋅sign(x₁ - 2.35) + 0.00855⋅sign(x₁ + 2.35))⋅(-0.5⋅sign(y₁ - 0.15) + 0\n",
       ".5⋅sign(y₁ + 0.15)) + (-0.005⋅sign(x₁ - 2.35) + 0.005⋅sign(x₁ + 2.35))⋅(-0.5⋅s\n",
       "ign(y₁ - 0.6) + 0.5⋅sign(y₁ - 0.2)) + (-0.005⋅sign(x₁ - 2.35) + 0.005⋅sign(x₁ \n",
       "+ 2.35))⋅(-0.5⋅sign(y₁ + 0.2) + 0.5⋅sign(y₁ + 0.6)) + (-0.000855⋅sign(x₁ - 2.3\n",
       "5) + 0.000855⋅sign(x₁ + 2.35))⋅(-0.5⋅sign(y₁ - 0.2) + 0.5⋅sign(y₁ - 0.15)) + (\n",
       "-0.000855⋅sign(x₁ - 2.35) + 0.000855⋅sign(x₁ + 2.35))⋅(-0.5⋅sign(y₁ + 0.15) + \n",
       "0.5⋅sign(y₁ + 0.2))"
      ]
     },
     "execution_count": 12,
     "metadata": {},
     "output_type": "execute_result"
    }
   ],
   "source": [
    "Gdiscont1 = Gₘ * interval(x₁,-L-ht,L+ht)* interval(y₁,-H-ht,-H+Hm)\n",
    "Gdiscont2 = Gᵢ * interval(x₁,-L-ht,L+ht)* interval(y₁,-H+Hm,-H+Hm+Hi)\n",
    "Gdiscont3 = Gᵣ * interval(x₁,-L-ht,L+ht)* interval(y₁,-H+Hm+Hi,-H+2*Hm+Hi)\n",
    "Gdiscont4 = Gᵢ * interval(x₁,-L-ht,L+ht)* interval(y₁,-H+2*Hm+Hi,-H+2*Hm+2*Hi)\n",
    "Gdiscont5 = Gₘ * interval(x₁,-L-ht,L+ht)* interval(y₁,-H+2*Hm+2*Hi,-H+3*Hm+2*Hi+ht)\n",
    "Gdiscont = Gdiscont1 + Gdiscont2 + Gdiscont3 + Gdiscont4 + Gdiscont5"
   ]
  },
  {
   "cell_type": "code",
   "execution_count": 13,
   "id": "26745c6a",
   "metadata": {},
   "outputs": [],
   "source": [
    "smoothλ1 = integrate(Fx1,(x₁,-L-ht,L+ht))*integrate(Fy1,(y₁,-H-ht,H+ht))*λₘ\n",
    "smoothλ2 = integrate(Fx1,(x₁,-L-ht,L+ht))*integrate(Fy2,(y₁,-H-ht,H+ht))*λᵢ\n",
    "smoothλ3 = integrate(Fx1,(x₁,-L-ht,L+ht))*integrate(Fy3,(y₁,-H-ht,H+ht))*λᵣ\n",
    "smoothλ4 = integrate(Fx1,(x₁,-L-ht,L+ht))*integrate(Fy4,(y₁,-H-ht,H+ht))*λᵢ\n",
    "smoothλ5 = integrate(Fx1,(x₁,-L-ht,L+ht))*integrate(Fy5,(y₁,-H-ht,H+ht))*λₘ\n",
    "smoothλ = smoothλ1 + smoothλ2 + smoothλ3 + smoothλ4 + smoothλ5;"
   ]
  },
  {
   "cell_type": "code",
   "execution_count": 14,
   "id": "040b8854",
   "metadata": {
    "scrolled": true
   },
   "outputs": [],
   "source": [
    "smoothμ1 = integrate(Fx1,(x₁,-L-ht,L+ht))*integrate(Fy1,(y₁,-H-ht,H+ht))*μₘ\n",
    "smoothμ2 = integrate(Fx1,(x₁,-L-ht,L+ht))*integrate(Fy2,(y₁,-H-ht,H+ht))*μᵢ\n",
    "smoothμ3 = integrate(Fx1,(x₁,-L-ht,L+ht))*integrate(Fy3,(y₁,-H-ht,H+ht))*μᵣ\n",
    "smoothμ4 = integrate(Fx1,(x₁,-L-ht,L+ht))*integrate(Fy4,(y₁,-H-ht,H+ht))*μᵢ\n",
    "smoothμ5 = integrate(Fx1,(x₁,-L-ht,L+ht))*integrate(Fy5,(y₁,-H-ht,H+ht))*μₘ\n",
    "smoothμ = smoothμ1 + smoothμ2 + smoothμ3 + smoothμ4 + smoothμ5;"
   ]
  },
  {
   "cell_type": "code",
   "execution_count": 15,
   "id": "b68e3c10",
   "metadata": {},
   "outputs": [],
   "source": [
    "smoothG1 = integrate(Fx1,(x₁,-L-ht,L+ht))*integrate(Fy1,(y₁,-H-ht,H+ht))*Gₘ\n",
    "smoothG2 = integrate(Fx1,(x₁,-L-ht,L+ht))*integrate(Fy2,(y₁,-H-ht,H+ht))*Gᵢ\n",
    "smoothG3 = integrate(Fx1,(x₁,-L-ht,L+ht))*integrate(Fy3,(y₁,-H-ht,H+ht))*Gᵣ\n",
    "smoothG4 = integrate(Fx1,(x₁,-L-ht,L+ht))*integrate(Fy4,(y₁,-H-ht,H+ht))*Gᵢ\n",
    "smoothG5 = integrate(Fx1,(x₁,-L-ht,L+ht))*integrate(Fy5,(y₁,-H-ht,H+ht))*Gₘ\n",
    "smoothG = smoothG1 + smoothG2 + smoothG3 + smoothG4 + smoothG5;"
   ]
  },
  {
   "cell_type": "code",
   "execution_count": 16,
   "id": "735a984e",
   "metadata": {
    "scrolled": true
   },
   "outputs": [
    {
     "data": {
      "image/png": "[encoded data removed]"
     },
     "execution_count": 16,
     "metadata": {},
     "output_type": "execute_result"
    },
    {
     "name": "stderr",
     "output_type": "stream",
     "text": [
      "sys:1: UserWarning: The following kwargs were not used by contour: 'label'\n"
     ]
    }
   ],
   "source": [
    "xs = range(-L,L, length=100)\n",
    "ys = range(-H,H, length=100)\n",
    "\n",
    "plot1 = contourf(xs, ys, λdiscont, c=:diverging_bwr_40_95_c42_n256, axis = nothing, showaxis =false,aspect_ratio=:equal, camera=(0,90))\n",
    "plot2 = contourf(xs, ys, smoothλ, c=:diverging_bwr_40_95_c42_n256, axis = nothing, showaxis =false,aspect_ratio=:equal,camera=(0,90))\n",
    "plot3 = contourf(xs, ys, μdiscont, c=:diverging_bwr_40_95_c42_n256, axis = nothing, showaxis =false,aspect_ratio=:equal, camera=(0,90))\n",
    "plot4 = contourf(xs, ys, smoothμ, c=:diverging_bwr_40_95_c42_n256, axis = nothing, showaxis =false,aspect_ratio=:equal, camera=(0,90))\n",
    "plot5 = contourf(xs, ys, Gdiscont, c=:diverging_bwr_40_95_c42_n256, axis = nothing, showaxis =false,aspect_ratio=:equal, camera=(0,90))\n",
    "plot6 = contourf(xs, ys, smoothG, c=:diverging_bwr_40_95_c42_n256, axis = nothing, showaxis =false,aspect_ratio=:equal, camera=(0,90))\n",
    "#plot(plot1,plot2,plot3,plot4,plot5,plot6)\n",
    "#plot(plot3,plot4)\n",
    "#plot(plot5,plot6)"
   ]
  },
  {
   "cell_type": "code",
   "execution_count": 17,
   "id": "4781a23d",
   "metadata": {},
   "outputs": [
    {
     "ename": "LoadError",
     "evalue": "IOError: cd(\"ResultsThreePointBending\"): no such file or directory (ENOENT)",
     "output_type": "error",
     "traceback": [
      "IOError: cd(\"ResultsThreePointBending\"): no such file or directory (ENOENT)",
      "",
      "Stacktrace:",
      " [1] uv_error",
      "   @ ./libuv.jl:97 [inlined]",
      " [2] cd(dir::String)",
      "   @ Base.Filesystem ./file.jl:89",
      " [3] top-level scope",
      "   @ In[17]:1",
      " [4] eval",
      "   @ ./boot.jl:373 [inlined]",
      " [5] include_string(mapexpr::typeof(REPL.softscope), mod::Module, code::String, filename::String)",
      "   @ Base ./loading.jl:1196"
     ]
    }
   ],
   "source": [
    "cd(\"ResultsThreePointBending\")"
   ]
  },
  {
   "cell_type": "code",
   "execution_count": 18,
   "id": "d522c642",
   "metadata": {},
   "outputs": [
    {
     "name": "stderr",
     "output_type": "stream",
     "text": [
      "WARNING: using Fields.integrate in module Main conflicts with an existing identifier.\n"
     ]
    }
   ],
   "source": [
    "using Gmsh:gmsh\n",
    "using  GridapGmsh\n",
    "using  Gridap\n",
    "using  Gridap.Geometry\n",
    "using  Gridap.TensorValues\n",
    "using  Gridap.Fields\n",
    "using  Gridap.CellData\n",
    "using  Gridap.ReferenceFEs"
   ]
  },
  {
   "cell_type": "code",
   "execution_count": 19,
   "id": "03d63e87",
   "metadata": {},
   "outputs": [
    {
     "data": {
      "text/plain": [
       "0.01"
      ]
     },
     "execution_count": 19,
     "metadata": {},
     "output_type": "execute_result"
    }
   ],
   "source": [
    "ls = 0.020\n",
    "hf = ls/2.1\n",
    "hd = 10*hf\n",
    "Lₚ = 4.5\n",
    "Hₚ = 1.0\n",
    "sw = 0.25\n",
    "CL = 0.15\n",
    "LL = hd\n",
    "cw = 0.01"
   ]
  },
  {
   "cell_type": "code",
   "execution_count": 20,
   "id": "b893a783",
   "metadata": {},
   "outputs": [
    {
     "name": "stdout",
     "output_type": "stream",
     "text": [
      "Info    : Meshing 1D...\n",
      "Info    : Meshing curve 1 (Line)\n",
      "Info    : Meshing curve 2 (Line)\n",
      "Info    : Meshing curve 3 (Line)\n",
      "Info    : Meshing curve 4 (Line)\n",
      "Info    : Meshing curve 5 (Line)\n",
      "Info    : Meshing curve 6 (Line)\n",
      "Info    : Meshing curve 7 (Line)\n",
      "Info    : Meshing curve 8 (Line)\n",
      "Info    : Meshing curve 9 (Line)\n",
      "Info    : Meshing curve 10 (Line)\n",
      "Info    : Meshing curve 11 (Line)\n",
      "Info    : Meshing curve 12 (Line)\n",
      "Info    : Meshing curve 13 (Line)\n",
      "Info    : Meshing curve 14 (Line)\n",
      "Info    : Meshing curve 15 (Line)\n",
      "Info    : Meshing curve 16 (Line)\n",
      "Info    : Meshing curve 17 (Line)\n",
      "Info    : Meshing curve 18 (Line)\n",
      "Info    : Meshing curve 19 (Line)\n",
      "Info    : Meshing curve 20 (Line)\n",
      "Info    : Meshing curve 21 (Line)\n",
      "Info    : Meshing curve 101 (Line)\n",
      "Info    : Meshing curve 102 (Line)\n",
      "Info    : Meshing curve 103 (Line)\n",
      "Info    : Meshing curve 104 (Line)\n",
      "Info    : Done meshing 1D (0.002426 s)\n",
      "Info    : Meshing 2D...\n",
      "Info    : Meshing surface 1 (Plane, Delaunay)\n",
      "Info    : Meshing surface 2 (Plane, Delaunay)\n",
      "Info    : Meshing surface 3 (Plane, Delaunay)\n",
      "Info    : Meshing surface 4 (Plane, Delaunay)\n",
      "Info    : Meshing surface 5 (Plane, Delaunay)\n",
      "Info    : Done meshing 2D (0.994221 s)\n",
      "Info    : 39632 vertices 81175 elements\n",
      "Info    : Writing 'ThreePointBending.msh'...\n",
      "Info    : Done writing 'ThreePointBending.msh'\n"
     ]
    }
   ],
   "source": [
    "gmsh.initialize()\n",
    "gmsh.option.setNumber(\"General.Terminal\", 1)\n",
    "\n",
    "gmsh.model.geo.addPoint(-Lₚ/2, -Hₚ/2, 0.0, hd, 1)\n",
    "gmsh.model.geo.addPoint(-Lₚ/2+sw, -Hₚ/2, 0.0, hd, 2)\n",
    "gmsh.model.geo.addPoint(-cw/2, -Hₚ/2, 0.0, hd, 3)\n",
    "gmsh.model.geo.addPoint(-cw/2, -Hₚ/2+CL, 0.0, hd, 4)\n",
    "gmsh.model.geo.addPoint(0.0, -Hₚ/2+1.1*CL, 0.0, hd, 5)\n",
    "gmsh.model.geo.addPoint(cw/2, -Hₚ/2+CL, 0.0, hd, 6)\n",
    "gmsh.model.geo.addPoint(cw/2, -Hₚ/2, 0.0, hd, 7)\n",
    "gmsh.model.geo.addPoint(Lₚ/2-sw, -Hₚ/2, 0.0, hd, 8)\n",
    "gmsh.model.geo.addPoint(Lₚ/2, -Hₚ/2, 0.0, hd, 9)\n",
    "gmsh.model.geo.addPoint(Lₚ/2, -Hₚ/2+Hm, 0.0, hd, 10)\n",
    "gmsh.model.geo.addPoint(Lₚ/2, -Hₚ/2+Hm+Hi, 0.0, hd, 11)\n",
    "gmsh.model.geo.addPoint(Lₚ/2, -Hₚ/2+2*Hm+Hi, 0.0, hd, 12)\n",
    "gmsh.model.geo.addPoint(Lₚ/2, -Hₚ/2+2*Hm+2*Hi, 0.0, hd, 13)\n",
    "gmsh.model.geo.addPoint(Lₚ/2, -Hₚ/2+3*Hm+2*Hi, 0.0, hd, 14)\n",
    "gmsh.model.geo.addPoint(LL, -Hₚ/2+3*Hm+2*Hi, 0.0, hd, 15)\n",
    "gmsh.model.geo.addPoint(-LL, -Hₚ/2+3*Hm+2*Hi, 0.0, hd, 16)\n",
    "gmsh.model.geo.addPoint(-Lₚ/2, -Hₚ/2+3*Hm+2*Hi, 0.0, hd, 17)\n",
    "gmsh.model.geo.addPoint(-Lₚ/2, -Hₚ/2+2*Hm+2*Hi, 0.0, hd, 18)\n",
    "gmsh.model.geo.addPoint(-Lₚ/2, -Hₚ/2+2*Hm+1*Hi, 0.0, hd, 19)\n",
    "gmsh.model.geo.addPoint(-Lₚ/2, -Hₚ/2+1*Hm+1*Hi, 0.0, hd, 20)\n",
    "gmsh.model.geo.addPoint(-Lₚ/2, -Hₚ/2+1*Hm, 0.0, hd, 21)\n",
    "\n",
    "gmsh.model.geo.addLine(1, 2, 1)\n",
    "gmsh.model.geo.addLine(2, 3, 2)\n",
    "gmsh.model.geo.addLine(3, 4, 3)\n",
    "gmsh.model.geo.addLine(4, 5, 4)\n",
    "gmsh.model.geo.addLine(5, 6, 5)\n",
    "gmsh.model.geo.addLine(6, 7, 6)\n",
    "gmsh.model.geo.addLine(7, 8, 7)\n",
    "gmsh.model.geo.addLine(8, 9, 8)\n",
    "gmsh.model.geo.addLine(9, 10, 9)\n",
    "gmsh.model.geo.addLine(10, 11, 10)\n",
    "gmsh.model.geo.addLine(11, 12, 11)\n",
    "gmsh.model.geo.addLine(12, 13, 12)\n",
    "gmsh.model.geo.addLine(13, 14, 13)\n",
    "gmsh.model.geo.addLine(14, 15, 14)\n",
    "gmsh.model.geo.addLine(15, 16, 15)\n",
    "gmsh.model.geo.addLine(16, 17, 16)\n",
    "gmsh.model.geo.addLine(17, 18, 17)\n",
    "gmsh.model.geo.addLine(18, 19, 18)\n",
    "gmsh.model.geo.addLine(19, 20, 19)\n",
    "gmsh.model.geo.addLine(20, 21, 20)\n",
    "gmsh.model.geo.addLine(21, 1, 21)\n",
    "\n",
    "gmsh.model.geo.addLine(10, 21, 101)\n",
    "gmsh.model.geo.addLine(11, 20, 102)\n",
    "gmsh.model.geo.addLine(12, 19, 103)\n",
    "gmsh.model.geo.addLine(13, 18, 104)\n",
    "\n",
    "gmsh.model.geo.addCurveLoop([1,2,3,4,5,6,7,8,9,101,21],1)\n",
    "gmsh.model.geo.addCurveLoop([10,102,20,-101],2)\n",
    "gmsh.model.geo.addCurveLoop([11,103,19,-102],3)\n",
    "gmsh.model.geo.addCurveLoop([12,104,18,-103],4)\n",
    "gmsh.model.geo.addCurveLoop([13,14,15,16,17,-104],5)\n",
    "\n",
    "gmsh.model.geo.addPlaneSurface([1], 1)\n",
    "gmsh.model.geo.addPlaneSurface([2], 2)\n",
    "gmsh.model.geo.addPlaneSurface([3], 3)\n",
    "gmsh.model.geo.addPlaneSurface([4], 4)\n",
    "gmsh.model.geo.addPlaneSurface([5], 5)\n",
    "\n",
    "gmsh.model.addPhysicalGroup(0, [2],1)\n",
    "gmsh.model.addPhysicalGroup(0, [8],2)\n",
    "\n",
    "gmsh.model.addPhysicalGroup(1, [15],1)\n",
    "\n",
    "gmsh.model.addPhysicalGroup(2, [1,5],1)\n",
    "gmsh.model.addPhysicalGroup(2, [3],2)\n",
    "gmsh.model.addPhysicalGroup(2, [2,4],3)\n",
    "\n",
    "gmsh.model.setPhysicalName(2, 1, \"Matrix\")\n",
    "gmsh.model.setPhysicalName(2, 2, \"Fiber\")\n",
    "gmsh.model.setPhysicalName(2, 3, \"Interface\")\n",
    "\n",
    "gmsh.model.setPhysicalName(1, 1, \"DirichletTop\")\n",
    "\n",
    "gmsh.model.setPhysicalName(0, 1, \"DirichletLeft\")\n",
    "gmsh.model.setPhysicalName(0, 2, \"DirichletRight\")\n",
    "\n",
    "\n",
    "gmsh.model.mesh.field.add(\"Box\", 11)\n",
    "gmsh.model.mesh.field.setNumber(11, \"VIn\", hf)\n",
    "gmsh.model.mesh.field.setNumber(11, \"VOut\", hd)\n",
    "gmsh.model.mesh.field.setNumber(11, \"XMin\", -0.5*Lₚ)\n",
    "gmsh.model.mesh.field.setNumber(11, \"XMax\", 0.5*Lₚ)\n",
    "gmsh.model.mesh.field.setNumber(11, \"YMin\", -Hm)\n",
    "gmsh.model.mesh.field.setNumber(11, \"YMax\", Hm)\n",
    "\n",
    "gmsh.model.mesh.field.add(\"Box\", 12)\n",
    "gmsh.model.mesh.field.setNumber(12, \"VIn\", hf)\n",
    "gmsh.model.mesh.field.setNumber(12, \"VOut\", hd)\n",
    "gmsh.model.mesh.field.setNumber(12, \"XMin\", -4*cw)\n",
    "gmsh.model.mesh.field.setNumber(12, \"XMax\", 4*cw)\n",
    "gmsh.model.mesh.field.setNumber(12, \"YMin\", -0.5*Hₚ)\n",
    "gmsh.model.mesh.field.setNumber(12, \"YMax\", 0.5*Hₚ)\n",
    "\n",
    "gmsh.model.mesh.field.add(\"Min\", 13)\n",
    "gmsh.model.mesh.field.setNumbers(13, \"FieldsList\", [11,12])\n",
    "\n",
    "gmsh.model.mesh.field.setAsBackgroundMesh(13)\n",
    "\n",
    "\n",
    "gmsh.model.geo.synchronize()\n",
    "gmsh.model.mesh.generate(2)\n",
    "\n",
    "gmsh.write(\"ThreePointBending.msh\")\n",
    "gmsh.finalize()"
   ]
  },
  {
   "cell_type": "code",
   "execution_count": 21,
   "id": "94502196",
   "metadata": {},
   "outputs": [
    {
     "name": "stdout",
     "output_type": "stream",
     "text": [
      "Info    : Reading 'ThreePointBending.msh'...\n",
      "Info    : 51 entities\n",
      "Info    : 39632 nodes\n",
      "Info    : 78977 elements\n",
      "Info    : Done reading 'ThreePointBending.msh'\n"
     ]
    },
    {
     "data": {
      "text/plain": [
       "3-element Vector{Vector{String}}:\n",
       " [\"ThreePointBending_0.vtu\"]\n",
       " [\"ThreePointBending_1.vtu\"]\n",
       " [\"ThreePointBending_2.vtu\"]"
      ]
     },
     "execution_count": 21,
     "metadata": {},
     "output_type": "execute_result"
    }
   ],
   "source": [
    "model = GmshDiscreteModel(\"ThreePointBending.msh\")\n",
    "writevtk(model ,\"ThreePointBending\")"
   ]
  },
  {
   "cell_type": "code",
   "execution_count": 22,
   "id": "dedb5b6a",
   "metadata": {},
   "outputs": [],
   "source": [
    "using Gridap.Geometry\n",
    "labels = get_face_labeling(model)\n",
    "dimension = 2\n",
    "mat_tags = get_face_tag(labels,dimension);"
   ]
  },
  {
   "cell_type": "code",
   "execution_count": 23,
   "id": "2878c2d1",
   "metadata": {},
   "outputs": [
    {
     "data": {
      "text/plain": [
       "Measure()"
      ]
     },
     "execution_count": 23,
     "metadata": {},
     "output_type": "execute_result"
    }
   ],
   "source": [
    "order = 1\n",
    "degree = 2*order\n",
    "Ω = Triangulation(model)\n",
    "dΩ = Measure(Ω,degree)"
   ]
  },
  {
   "cell_type": "code",
   "execution_count": 24,
   "id": "dc1e2a4c",
   "metadata": {},
   "outputs": [
    {
     "data": {
      "text/plain": [
       "CellPoint()"
      ]
     },
     "execution_count": 24,
     "metadata": {},
     "output_type": "execute_result"
    }
   ],
   "source": [
    "p = get_cell_points(Ω)"
   ]
  },
  {
   "cell_type": "code",
   "execution_count": 25,
   "id": "7894fc4a",
   "metadata": {},
   "outputs": [
    {
     "data": {
      "text/plain": [
       "#118 (generic function with 1 method)"
      ]
     },
     "execution_count": 25,
     "metadata": {},
     "output_type": "execute_result"
    }
   ],
   "source": [
    "λn = lambdify(smoothλ)\n",
    "μn = lambdify(smoothμ)\n",
    "Gn = lambdify(smoothG)"
   ]
  },
  {
   "cell_type": "code",
   "execution_count": 26,
   "id": "3a772a39",
   "metadata": {},
   "outputs": [
    {
     "data": {
      "text/plain": [
       "UnconstrainedFESpace()"
      ]
     },
     "execution_count": 26,
     "metadata": {},
     "output_type": "execute_result"
    }
   ],
   "source": [
    "λh(p) = λn.(p[1],p[2])\n",
    "μh(p) = μn.(p[1],p[2])\n",
    "Gh(p) = Gn.(p[1],p[2])\n",
    "reffe = ReferenceFE(lagrangian,Float64,order)\n",
    "V₁ = FESpace(model, reffe, conformity=:H1)"
   ]
  },
  {
   "cell_type": "code",
   "execution_count": 27,
   "id": "9341eadb",
   "metadata": {},
   "outputs": [
    {
     "data": {
      "text/plain": [
       "MultiFieldFESpace()"
      ]
     },
     "execution_count": 27,
     "metadata": {},
     "output_type": "execute_result"
    }
   ],
   "source": [
    "V₁₂ = MultiFieldFESpace([V₁,V₁,V₁])"
   ]
  },
  {
   "cell_type": "code",
   "execution_count": 28,
   "id": "5d07ffb3",
   "metadata": {},
   "outputs": [
    {
     "data": {
      "text/plain": [
       "MultiFieldFEFunction():\n",
       " num_cells: 78964\n",
       " DomainStyle: ReferenceDomain()\n",
       " Triangulation: BodyFittedTriangulation()\n",
       " Triangulation id: 4195481235500804601"
      ]
     },
     "execution_count": 28,
     "metadata": {},
     "output_type": "execute_result"
    }
   ],
   "source": [
    "λ_h,μ_h,G_h = interpolate_everywhere([λh,μh,Gh],V₁₂)"
   ]
  },
  {
   "cell_type": "code",
   "execution_count": 29,
   "id": "b6291480",
   "metadata": {},
   "outputs": [
    {
     "data": {
      "text/plain": [
       "σfun (generic function with 1 method)"
      ]
     },
     "execution_count": 29,
     "metadata": {},
     "output_type": "execute_result"
    }
   ],
   "source": [
    "function σfun(ε,ε_in,s_in,λ,μ)\n",
    "    σ_elas = λ*tr(ε)*one(ε) + 2*μ*ε\n",
    "    σ = (s_in ^2+η)*σ_elas\n",
    "    return  σ\n",
    "end"
   ]
  },
  {
   "cell_type": "code",
   "execution_count": 30,
   "id": "4f582946",
   "metadata": {},
   "outputs": [
    {
     "data": {
      "text/plain": [
       "ψPos (generic function with 1 method)"
      ]
     },
     "execution_count": 30,
     "metadata": {},
     "output_type": "execute_result"
    }
   ],
   "source": [
    "function ψPos(ε_in,λ,μ)\n",
    "    σ_elas = λ*tr(ε_in)*one(ε_in) + 2*μ*ε_in\n",
    "    σ_array = get_array(σ_elas)\n",
    "    Egn_Vals = eigvals(σ_array)\n",
    "    Egn_Vecs = eigvecs(σ_array)\n",
    "    σ1 = Egn_Vals[1]\n",
    "    σ2 = Egn_Vals[2]\n",
    "    n1 = VectorValue(Egn_Vecs[:,1])\n",
    "    n2 = VectorValue(Egn_Vecs[:,2])\n",
    " if (σ1)  >= 0\n",
    "        if (σ2)  >= 0\n",
    "            ψPlus = 0.5*(ε_in ⊙ (σ1*(n1 ⊗ n1) + σ2*(n2 ⊗ n2)))\n",
    "        else\n",
    "            ψPlus = 0.5*(ε_in ⊙ (σ1*(n1 ⊗ n1)))\n",
    "        end\n",
    "    elseif (σ1)  < 0\n",
    "        if (σ2)  >= 0\n",
    "            ψPlus = 0.5*(ε_in ⊙ (σ2*(n2 ⊗ n2)))\n",
    "        else\n",
    "            ψPlus = 0.0\n",
    "        end\n",
    "    end\n",
    "    return ψPlus\n",
    "end"
   ]
  },
  {
   "cell_type": "code",
   "execution_count": 31,
   "id": "b6fb6afc",
   "metadata": {},
   "outputs": [
    {
     "data": {
      "text/plain": [
       "new_EnergyState (generic function with 1 method)"
      ]
     },
     "execution_count": 31,
     "metadata": {},
     "output_type": "execute_result"
    }
   ],
   "source": [
    "function  new_EnergyState(ψPlusPrev_in,ψhPos_in)\n",
    "    ψPlus_in = ψhPos_in\n",
    "    if ψPlus_in  >=ψPlusPrev_in\n",
    "        ψPlus_out =ψPlus_in\n",
    "    else\n",
    "        ψPlus_out=ψPlusPrev_in\n",
    "    end\n",
    "    true,ψPlus_out\n",
    "end"
   ]
  },
  {
   "cell_type": "code",
   "execution_count": 32,
   "id": "c564a5f5",
   "metadata": {},
   "outputs": [
    {
     "data": {
      "text/plain": [
       "project (generic function with 1 method)"
      ]
     },
     "execution_count": 32,
     "metadata": {},
     "output_type": "execute_result"
    }
   ],
   "source": [
    "function  project(q,model ,dΩ,order)\n",
    "    reffe = ReferenceFE(lagrangian ,Float64 ,order)\n",
    "    V = FESpace(model ,reffe ,conformity =:L2)\n",
    "    a(u,v) =∫(u*v)*dΩ\n",
    "    b(v) =∫(v*q)*dΩ\n",
    "    op = AffineFEOperator(a,b,V,V)\n",
    "    qh = Gridap.solve(op)\n",
    "    return  qh\n",
    "end"
   ]
  },
  {
   "cell_type": "code",
   "execution_count": 33,
   "id": "5b15a1b1",
   "metadata": {},
   "outputs": [
    {
     "data": {
      "text/plain": [
       "SingleFieldFEFunction():\n",
       " num_cells: 78964\n",
       " DomainStyle: ReferenceDomain()\n",
       " Triangulation: BodyFittedTriangulation()\n",
       " Triangulation id: 4195481235500804601"
      ]
     },
     "execution_count": 33,
     "metadata": {},
     "output_type": "execute_result"
    }
   ],
   "source": [
    "reffe_PF = ReferenceFE(lagrangian ,Float64,order)\n",
    "V0_PF = TestFESpace(model ,reffe_PF;conformity =:H1)\n",
    "U_PF = TrialFESpace(V0_PF)\n",
    "sh = zero(V0_PF)"
   ]
  },
  {
   "cell_type": "code",
   "execution_count": 34,
   "id": "9f620064",
   "metadata": {
    "scrolled": false
   },
   "outputs": [
    {
     "data": {
      "text/plain": [
       "SingleFieldFEFunction():\n",
       " num_cells: 78964\n",
       " DomainStyle: ReferenceDomain()\n",
       " Triangulation: BodyFittedTriangulation()\n",
       " Triangulation id: 4195481235500804601"
      ]
     },
     "execution_count": 34,
     "metadata": {},
     "output_type": "execute_result"
    }
   ],
   "source": [
    "reffe_Disp = ReferenceFE(lagrangian,VectorValue{2,Float64},order)\n",
    "        V0_Disp = TestFESpace(model,reffe_Disp;\n",
    "          conformity=:H1,\n",
    "          dirichlet_tags=[\"DirichletLeft\",\"DirichletRight\",\"DirichletTop\"],\n",
    "          dirichlet_masks=[(true,true), (false,true),(false,true)])\n",
    "\n",
    "uh = zero(V0_Disp)"
   ]
  },
  {
   "cell_type": "code",
   "execution_count": 35,
   "id": "8c431896",
   "metadata": {
    "scrolled": true
   },
   "outputs": [
    {
     "data": {
      "text/plain": [
       "([\"MaterialProperties.vtu\"],)"
      ]
     },
     "execution_count": 35,
     "metadata": {},
     "output_type": "execute_result"
    }
   ],
   "source": [
    "writevtk(Ω,\"MaterialProperties\",cellfields= [\"λ\"=>λ_h,\"μ\"=>μ_h,\"Gc\"=>G_h])"
   ]
  },
  {
   "cell_type": "code",
   "execution_count": 36,
   "id": "acda4a6e",
   "metadata": {},
   "outputs": [
    {
     "data": {
      "text/plain": [
       "([\"lambda.vtu\"],)"
      ]
     },
     "execution_count": 36,
     "metadata": {},
     "output_type": "execute_result"
    }
   ],
   "source": [
    "writevtk(Ω,\"lambda\",cellfields= [\"λ\"=>λ_h])"
   ]
  },
  {
   "cell_type": "code",
   "execution_count": 37,
   "id": "3dd21650",
   "metadata": {},
   "outputs": [
    {
     "data": {
      "text/plain": [
       "GenericCellField():\n",
       " num_cells: 11\n",
       " DomainStyle: ReferenceDomain()\n",
       " Triangulation: BoundaryTriangulation()\n",
       " Triangulation id: 11293838723855179047"
      ]
     },
     "execution_count": 37,
     "metadata": {},
     "output_type": "execute_result"
    }
   ],
   "source": [
    "LoadTagId = get_tag_from_name(labels,\"DirichletTop\")\n",
    "Γ_Load = BoundaryTriangulation(model,tags = LoadTagId)\n",
    "dΓ_Load = Measure(Γ_Load,degree)\n",
    "n_Γ_Load = get_normal_vector(Γ_Load)"
   ]
  },
  {
   "cell_type": "code",
   "execution_count": 38,
   "id": "9171a771",
   "metadata": {},
   "outputs": [
    {
     "data": {
      "text/plain": [
       "stepPhaseField (generic function with 1 method)"
      ]
     },
     "execution_count": 38,
     "metadata": {},
     "output_type": "execute_result"
    }
   ],
   "source": [
    "function   stepPhaseField(uh_in ,ΨPlusPrev_in)\n",
    "    a_PF(s,φ) =∫( (G_h)*ls*∇(φ)⋅∇(s)+ 2*ΨPlusPrev_in*s*φ+ ((G_h)/ls)*s*φ)*dΩ\n",
    "    b_PF(φ) =∫( ((G_h)/ls)*φ)*dΩ\n",
    "    op_PF = AffineFEOperator(a_PF,b_PF ,U_PF ,V0_PF)\n",
    "    sh_out = Gridap.solve(op_PF)\n",
    "    return  sh_out\n",
    "end"
   ]
  },
  {
   "cell_type": "code",
   "execution_count": 39,
   "id": "81691306",
   "metadata": {},
   "outputs": [
    {
     "data": {
      "text/plain": [
       "stepDisp (generic function with 1 method)"
      ]
     },
     "execution_count": 39,
     "metadata": {},
     "output_type": "execute_result"
    }
   ],
   "source": [
    "function  stepDisp(uh_in,sh_in,λ,μ,vApp)\n",
    "    uApp1(x) = VectorValue(0.0,0.0)\n",
    "    uApp2(x) = VectorValue(0.0,0.0)\n",
    "    uApp3(x) = VectorValue(0.0,-vApp)\n",
    "    U_Disp = TrialFESpace(V0_Disp,[uApp1,uApp2,uApp3])\n",
    "    a_Disp(u,v) =∫( (ε(v)⊙(σfun∘(ε(u),ε(uh_in),sh_in,λ,μ)) ) )*dΩ\n",
    "    b_Disp(v) = 0.0\n",
    "    op_Disp = AffineFEOperator(a_Disp ,b_Disp ,U_Disp ,V0_Disp)\n",
    "    uh_out = Gridap.solve(op_Disp)\n",
    "    return  uh_out\n",
    "end"
   ]
  },
  {
   "cell_type": "code",
   "execution_count": 40,
   "id": "295f9b13",
   "metadata": {
    "scrolled": true
   },
   "outputs": [
    {
     "name": "stdout",
     "output_type": "stream",
     "text": [
      "\n",
      " Entering  displacemtent  step 1 :8.0e-6\n",
      " Relative Error :3.474512519582436e-17\n",
      " Entering  displacemtent  step 2 :1.6e-5\n",
      " Relative Error :2.0223543063514618e-7\n",
      " Relative Error :6.067059964354955e-7\n",
      " Relative Error :1.001512148067229e-11\n",
      " Entering  displacemtent  step 3 :2.4e-5\n",
      " Relative Error :9.699617190740348e-16\n",
      " Entering  displacemtent  step 4 :3.2e-5\n",
      " Relative Error :1.0111679331880385e-6\n",
      " Relative Error :1.4156542548838286e-6\n",
      " Relative Error :9.349151296783336e-11\n",
      " Entering  displacemtent  step 5 :3.9999999999999996e-5\n",
      " Relative Error :3.4169433563417966e-14\n",
      " Entering  displacemtent  step 6 :4.7999999999999994e-5\n",
      " Relative Error :1.8200443651143944e-6\n",
      " Relative Error :2.2246317852528248e-6\n",
      " Relative Error :3.3071669376378616e-10\n",
      " Entering  displacemtent  step 7 :5.599999999999999e-5\n",
      " Relative Error :2.7164314729968105e-13\n",
      " Entering  displacemtent  step 8 :6.4e-5\n",
      " Relative Error :2.628808077004311e-6\n",
      " Relative Error :3.0336622853804403e-6\n",
      " Relative Error :8.023274135831301e-10\n",
      " Entering  displacemtent  step 9 :7.2e-5\n",
      " Relative Error :1.1721056036923156e-12\n",
      " Entering  displacemtent  step 10 :8.0e-5\n",
      " Relative Error :3.4374019233210448e-6\n",
      " Relative Error :3.842769401750739e-6\n",
      " Relative Error :1.5895500848760542e-9\n",
      " Entering  displacemtent  step 11 :8.800000000000001e-5\n",
      " Relative Error :3.631302547320874e-12\n",
      " Entering  displacemtent  step 12 :9.600000000000002e-5\n",
      " Relative Error :4.2457679865874874e-6\n",
      " Relative Error :4.651976721957925e-6\n",
      " Relative Error :2.7743969163619023e-9\n",
      " Entering  displacemtent  step 13 :0.00010400000000000002\n",
      " Relative Error :9.136272342418657e-12\n",
      " Entering  displacemtent  step 14 :0.00011200000000000003\n",
      " Relative Error :5.053847290720146e-6\n",
      " Relative Error :5.461307763083323e-6\n",
      " Relative Error :4.4399597386647106e-9\n",
      " Entering  displacemtent  step 15 :0.00012000000000000003\n",
      " Relative Error :1.992594680085595e-11\n",
      " Entering  displacemtent  step 16 :0.00012800000000000002\n",
      " Relative Error :5.861579520415418e-6\n",
      " Relative Error :6.270785988448788e-6\n",
      " Relative Error :6.670598484704265e-9\n",
      " Entering  displacemtent  step 17 :0.00013600000000000003\n",
      " Relative Error :3.915811796373037e-11\n",
      " Entering  displacemtent  step 18 :0.00014400000000000003\n",
      " Relative Error :6.668902736965902e-6\n",
      " Relative Error :7.080434700545799e-6\n",
      " Relative Error :9.552094668186972e-9\n",
      " Entering  displacemtent  step 19 :0.00015200000000000004\n",
      " Relative Error :7.108675150720978e-11\n",
      " Entering  displacemtent  step 20 :0.00016000000000000004\n",
      " Relative Error :7.475753047819161e-6\n",
      " Relative Error :7.890277122446017e-6\n",
      " Relative Error :1.3172120622545922e-8\n",
      " Relative Error :1.2124944014380107e-10\n",
      " Entering  displacemtent  step 21 :0.00016800000000000004\n",
      " Relative Error :1.4273642289588825e-12\n",
      " Entering  displacemtent  step 22 :0.00017600000000000005\n",
      " Relative Error :8.28206288403071e-6\n",
      " Relative Error :8.700336337454591e-6\n",
      " Relative Error :1.7620253045721227e-8\n",
      " Relative Error :1.9666738449516106e-10\n",
      " Entering  displacemtent  step 23 :0.00018400000000000005\n",
      " Relative Error :2.8058841212666105e-12\n",
      " Entering  displacemtent  step 24 :0.00019200000000000006\n",
      " Relative Error :9.087764941429712e-6\n",
      " Relative Error :9.510635166327275e-6\n",
      " Relative Error :2.298853090607607e-8\n",
      " Relative Error :3.0606346590694906e-10\n",
      " Entering  displacemtent  step 25 :0.00020000000000000006\n",
      " Relative Error :5.205970242501156e-12\n",
      " Entering  displacemtent  step 26 :0.00020800000000000007\n",
      " Relative Error :9.892786508721611e-6\n",
      " Relative Error :1.032119637053779e-5\n",
      " Relative Error :2.9370657692158292e-8\n",
      " Relative Error :4.600774476394411e-10\n",
      " Entering  displacemtent  step 27 :0.00021600000000000007\n",
      " Relative Error :9.202253927808092e-12\n",
      " Entering  displacemtent  step 28 :0.00022400000000000008\n",
      " Relative Error :1.069705198834907e-5\n",
      " Relative Error :1.1132041982619881e-5\n",
      " Relative Error :3.686526763136906e-8\n",
      " Relative Error :6.715756355116233e-10\n",
      " Entering  displacemtent  step 29 :0.00023200000000000008\n",
      " Relative Error :1.561171596262039e-11\n",
      " Entering  displacemtent  step 30 :0.0002400000000000001\n",
      " Relative Error :1.1500481940773607e-5\n",
      " Relative Error :1.1943195457339757e-5\n",
      " Relative Error :4.557219791135819e-8\n",
      " Relative Error :9.558465219238515e-10\n",
      " Entering  displacemtent  step 31 :0.00024800000000000007\n",
      " Relative Error :2.556646429197429e-11\n",
      " Entering  displacemtent  step 32 :0.00025600000000000004\n",
      " Relative Error :1.2302992403472061e-5\n",
      " Relative Error :1.275467569713884e-5\n",
      " Relative Error :5.559231651629895e-8\n",
      " Relative Error :1.3307933783442508e-9\n",
      " Entering  displacemtent  step 33 :0.000264\n",
      " Relative Error :4.059898230424449e-11\n",
      " Entering  displacemtent  step 34 :0.000272\n",
      " Relative Error :1.3104494365689216e-5\n",
      " Relative Error :1.3566508074988232e-5\n",
      " Relative Error :6.704013111229649e-8\n",
      " Relative Error :1.8178733040646328e-9\n",
      " Entering  displacemtent  step 35 :0.00028\n",
      " Relative Error :6.277415599451694e-11\n",
      " Entering  displacemtent  step 36 :0.00028799999999999995\n",
      " Relative Error :1.3904892101286937e-5\n",
      " Relative Error :1.4378712749037311e-5\n",
      " Relative Error :8.00246558768478e-8\n",
      " Relative Error :2.4415827208535597e-9\n",
      " Entering  displacemtent  step 37 :0.00029599999999999993\n",
      " Relative Error :9.479102995599571e-11\n",
      " Entering  displacemtent  step 38 :0.0003039999999999999\n",
      " Relative Error :1.4704086828729082e-5\n",
      " Relative Error :1.5191310362330217e-5\n",
      " Relative Error :9.465871632149332e-8\n",
      " Relative Error :3.2303378566757586e-9\n",
      " Entering  displacemtent  step 39 :0.0003119999999999999\n",
      " Relative Error :1.4016049487919306e-10\n",
      " Entering  displacemtent  step 40 :0.00031999999999999986\n",
      " Relative Error :1.5501970285710288e-5\n",
      " Relative Error :1.6004320005259045e-5\n",
      " Relative Error :1.1107121761898344e-7\n",
      " Relative Error :4.217082715816425e-9\n",
      " Entering  displacemtent  step 41 :0.00032799999999999984\n",
      " Relative Error :2.0339370594943757e-10\n",
      " Entering  displacemtent  step 42 :0.0003359999999999998\n",
      " Relative Error :1.6298427380987424e-5\n",
      " Relative Error :1.681776681823477e-5\n",
      " Relative Error :1.2938845572725098e-7\n",
      " Relative Error :5.439369413671484e-9\n",
      " Entering  displacemtent  step 43 :0.0003439999999999998\n",
      " Relative Error :2.902234583900701e-10\n",
      " Entering  displacemtent  step 44 :0.0003519999999999998\n",
      " Relative Error :1.7093333525889287e-5\n",
      " Relative Error :1.7631668990248243e-5\n",
      " Relative Error :1.497453188409141e-7\n",
      " Relative Error :6.940308940221363e-9\n",
      " Entering  displacemtent  step 45 :0.00035999999999999975\n",
      " Relative Error :4.0788045813462477e-10\n",
      " Entering  displacemtent  step 46 :0.00036799999999999973\n",
      " Relative Error :1.7886555058084328e-5\n",
      " Relative Error :1.844604551805547e-5\n",
      " Relative Error :1.7228021606397975e-7\n",
      " Relative Error :8.76884308669639e-9\n",
      " Entering  displacemtent  step 47 :0.0003759999999999997\n",
      " Relative Error :5.653999400930033e-10\n",
      " Entering  displacemtent  step 48 :0.0003839999999999997\n",
      " Relative Error :1.8677949624819766e-5\n",
      " Relative Error :1.9260915148136947e-5\n",
      " Relative Error :1.9714072936243426e-7\n",
      " Relative Error :1.0980511626186678e-8\n",
      " Relative Error :7.739973098125883e-10\n",
      " Entering  displacemtent  step 49 :0.00039199999999999966\n",
      " Relative Error :5.7288227201394705e-11"
     ]
    },
    {
     "ename": "LoadError",
     "evalue": "InterruptException:",
     "output_type": "error",
     "traceback": [
      "InterruptException:",
      "",
      "Stacktrace:",
      "  [1] broadcast_shape(::Tuple{Int64}, ::Tuple{Int64}, ::Tuple{Int64}, ::Vararg{Tuple{Int64}})",
      "    @ Base.Broadcast ./broadcast.jl:504",
      "  [2] _prepare_cache!(::Gridap.Arrays.CachedVector{Float64, Vector{Float64}}, ::Vector{SymTensorValue{2, Float64, 3}}, ::Vararg{Any})",
      "    @ Gridap.Arrays ~/.julia/packages/Gridap/kce3i/src/Arrays/Maps.jl:218",
      "  [3] evaluate!",
      "    @ ~/.julia/packages/Gridap/kce3i/src/Arrays/Maps.jl:160 [inlined]",
      "  [4] evaluate!",
      "    @ ~/.julia/packages/Gridap/kce3i/src/Fields/FieldArrays.jl:502 [inlined]",
      "  [5] _getindex_and_call!(cgi::Gridap.Arrays.CachedVector{Float64, Vector{Float64}}, gi::Gridap.Fields.BroadcastingFieldOpMap{typeof(ψPos)}, cf::Tuple{Tuple{Tuple{Nothing, Gridap.Arrays.CachedVector{SymTensorValue{2, Float64, 3}, Vector{SymTensorValue{2, Float64, 3}}}, Tuple{Tuple{Tuple{Nothing, Gridap.Arrays.CachedVector{TensorValue{2, 2, Float64, 4}, Vector{TensorValue{2, 2, Float64, 4}}}, Tuple{Tuple{Tuple{Nothing, Gridap.Arrays.CachedVector{TensorValue{2, 2, Float64, 4}, Vector{TensorValue{2, 2, Float64, 4}}}, Tuple{Tuple{Tuple{Tuple{Tuple{Nothing, Nothing, Tuple{Tuple{Tuple{Nothing, Nothing, Tuple{Tuple{Tuple{Nothing, Gridap.Arrays.CachedVector{VectorValue{2, Float64}, Vector{VectorValue{2, Float64}}}, Tuple{Gridap.Arrays.CachedVector{Int64, Vector{Int64}}}}, Gridap.Arrays.IndexItemPair{Int64, Vector{VectorValue{2, Float64}}}}, Nothing}}, Gridap.Arrays.IndexItemPair{Int64, TensorValue{2, 2, Float64, 4}}}}}, Gridap.Arrays.IndexItemPair{Int64, ConstantField{TensorValue{2, 2, Float64, 4}}}}, Gridap.Arrays.CachedVector{TensorValue{2, 2, Float64, 4}, Vector{TensorValue{2, 2, Float64, 4}}}, Tuple{Nothing}}, Gridap.Arrays.IndexItemPair{Int64, Vector{TensorValue{2, 2, Float64, 4}}}}}}, Gridap.Arrays.IndexItemPair{Int64, Vector{TensorValue{2, 2, Float64, 4}}}}, Tuple{Tuple{Nothing, Gridap.Arrays.CachedVector{TensorValue{2, 2, Float64, 4}, Vector{TensorValue{2, 2, Float64, 4}}}, Tuple{Tuple{Tuple{Nothing, Gridap.Arrays.CachedVector{Float64, Vector{Float64}}, Tuple{Gridap.Arrays.CachedVector{Int32, Vector{Int32}}}}, Gridap.Arrays.IndexItemPair{Int64, Vector{Float64}}}, Nothing}}, Gridap.Arrays.IndexItemPair{Int64, Vector{TensorValue{2, 2, Float64, 4}}}}}}, Gridap.Arrays.IndexItemPair{Int64, Vector{TensorValue{2, 2, Float64, 4}}}}}}, Gridap.Arrays.IndexItemPair{Int64, Vector{SymTensorValue{2, Float64, 3}}}}, Tuple{Tuple{Nothing, Gridap.Arrays.CachedVector{Float64, Vector{Float64}}, Tuple{Tuple{Tuple{Nothing, Gridap.Arrays.CachedVector{Float64, Vector{Float64}}, Tuple{Gridap.Arrays.CachedVector{Int32, Vector{Int32}}}}, Gridap.Arrays.IndexItemPair{Int64, Vector{Float64}}}, Nothing}}, Gridap.Arrays.IndexItemPair{Int64, Vector{Float64}}}, Tuple{Tuple{Nothing, Gridap.Arrays.CachedVector{Float64, Vector{Float64}}, Tuple{Tuple{Tuple{Nothing, Gridap.Arrays.CachedVector{Float64, Vector{Float64}}, Tuple{Gridap.Arrays.CachedVector{Int32, Vector{Int32}}}}, Gridap.Arrays.IndexItemPair{Int64, Vector{Float64}}}, Nothing}}, Gridap.Arrays.IndexItemPair{Int64, Vector{Float64}}}}, args::Tuple{Gridap.Arrays.LazyArray{FillArrays.Fill{Gridap.Fields.BroadcastingFieldOpMap{typeof(symmetric_part)}, 1, Tuple{Base.OneTo{Int64}}}, Vector{SymTensorValue{2, Float64, 3}}, 1, Tuple{Gridap.Arrays.LazyArray{FillArrays.Fill{Gridap.Fields.BroadcastingFieldOpMap{typeof(dot)}, 1, Tuple{Base.OneTo{Int64}}}, Vector{TensorValue{2, 2, Float64, 4}}, 1, Tuple{Gridap.Arrays.LazyArray{FillArrays.Fill{Broadcasting{typeof(pinvJt)}, 1, Tuple{Base.OneTo{Int64}}}, Vector{TensorValue{2, 2, Float64, 4}}, 1, Tuple{Gridap.Arrays.LazyArray{Gridap.Arrays.LazyArray{FillArrays.Fill{typeof(constant_field), 1, Tuple{Base.OneTo{Int64}}}, ConstantField{TensorValue{2, 2, Float64, 4}}, 1, Tuple{Gridap.Arrays.LazyArray{FillArrays.Fill{Gridap.Fields.LinearCombinationMap{Colon}, 1, Tuple{Base.OneTo{Int64}}}, TensorValue{2, 2, Float64, 4}, 1, Tuple{Gridap.Arrays.LazyArray{FillArrays.Fill{Broadcasting{Reindex{Vector{VectorValue{2, Float64}}}}, 1, Tuple{Base.OneTo{Int64}}}, Vector{VectorValue{2, Float64}}, 1, Tuple{Gridap.Arrays.Table{Int64, Vector{Int64}, Vector{Int32}}}}, Gridap.Arrays.CompressedArray{Vector{VectorValue{2, Float64}}, 1, Vector{Vector{VectorValue{2, Float64}}}, Vector{Int8}}}}}}, Vector{TensorValue{2, 2, Float64, 4}}, 1, Tuple{Gridap.Arrays.CompressedArray{Vector{VectorValue{2, Float64}}, 1, Vector{Vector{VectorValue{2, Float64}}}, Vector{Int8}}}}}}, Gridap.Arrays.LazyArray{FillArrays.Fill{Gridap.Fields.LinearCombinationMap{Colon}, 1, Tuple{Base.OneTo{Int64}}}, Vector{TensorValue{2, 2, Float64, 4}}, 1, Tuple{Gridap.Arrays.LazyArray{FillArrays.Fill{Broadcasting{Gridap.Arrays.PosNegReindex{Vector{Float64}, Vector{Float64}}}, 1, Tuple{Base.OneTo{Int64}}}, Vector{Float64}, 1, Tuple{Gridap.Arrays.Table{Int32, Vector{Int32}, Vector{Int32}}}}, Gridap.Arrays.CompressedArray{Matrix{TensorValue{2, 2, Float64, 4}}, 1, Vector{Matrix{TensorValue{2, 2, Float64, 4}}}, Vector{Int8}}}}}}}}, Gridap.Arrays.LazyArray{FillArrays.Fill{Gridap.Fields.LinearCombinationMap{Colon}, 1, Tuple{Base.OneTo{Int64}}}, Vector{Float64}, 1, Tuple{Gridap.Arrays.LazyArray{FillArrays.Fill{Broadcasting{Gridap.Arrays.PosNegReindex{Gridap.Arrays.SubVector{Float64, Vector{Float64}}, Vector{Float64}}}, 1, Tuple{Base.OneTo{Int64}}}, Vector{Float64}, 1, Tuple{Gridap.Arrays.Table{Int32, Vector{Int32}, Vector{Int32}}}}, Gridap.Arrays.CompressedArray{Matrix{Float64}, 1, Vector{Matrix{Float64}}, Vector{Int8}}}}, Gridap.Arrays.LazyArray{FillArrays.Fill{Gridap.Fields.LinearCombinationMap{Colon}, 1, Tuple{Base.OneTo{Int64}}}, Vector{Float64}, 1, Tuple{Gridap.Arrays.LazyArray{FillArrays.Fill{Broadcasting{Gridap.Arrays.PosNegReindex{Gridap.Arrays.SubVector{Float64, Vector{Float64}}, Vector{Float64}}}, 1, Tuple{Base.OneTo{Int64}}}, Vector{Float64}, 1, Tuple{Gridap.Arrays.Table{Int32, Vector{Int32}, Vector{Int32}}}}, Gridap.Arrays.CompressedArray{Matrix{Float64}, 1, Vector{Matrix{Float64}}, Vector{Int8}}}}}, i::Int64)",
      "    @ Gridap.Arrays ~/.julia/packages/Gridap/kce3i/src/Arrays/LazyArrays.jl:340",
      "  [6] getindex!",
      "    @ ~/.julia/packages/Gridap/kce3i/src/Arrays/LazyArrays.jl:214 [inlined]",
      "  [7] #62",
      "    @ ~/.julia/packages/Gridap/kce3i/src/CellData/CellStates.jl:120 [inlined]",
      "  [8] map",
      "    @ ./tuple.jl:247 [inlined]",
      "  [9] _update_state_variables!(updater::Function, caches::Tuple{Nothing, Tuple{Tuple{Nothing, Gridap.Arrays.CachedVector{Float64, Vector{Float64}}, Tuple{Tuple{Tuple{Nothing, Gridap.Arrays.CachedVector{SymTensorValue{2, Float64, 3}, Vector{SymTensorValue{2, Float64, 3}}}, Tuple{Tuple{Tuple{Nothing, Gridap.Arrays.CachedVector{TensorValue{2, 2, Float64, 4}, Vector{TensorValue{2, 2, Float64, 4}}}, Tuple{Tuple{Tuple{Nothing, Gridap.Arrays.CachedVector{TensorValue{2, 2, Float64, 4}, Vector{TensorValue{2, 2, Float64, 4}}}, Tuple{Tuple{Tuple{Tuple{Tuple{Nothing, Nothing, Tuple{Tuple{Tuple{Nothing, Nothing, Tuple{Tuple{Tuple{Nothing, Gridap.Arrays.CachedVector{VectorValue{2, Float64}, Vector{VectorValue{2, Float64}}}, Tuple{Gridap.Arrays.CachedVector{Int64, Vector{Int64}}}}, Gridap.Arrays.IndexItemPair{Int64, Vector{VectorValue{2, Float64}}}}, Nothing}}, Gridap.Arrays.IndexItemPair{Int64, TensorValue{2, 2, Float64, 4}}}}}, Gridap.Arrays.IndexItemPair{Int64, ConstantField{TensorValue{2, 2, Float64, 4}}}}, Gridap.Arrays.CachedVector{TensorValue{2, 2, Float64, 4}, Vector{TensorValue{2, 2, Float64, 4}}}, Tuple{Nothing}}, Gridap.Arrays.IndexItemPair{Int64, Vector{TensorValue{2, 2, Float64, 4}}}}}}, Gridap.Arrays.IndexItemPair{Int64, Vector{TensorValue{2, 2, Float64, 4}}}}, Tuple{Tuple{Nothing, Gridap.Arrays.CachedVector{TensorValue{2, 2, Float64, 4}, Vector{TensorValue{2, 2, Float64, 4}}}, Tuple{Tuple{Tuple{Nothing, Gridap.Arrays.CachedVector{Float64, Vector{Float64}}, Tuple{Gridap.Arrays.CachedVector{Int32, Vector{Int32}}}}, Gridap.Arrays.IndexItemPair{Int64, Vector{Float64}}}, Nothing}}, Gridap.Arrays.IndexItemPair{Int64, Vector{TensorValue{2, 2, Float64, 4}}}}}}, Gridap.Arrays.IndexItemPair{Int64, Vector{TensorValue{2, 2, Float64, 4}}}}}}, Gridap.Arrays.IndexItemPair{Int64, Vector{SymTensorValue{2, Float64, 3}}}}, Tuple{Tuple{Nothing, Gridap.Arrays.CachedVector{Float64, Vector{Float64}}, Tuple{Tuple{Tuple{Nothing, Gridap.Arrays.CachedVector{Float64, Vector{Float64}}, Tuple{Gridap.Arrays.CachedVector{Int32, Vector{Int32}}}}, Gridap.Arrays.IndexItemPair{Int64, Vector{Float64}}}, Nothing}}, Gridap.Arrays.IndexItemPair{Int64, Vector{Float64}}}, Tuple{Tuple{Nothing, Gridap.Arrays.CachedVector{Float64, Vector{Float64}}, Tuple{Tuple{Tuple{Nothing, Gridap.Arrays.CachedVector{Float64, Vector{Float64}}, Tuple{Gridap.Arrays.CachedVector{Int32, Vector{Int32}}}}, Gridap.Arrays.IndexItemPair{Int64, Vector{Float64}}}, Nothing}}, Gridap.Arrays.IndexItemPair{Int64, Vector{Float64}}}}}, Gridap.Arrays.IndexItemPair{Int64, Vector{Float64}}}}, fx::Tuple{Vector{Vector{Float64}}, Gridap.Arrays.LazyArray{FillArrays.Fill{Gridap.Fields.BroadcastingFieldOpMap{typeof(ψPos)}, 1, Tuple{Base.OneTo{Int64}}}, Vector{Float64}, 1, Tuple{Gridap.Arrays.LazyArray{FillArrays.Fill{Gridap.Fields.BroadcastingFieldOpMap{typeof(symmetric_part)}, 1, Tuple{Base.OneTo{Int64}}}, Vector{SymTensorValue{2, Float64, 3}}, 1, Tuple{Gridap.Arrays.LazyArray{FillArrays.Fill{Gridap.Fields.BroadcastingFieldOpMap{typeof(dot)}, 1, Tuple{Base.OneTo{Int64}}}, Vector{TensorValue{2, 2, Float64, 4}}, 1, Tuple{Gridap.Arrays.LazyArray{FillArrays.Fill{Broadcasting{typeof(pinvJt)}, 1, Tuple{Base.OneTo{Int64}}}, Vector{TensorValue{2, 2, Float64, 4}}, 1, Tuple{Gridap.Arrays.LazyArray{Gridap.Arrays.LazyArray{FillArrays.Fill{typeof(constant_field), 1, Tuple{Base.OneTo{Int64}}}, ConstantField{TensorValue{2, 2, Float64, 4}}, 1, Tuple{Gridap.Arrays.LazyArray{FillArrays.Fill{Gridap.Fields.LinearCombinationMap{Colon}, 1, Tuple{Base.OneTo{Int64}}}, TensorValue{2, 2, Float64, 4}, 1, Tuple{Gridap.Arrays.LazyArray{FillArrays.Fill{Broadcasting{Reindex{Vector{VectorValue{2, Float64}}}}, 1, Tuple{Base.OneTo{Int64}}}, Vector{VectorValue{2, Float64}}, 1, Tuple{Gridap.Arrays.Table{Int64, Vector{Int64}, Vector{Int32}}}}, Gridap.Arrays.CompressedArray{Vector{VectorValue{2, Float64}}, 1, Vector{Vector{VectorValue{2, Float64}}}, Vector{Int8}}}}}}, Vector{TensorValue{2, 2, Float64, 4}}, 1, Tuple{Gridap.Arrays.CompressedArray{Vector{VectorValue{2, Float64}}, 1, Vector{Vector{VectorValue{2, Float64}}}, Vector{Int8}}}}}}, Gridap.Arrays.LazyArray{FillArrays.Fill{Gridap.Fields.LinearCombinationMap{Colon}, 1, Tuple{Base.OneTo{Int64}}}, Vector{TensorValue{2, 2, Float64, 4}}, 1, Tuple{Gridap.Arrays.LazyArray{FillArrays.Fill{Broadcasting{Gridap.Arrays.PosNegReindex{Vector{Float64}, Vector{Float64}}}, 1, Tuple{Base.OneTo{Int64}}}, Vector{Float64}, 1, Tuple{Gridap.Arrays.Table{Int32, Vector{Int32}, Vector{Int32}}}}, Gridap.Arrays.CompressedArray{Matrix{TensorValue{2, 2, Float64, 4}}, 1, Vector{Matrix{TensorValue{2, 2, Float64, 4}}}, Vector{Int8}}}}}}}}, Gridap.Arrays.LazyArray{FillArrays.Fill{Gridap.Fields.LinearCombinationMap{Colon}, 1, Tuple{Base.OneTo{Int64}}}, Vector{Float64}, 1, Tuple{Gridap.Arrays.LazyArray{FillArrays.Fill{Broadcasting{Gridap.Arrays.PosNegReindex{Gridap.Arrays.SubVector{Float64, Vector{Float64}}, Vector{Float64}}}, 1, Tuple{Base.OneTo{Int64}}}, Vector{Float64}, 1, Tuple{Gridap.Arrays.Table{Int32, Vector{Int32}, Vector{Int32}}}}, Gridap.Arrays.CompressedArray{Matrix{Float64}, 1, Vector{Matrix{Float64}}, Vector{Int8}}}}, Gridap.Arrays.LazyArray{FillArrays.Fill{Gridap.Fields.LinearCombinationMap{Colon}, 1, Tuple{Base.OneTo{Int64}}}, Vector{Float64}, 1, Tuple{Gridap.Arrays.LazyArray{FillArrays.Fill{Broadcasting{Gridap.Arrays.PosNegReindex{Gridap.Arrays.SubVector{Float64, Vector{Float64}}, Vector{Float64}}}, 1, Tuple{Base.OneTo{Int64}}}, Vector{Float64}, 1, Tuple{Gridap.Arrays.Table{Int32, Vector{Int32}, Vector{Int32}}}}, Gridap.Arrays.CompressedArray{Matrix{Float64}, 1, Vector{Matrix{Float64}}, Vector{Int8}}}}}}}, cache_x::Nothing, x::Gridap.Arrays.CompressedArray{Vector{VectorValue{2, Float64}}, 1, Vector{Vector{VectorValue{2, Float64}}}, Vector{Int8}})",
      "    @ Gridap.CellData ~/.julia/packages/Gridap/kce3i/src/CellData/CellStates.jl:120",
      " [10] update_state!(::Function, ::CellState{Float64, CellPoint{ReferenceDomain, Gridap.Arrays.CompressedArray{Vector{VectorValue{2, Float64}}, 1, Vector{Vector{VectorValue{2, Float64}}}, Vector{Int8}}, Gridap.Arrays.LazyArray{Gridap.Arrays.LazyArray{FillArrays.Fill{typeof(affine_map), 1, Tuple{Base.OneTo{Int64}}}, AffineMap{2, 2, Float64, 4}, 1, Tuple{Gridap.Arrays.LazyArray{FillArrays.Fill{Gridap.Fields.LinearCombinationMap{Colon}, 1, Tuple{Base.OneTo{Int64}}}, TensorValue{2, 2, Float64, 4}, 1, Tuple{Gridap.Arrays.LazyArray{FillArrays.Fill{Broadcasting{Reindex{Vector{VectorValue{2, Float64}}}}, 1, Tuple{Base.OneTo{Int64}}}, Vector{VectorValue{2, Float64}}, 1, Tuple{Gridap.Arrays.Table{Int64, Vector{Int64}, Vector{Int32}}}}, Gridap.Arrays.CompressedArray{Vector{VectorValue{2, Float64}}, 1, Vector{Vector{VectorValue{2, Float64}}}, Vector{Int8}}}}, Gridap.Arrays.LazyArray{FillArrays.Fill{Gridap.Fields.LinearCombinationMap{Colon}, 1, Tuple{Base.OneTo{Int64}}}, VectorValue{2, Float64}, 1, Tuple{Gridap.Arrays.LazyArray{FillArrays.Fill{Broadcasting{Reindex{Vector{VectorValue{2, Float64}}}}, 1, Tuple{Base.OneTo{Int64}}}, Vector{VectorValue{2, Float64}}, 1, Tuple{Gridap.Arrays.Table{Int64, Vector{Int64}, Vector{Int32}}}}, Gridap.Arrays.CompressedArray{Vector{Float64}, 1, Vector{Vector{Float64}}, Vector{Int8}}}}}}, Vector{VectorValue{2, Float64}}, 1, Tuple{Gridap.Arrays.CompressedArray{Vector{VectorValue{2, Float64}}, 1, Vector{Vector{VectorValue{2, Float64}}}, Vector{Int8}}}}, BodyFittedTriangulation{2, 2, UnstructuredDiscreteModel{2, 2, Float64, Oriented}, UnstructuredGrid{2, 2, Float64, Oriented, Nothing}, Gridap.Arrays.IdentityVector{Int64}}}}, ::Vararg{CellField})",
      "    @ Gridap.CellData ~/.julia/packages/Gridap/kce3i/src/CellData/CellStates.jl:113",
      " [11] top-level scope",
      "    @ ./In[40]:32",
      " [12] eval",
      "    @ ./boot.jl:373 [inlined]",
      " [13] include_string(mapexpr::typeof(REPL.softscope), mod::Module, code::String, filename::String)",
      "    @ Base ./loading.jl:1196"
     ]
    }
   ],
   "source": [
    "vApp = 0\n",
    "const  vAppMax = 0.004\n",
    "delv = vAppMax/500\n",
    "innerMax = 10\n",
    "count = 0\n",
    "Load = Float64[]\n",
    "Displacement = Float64[]\n",
    "\n",
    "push!(Load, 0.0)\n",
    "push!(Displacement, 0.0)\n",
    "\n",
    "sPrev = CellState(1.0,dΩ)\n",
    "sh = project(sPrev ,model ,dΩ,order)\n",
    "ψPlusPrev = CellState(0.0,dΩ)\n",
    "\n",
    "while  vApp .< vAppMax\n",
    "    count = count  .+ 1\n",
    "    #=if vApp  >= 0.01\n",
    "        delv = 1e-4\n",
    "end=#\n",
    "    \n",
    "    vApp = vApp .+ delv\n",
    "    print(\"\\n Entering  displacemtent  step $count :\", float(vApp))\n",
    "\n",
    "    for  inner = 1: innerMax\n",
    "        ψhPlusPrev = project(ψPlusPrev ,model ,dΩ,order)\n",
    "        RelErr = abs(sum(∫( (G_h)*ls*∇(sh)⋅∇(sh) + 2*ψhPlusPrev*sh*sh + ((G_h)/ls)*sh*sh)*dΩ-∫( ((G_h)/ls)*sh)*dΩ))/abs(sum(∫( ((G_h)/ls)*sh)*dΩ))\n",
    "        print(\"\\n Relative Error :\", float(RelErr))\n",
    "        sh = stepPhaseField(uh,ψhPlusPrev)\n",
    "        uh = stepDisp(uh,sh,λ_h,μ_h,vApp)\n",
    "        ψhPos_in =ψPos∘(ε(uh),λ_h,μ_h)\n",
    "        update_state!( new_EnergyState ,ψPlusPrev ,ψhPos_in)\n",
    "        if   RelErr  < 1e-8\n",
    "            break\n",
    "        end\n",
    "    end\n",
    "    Node_Force = sum(∫(n_Γ_Load⋅(σfun∘(ε(uh),ε(uh),sh,λ_h,μ_h)))*dΓ_Load)\n",
    "    push!(Load , -Node_Force[2])\n",
    "    push!( Displacement , vApp)\n",
    "    writevtk(Ω,\"results_SymThreePtBendingTest$count\",cellfields= [\"uh\"=>uh ,\"s\"=>sh,\"epsi\"=>ε(uh)])\n",
    " end"
   ]
  },
  {
   "cell_type": "code",
   "execution_count": 41,
   "id": "4be0efa8",
   "metadata": {},
   "outputs": [
    {
     "data": {
      "image/png": "[encoded data removed]"
     },
     "execution_count": 41,
     "metadata": {},
     "output_type": "execute_result"
    }
   ],
   "source": [
    "dispPlot = plot(Displacement,Load,label = nothing)\n",
    "xlabel!(\"Displacement (mm)\")\n",
    "ylabel!(\"Load (N)\")"
   ]
  },
  {
   "cell_type": "code",
   "execution_count": 42,
   "id": "8b11c80e",
   "metadata": {},
   "outputs": [],
   "source": [
    "savefig(dispPlot,\"DisplacementPlot.pdf\")"
   ]
  },
  {
   "cell_type": "code",
   "execution_count": 43,
   "id": "68136141",
   "metadata": {},
   "outputs": [
    {
     "data": {
      "text/plain": [
       "7.235648802041901"
      ]
     },
     "execution_count": 43,
     "metadata": {},
     "output_type": "execute_result"
    }
   ],
   "source": [
    "maximum(Load)"
   ]
  },
  {
   "cell_type": "code",
   "execution_count": 44,
   "id": "7ae05e0e",
   "metadata": {},
   "outputs": [],
   "source": [
    "using DelimitedFiles\n",
    "Disp = writedlm(\"DispDataSingleLayerPlatewithCentralHoleAndEdgeNotch.csv\",  Displacement, ',')\n",
    "Force = writedlm(\"LoadDataSingleLayerPlatewithCentralHoleAndEdgeNotch.csv\",  Load, ',')"
   ]
  },
  {
   "cell_type": "markdown",
   "id": "0d3ec295",
   "metadata": {},
   "source": [
    "l₁ = 0.1\n",
    "β(x) = exp(-abs(x)/l₁)"
   ]
  },
  {
   "cell_type": "markdown",
   "id": "4fd13c94",
   "metadata": {},
   "source": [
    "Gᵢ = 0.05\n",
    "Gₘ = 1.0\n",
    "Gᵣ = 0.75\n",
    "Gₛ = β(x₁)*Gᵢ + (1-β(x₁))*Gₘ\n",
    "GGₛ = β(x₁)*Gᵢ + (1-β(x₁))*Gᵣ"
   ]
  },
  {
   "cell_type": "markdown",
   "id": "c1f17adf",
   "metadata": {},
   "source": [
    "plot(Gₛ,-1,0)\n",
    "plot!(GGₛ,0,1)\n",
    "plot!(β,-1,1)"
   ]
  }
 ],
 "metadata": {
  "@webio": {
   "lastCommId": null,
   "lastKernelId": null
  },
  "kernelspec": {
   "display_name": "Julia 1.7.2",
   "language": "julia",
   "name": "julia-1.7"
  },
  "language_info": {
   "file_extension": ".jl",
   "mimetype": "application/julia",
   "name": "julia",
   "version": "1.7.2"
  }
 },
 "nbformat": 4,
 "nbformat_minor": 5
}
