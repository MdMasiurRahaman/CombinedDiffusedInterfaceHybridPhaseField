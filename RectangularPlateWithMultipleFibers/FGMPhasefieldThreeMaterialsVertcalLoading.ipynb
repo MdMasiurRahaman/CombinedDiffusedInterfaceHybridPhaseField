{
 "cells": [
  {
   "cell_type": "code",
   "execution_count": null,
   "id": "87fd73b2",
   "metadata": {},
   "outputs": [],
   "source": [
    "using  SymPy\n",
    "using  Plots; pyplot()\n",
    "using LinearAlgebra"
   ]
  },
  {
   "cell_type": "code",
   "execution_count": null,
   "id": "cab2d068",
   "metadata": {},
   "outputs": [],
   "source": [
    "Eₘ = 380e3\n",
    "Eᵣ = 480e3\n",
    "Eᵢ = Eₘ\n",
    "νₘ = 0.25\n",
    "νᵣ = 0.30\n",
    "νᵢ = νₘ\n",
    "\n",
    "@show λᵢ = Eᵢ*νᵢ/((1+νᵢ)*(1-2*νᵢ))\n",
    "@show λₘ = Eₘ*νₘ/((1+νₘ)*(1-2*νₘ))\n",
    "@show λᵣ = Eᵣ*νᵣ/((1+νᵣ)*(1-2*νᵣ))\n",
    "@show μᵢ = Eᵢ/(2*(1+νᵢ))\n",
    "@show μₘ = Eₘ/(2*(1+νₘ))\n",
    "@show μᵣ = Eᵣ/(2*(1+νᵣ))"
   ]
  },
  {
   "cell_type": "code",
   "execution_count": null,
   "id": "080edfc5",
   "metadata": {},
   "outputs": [],
   "source": [
    "Gₘ = 0.01\n",
    "Gᵣ = 0.01710\n",
    "Gᵢ = 0.00171"
   ]
  },
  {
   "cell_type": "code",
   "execution_count": null,
   "id": "cb77c212",
   "metadata": {},
   "outputs": [],
   "source": [
    "L = 2.3\n",
    "H = 1.15\n",
    "η = 1e-10\n",
    "Ls = 0.90\n",
    "Le = 0.75\n",
    "Lf = 0.80\n",
    "Lm = 0.25\n",
    "Li = 0.10"
   ]
  },
  {
   "cell_type": "code",
   "execution_count": null,
   "id": "074ce258",
   "metadata": {},
   "outputs": [],
   "source": [
    "ht = 0.1\n",
    "h = 0.01"
   ]
  },
  {
   "cell_type": "code",
   "execution_count": null,
   "id": "50393304",
   "metadata": {},
   "outputs": [],
   "source": [
    "x,x₁,y,y₁ = symbols(\"x,x₁,y,y₁\", real = true)"
   ]
  },
  {
   "cell_type": "markdown",
   "id": "c78dd1fc",
   "metadata": {},
   "source": [
    "### Piecewise function"
   ]
  },
  {
   "cell_type": "code",
   "execution_count": null,
   "id": "5c781e9d",
   "metadata": {},
   "outputs": [],
   "source": [
    "heaviside(x) = 0.5 * (sign(x) + 1)\n",
    "\n",
    "interval(x, a, b) = heaviside(x-a) - heaviside(x-b)"
   ]
  },
  {
   "cell_type": "markdown",
   "id": "8fd89d90",
   "metadata": {},
   "source": [
    "### Gaussian Kernel Function"
   ]
  },
  {
   "cell_type": "code",
   "execution_count": null,
   "id": "d349f7b0",
   "metadata": {},
   "outputs": [],
   "source": [
    "wₕ(x,x₁) = (1/(sqrt(2*pi)*h))*exp(-(x-x₁)^2/(2*h^2))"
   ]
  },
  {
   "cell_type": "code",
   "execution_count": null,
   "id": "9b7e5b37",
   "metadata": {},
   "outputs": [],
   "source": [
    "Fx1 = interval(x₁,-L-ht,-L+Ls)*wₕ(x,x₁)\n",
    "Fx2 = interval(x₁,-L+Ls,-L+Ls+Li)*wₕ(x,x₁)\n",
    "Fx3 = interval(x₁,-L+Ls+Li,-L+Ls+Li+Lm)*wₕ(x,x₁)\n",
    "Fx4 = interval(x₁,-L+Ls+Li+Lm,-L+Ls+2*Li+Lm)*wₕ(x,x₁)\n",
    "Fx5 = interval(x₁,-L+Ls+2*Li+Lm,-L+Ls+2*Li+Lm+Lf)*wₕ(x,x₁)\n",
    "Fx6 = interval(x₁,-L+Ls+2*Li+Lm+Lf,-L+Ls+3*Li+Lm+Lf)*wₕ(x,x₁)\n",
    "Fx7 = interval(x₁,-L+Ls+3*Li+Lm+Lf,-L+Ls+3*Li+2*Lm+Lf)*wₕ(x,x₁)\n",
    "Fx8 = interval(x₁,-L+Ls+3*Li+2*Lm+Lf,-L+Ls+4*Li+2*Lm+Lf)*wₕ(x,x₁)\n",
    "Fx9 = interval(x₁,-L+Ls+4*Li+2*Lm+Lf,-L+Ls+4*Li+2*Lm+2*Lf)*wₕ(x,x₁)\n",
    "Fx10 = interval(x₁,-L+Ls+4*Li+2*Lm+2*Lf,-L+Ls+5*Li+2*Lm+2*Lf)*wₕ(x,x₁)\n",
    "Fx11 = interval(x₁,-L+Ls+5*Li+2*Lm+2*Lf,-L+Ls+5*Li+3*Lm+2*Lf)*wₕ(x,x₁)\n",
    "Fx12 = interval(x₁,-L+Ls+5*Li+3*Lm+2*Lf,-L+Ls+6*Li+3*Lm+2*Lf)*wₕ(x,x₁)\n",
    "Fx13 = interval(x₁,-L+Ls+6*Li+3*Lm+2*Lf,-L+Ls+6*Li+3*Lm+2*Lf+Le+ht)*wₕ(x,x₁)\n",
    "Fy1 = interval(y₁,-H-ht,H+ht)*wₕ(y,y₁)"
   ]
  },
  {
   "cell_type": "code",
   "execution_count": null,
   "id": "2e044654",
   "metadata": {},
   "outputs": [],
   "source": [
    "λdiscont1 = λₘ*interval(x₁,-L-ht,-L+Ls)*interval(y₁,-H-ht,H+ht)\n",
    "λdiscont2 = λᵢ*interval(x₁,-L+Ls,-L+Ls+Li)*interval(y₁,-H-ht,H+ht)\n",
    "λdiscont3 = λᵣ*interval(x₁,-L+Ls+Li,-L+Ls+Li+Lm)*interval(y₁,-H-ht,H+ht)\n",
    "λdiscont4 = λᵢ*interval(x₁,-L+Ls+Li+Lm,-L+Ls+2*Li+Lm)*interval(y₁,-H-ht,H+ht)\n",
    "λdiscont5 = λₘ*interval(x₁,-L+Ls+2*Li+Lm,-L+Ls+2*Li+Lm+Lf)*interval(y₁,-H-ht,H+ht)\n",
    "λdiscont6 = λᵢ*interval(x₁,-L+Ls+2*Li+Lm+Lf,-L+Ls+3*Li+Lm+Lf)*interval(y₁,-H-ht,H+ht)\n",
    "λdiscont7 = λᵣ*interval(x₁,-L+Ls+3*Li+Lm+Lf,-L+Ls+3*Li+2*Lm+Lf)*interval(y₁,-H-ht,H+ht)\n",
    "λdiscont8 = λᵢ*interval(x₁,-L+Ls+3*Li+2*Lm+Lf,-L+Ls+4*Li+2*Lm+Lf)*interval(y₁,-H-ht,H+ht)\n",
    "λdiscont9 = λₘ*interval(x₁,-L+Ls+4*Li+2*Lm+Lf,-L+Ls+4*Li+2*Lm+2*Lf)*interval(y₁,-H-ht,H+ht)\n",
    "λdiscont10 = λᵢ*interval(x₁,-L+Ls+4*Li+2*Lm+2*Lf,-L+Ls+5*Li+2*Lm+2*Lf)*interval(y₁,-H-ht,H+ht)\n",
    "λdiscont11 = λᵣ*interval(x₁,-L+Ls+5*Li+2*Lm+2*Lf,-L+Ls+5*Li+3*Lm+2*Lf)*interval(y₁,-H-ht,H+ht)\n",
    "λdiscont12 = λᵢ*interval(x₁,-L+Ls+5*Li+3*Lm+2*Lf,-L+Ls+6*Li+3*Lm+2*Lf)*interval(y₁,-H-ht,H+ht)\n",
    "λdiscont13 = λₘ*interval(x₁,-L+Ls+6*Li+3*Lm+2*Lf,-L+Ls+6*Li+3*Lm+2*Lf+Le+ht)*interval(y₁,-H-ht,H+ht)\n",
    "λdiscont = λdiscont1 + λdiscont2 + λdiscont3 + λdiscont4 + λdiscont5 + λdiscont6 + λdiscont7 + λdiscont8 + λdiscont9 + λdiscont10 + λdiscont11 + λdiscont12 + λdiscont13;"
   ]
  },
  {
   "cell_type": "code",
   "execution_count": null,
   "id": "03575056",
   "metadata": {},
   "outputs": [],
   "source": [
    "μdiscont1 = μₘ*interval(x₁,-L-ht,-L+Ls)*interval(y₁,-H-ht,H+ht)\n",
    "μdiscont2 = μᵢ*interval(x₁,-L+Ls,-L+Ls+Li)*interval(y₁,-H-ht,H+ht)\n",
    "μdiscont3 = μᵣ*interval(x₁,-L+Ls+Li,-L+Ls+Li+Lm)*interval(y₁,-H-ht,H+ht)\n",
    "μdiscont4 = μᵢ*interval(x₁,-L+Ls+Li+Lm,-L+Ls+2*Li+Lm)*interval(y₁,-H-ht,H+ht)\n",
    "μdiscont5 = μₘ*interval(x₁,-L+Ls+2*Li+Lm,-L+Ls+2*Li+Lm+Lf)*interval(y₁,-H-ht,H+ht)\n",
    "μdiscont6 = μᵢ*interval(x₁,-L+Ls+2*Li+Lm+Lf,-L+Ls+3*Li+Lm+Lf)*interval(y₁,-H-ht,H+ht)\n",
    "μdiscont7 = μᵣ*interval(x₁,-L+Ls+3*Li+Lm+Lf,-L+Ls+3*Li+2*Lm+Lf)*interval(y₁,-H-ht,H+ht)\n",
    "μdiscont8 = μᵢ*interval(x₁,-L+Ls+3*Li+2*Lm+Lf,-L+Ls+4*Li+2*Lm+Lf)*interval(y₁,-H-ht,H+ht)\n",
    "μdiscont9 = μₘ*interval(x₁,-L+Ls+4*Li+2*Lm+Lf,-L+Ls+4*Li+2*Lm+2*Lf)*interval(y₁,-H-ht,H+ht)\n",
    "μdiscont10 = μᵢ*interval(x₁,-L+Ls+4*Li+2*Lm+2*Lf,-L+Ls+5*Li+2*Lm+2*Lf)*interval(y₁,-H-ht,H+ht)\n",
    "μdiscont11 = μᵣ*interval(x₁,-L+Ls+5*Li+2*Lm+2*Lf,-L+Ls+5*Li+3*Lm+2*Lf)*interval(y₁,-H-ht,H+ht)\n",
    "μdiscont12 = μᵢ*interval(x₁,-L+Ls+5*Li+3*Lm+2*Lf,-L+Ls+6*Li+3*Lm+2*Lf)*interval(y₁,-H-ht,H+ht)\n",
    "μdiscont13 = μₘ*interval(x₁,-L+Ls+6*Li+3*Lm+2*Lf,-L+Ls+6*Li+3*Lm+2*Lf+Le+ht)*interval(y₁,-H-ht,H+ht)\n",
    "μdiscont = μdiscont1 + μdiscont2 + μdiscont3 + μdiscont4 + μdiscont5 + μdiscont6 + μdiscont7 + μdiscont8 + μdiscont9 + μdiscont10 + μdiscont11 + μdiscont12 + μdiscont13;"
   ]
  },
  {
   "cell_type": "code",
   "execution_count": null,
   "id": "3278bc4f",
   "metadata": {},
   "outputs": [],
   "source": [
    "Gdiscont1 = Gₘ*interval(x₁,-L-ht,-L+Ls)*interval(y₁,-H-ht,H+ht)\n",
    "Gdiscont2 = Gᵢ*interval(x₁,-L+Ls,-L+Ls+Li)*interval(y₁,-H-ht,H+ht)\n",
    "Gdiscont3 = Gᵣ*interval(x₁,-L+Ls+Li,-L+Ls+Li+Lm)*interval(y₁,-H-ht,H+ht)\n",
    "Gdiscont4 = Gᵢ*interval(x₁,-L+Ls+Li+Lm,-L+Ls+2*Li+Lm)*interval(y₁,-H-ht,H+ht)\n",
    "Gdiscont5 = Gₘ*interval(x₁,-L+Ls+2*Li+Lm,-L+Ls+2*Li+Lm+Lf)*interval(y₁,-H-ht,H+ht)\n",
    "Gdiscont6 = Gᵢ*interval(x₁,-L+Ls+2*Li+Lm+Lf,-L+Ls+3*Li+Lm+Lf)*interval(y₁,-H-ht,H+ht)\n",
    "Gdiscont7 = Gᵣ*interval(x₁,-L+Ls+3*Li+Lm+Lf,-L+Ls+3*Li+2*Lm+Lf)*interval(y₁,-H-ht,H+ht)\n",
    "Gdiscont8 = Gᵢ*interval(x₁,-L+Ls+3*Li+2*Lm+Lf,-L+Ls+4*Li+2*Lm+Lf)*interval(y₁,-H-ht,H+ht)\n",
    "Gdiscont9 = Gₘ*interval(x₁,-L+Ls+4*Li+2*Lm+Lf,-L+Ls+4*Li+2*Lm+2*Lf)*interval(y₁,-H-ht,H+ht)\n",
    "Gdiscont10 = Gᵢ*interval(x₁,-L+Ls+4*Li+2*Lm+2*Lf,-L+Ls+5*Li+2*Lm+2*Lf)*interval(y₁,-H-ht,H+ht)\n",
    "Gdiscont11 = Gᵣ*interval(x₁,-L+Ls+5*Li+2*Lm+2*Lf,-L+Ls+5*Li+3*Lm+2*Lf)*interval(y₁,-H-ht,H+ht)\n",
    "Gdiscont12 = Gᵢ*interval(x₁,-L+Ls+5*Li+3*Lm+2*Lf,-L+Ls+6*Li+3*Lm+2*Lf)*interval(y₁,-H-ht,H+ht)\n",
    "Gdiscont13 = Gₘ*interval(x₁,-L+Ls+6*Li+3*Lm+2*Lf,-L+Ls+6*Li+3*Lm+2*Lf+Le+ht)*interval(y₁,-H-ht,H+ht)\n",
    "Gdiscont = Gdiscont1 + Gdiscont2 + Gdiscont3 + Gdiscont4 + Gdiscont5 + Gdiscont6 + Gdiscont7 + Gdiscont8 + Gdiscont9 + Gdiscont10 + Gdiscont11 + Gdiscont12 + Gdiscont13;"
   ]
  },
  {
   "cell_type": "code",
   "execution_count": null,
   "id": "1298e135",
   "metadata": {
    "scrolled": true
   },
   "outputs": [],
   "source": [
    "xs = range(-L,L, length=100)\n",
    "ys = range(-H,H, length=100)\n",
    "\n",
    "plot1 = contourf(xs, ys, λdiscont, c=:diverging_bwr_40_95_c42_n256, axis = nothing, showaxis =false,aspect_ratio=:equal, camera=(0,90))\n",
    "plot2 = contourf(xs, ys, μdiscont, c=:diverging_bwr_40_95_c42_n256, axis = nothing, showaxis =false,aspect_ratio=:equal, camera=(0,90))\n",
    "plot3 = contourf(xs, ys, Gdiscont, c=:diverging_bwr_40_95_c42_n256, axis = nothing, showaxis =false,aspect_ratio=:equal, camera=(0,90))"
   ]
  },
  {
   "cell_type": "code",
   "execution_count": null,
   "id": "26745c6a",
   "metadata": {},
   "outputs": [],
   "source": [
    "smoothλ1 = integrate(Fx1,(x₁,-L-ht,L+ht))*integrate(Fy1,(y₁,-H-ht,H+ht))*λₘ\n",
    "smoothλ2 = integrate(Fx2,(x₁,-L-ht,L+ht))*integrate(Fy1,(y₁,-H-ht,H+ht))*λᵢ\n",
    "smoothλ3 = integrate(Fx3,(x₁,-L-ht,L+ht))*integrate(Fy1,(y₁,-H-ht,H+ht))*λᵣ\n",
    "smoothλ4 = integrate(Fx4,(x₁,-L-ht,L+ht))*integrate(Fy1,(y₁,-H-ht,H+ht))*λᵢ\n",
    "smoothλ5 = integrate(Fx5,(x₁,-L-ht,L+ht))*integrate(Fy1,(y₁,-H-ht,H+ht))*λₘ\n",
    "smoothλ6 = integrate(Fx6,(x₁,-L-ht,L+ht))*integrate(Fy1,(y₁,-H-ht,H+ht))*λᵢ\n",
    "smoothλ7 = integrate(Fx7,(x₁,-L-ht,L+ht))*integrate(Fy1,(y₁,-H-ht,H+ht))*λᵣ\n",
    "smoothλ8 = integrate(Fx8,(x₁,-L-ht,L+ht))*integrate(Fy1,(y₁,-H-ht,H+ht))*λᵢ\n",
    "smoothλ9 = integrate(Fx9,(x₁,-L-ht,L+ht))*integrate(Fy1,(y₁,-H-ht,H+ht))*λₘ\n",
    "smoothλ10 = integrate(Fx10,(x₁,-L-ht,L+ht))*integrate(Fy1,(y₁,-H-ht,H+ht))*λᵢ\n",
    "smoothλ11 = integrate(Fx11,(x₁,-L-ht,L+ht))*integrate(Fy1,(y₁,-H-ht,H+ht))*λᵣ\n",
    "smoothλ12 = integrate(Fx12,(x₁,-L-ht,L+ht))*integrate(Fy1,(y₁,-H-ht,H+ht))*λᵢ\n",
    "smoothλ13 = integrate(Fx13,(x₁,-L-ht,L+ht))*integrate(Fy1,(y₁,-H-ht,H+ht))*λₘ\n",
    "smoothλ = smoothλ1 + smoothλ2 + smoothλ3 + smoothλ4 + smoothλ5 + smoothλ6 + smoothλ7 + smoothλ8 + smoothλ9 + smoothλ10 + smoothλ11 + smoothλ12 + smoothλ13;"
   ]
  },
  {
   "cell_type": "code",
   "execution_count": null,
   "id": "0eabde57",
   "metadata": {},
   "outputs": [],
   "source": [
    "smoothμ1 = integrate(Fx1,(x₁,-L-ht,L+ht))*integrate(Fy1,(y₁,-H-ht,H+ht))*μₘ\n",
    "smoothμ2 = integrate(Fx2,(x₁,-L-ht,L+ht))*integrate(Fy1,(y₁,-H-ht,H+ht))*μᵢ\n",
    "smoothμ3 = integrate(Fx3,(x₁,-L-ht,L+ht))*integrate(Fy1,(y₁,-H-ht,H+ht))*μᵣ\n",
    "smoothμ4 = integrate(Fx4,(x₁,-L-ht,L+ht))*integrate(Fy1,(y₁,-H-ht,H+ht))*μᵢ\n",
    "smoothμ5 = integrate(Fx5,(x₁,-L-ht,L+ht))*integrate(Fy1,(y₁,-H-ht,H+ht))*μₘ\n",
    "smoothμ6 = integrate(Fx6,(x₁,-L-ht,L+ht))*integrate(Fy1,(y₁,-H-ht,H+ht))*μᵢ\n",
    "smoothμ7 = integrate(Fx7,(x₁,-L-ht,L+ht))*integrate(Fy1,(y₁,-H-ht,H+ht))*μᵣ\n",
    "smoothμ8 = integrate(Fx8,(x₁,-L-ht,L+ht))*integrate(Fy1,(y₁,-H-ht,H+ht))*μᵢ\n",
    "smoothμ9 = integrate(Fx9,(x₁,-L-ht,L+ht))*integrate(Fy1,(y₁,-H-ht,H+ht))*μₘ\n",
    "smoothμ10 = integrate(Fx10,(x₁,-L-ht,L+ht))*integrate(Fy1,(y₁,-H-ht,H+ht))*μᵢ\n",
    "smoothμ11 = integrate(Fx11,(x₁,-L-ht,L+ht))*integrate(Fy1,(y₁,-H-ht,H+ht))*μᵣ\n",
    "smoothμ12 = integrate(Fx12,(x₁,-L-ht,L+ht))*integrate(Fy1,(y₁,-H-ht,H+ht))*μᵢ\n",
    "smoothμ13 = integrate(Fx13,(x₁,-L-ht,L+ht))*integrate(Fy1,(y₁,-H-ht,H+ht))*μₘ\n",
    "smoothμ = smoothμ1 + smoothμ2 + smoothμ3 + smoothμ4 + smoothμ5 + smoothμ6 + smoothμ7 + smoothμ8 + smoothμ9 + smoothμ10 + smoothμ11 + smoothμ12 + smoothμ13;"
   ]
  },
  {
   "cell_type": "code",
   "execution_count": null,
   "id": "56e67f48",
   "metadata": {},
   "outputs": [],
   "source": [
    "smoothG1 = integrate(Fx1,(x₁,-L-ht,L+ht))*integrate(Fy1,(y₁,-H-ht,H+ht))*Gₘ\n",
    "smoothG2 = integrate(Fx2,(x₁,-L-ht,L+ht))*integrate(Fy1,(y₁,-H-ht,H+ht))*Gᵢ\n",
    "smoothG3 = integrate(Fx3,(x₁,-L-ht,L+ht))*integrate(Fy1,(y₁,-H-ht,H+ht))*Gᵣ\n",
    "smoothG4 = integrate(Fx4,(x₁,-L-ht,L+ht))*integrate(Fy1,(y₁,-H-ht,H+ht))*Gᵢ\n",
    "smoothG5 = integrate(Fx5,(x₁,-L-ht,L+ht))*integrate(Fy1,(y₁,-H-ht,H+ht))*Gₘ\n",
    "smoothG6 = integrate(Fx6,(x₁,-L-ht,L+ht))*integrate(Fy1,(y₁,-H-ht,H+ht))*Gᵢ\n",
    "smoothG7 = integrate(Fx7,(x₁,-L-ht,L+ht))*integrate(Fy1,(y₁,-H-ht,H+ht))*Gᵣ\n",
    "smoothG8 = integrate(Fx8,(x₁,-L-ht,L+ht))*integrate(Fy1,(y₁,-H-ht,H+ht))*Gᵢ\n",
    "smoothG9 = integrate(Fx9,(x₁,-L-ht,L+ht))*integrate(Fy1,(y₁,-H-ht,H+ht))*Gₘ\n",
    "smoothG10 = integrate(Fx10,(x₁,-L-ht,L+ht))*integrate(Fy1,(y₁,-H-ht,H+ht))*Gᵢ\n",
    "smoothG11 = integrate(Fx11,(x₁,-L-ht,L+ht))*integrate(Fy1,(y₁,-H-ht,H+ht))*Gᵣ\n",
    "smoothG12 = integrate(Fx12,(x₁,-L-ht,L+ht))*integrate(Fy1,(y₁,-H-ht,H+ht))*Gᵢ\n",
    "smoothG13 = integrate(Fx13,(x₁,-L-ht,L+ht))*integrate(Fy1,(y₁,-H-ht,H+ht))*Gₘ\n",
    "smoothG = smoothG1 + smoothG2 + smoothG3 + smoothG4 + smoothG5 + smoothG6 + smoothG7 + smoothG8 + smoothG9 + smoothG10 + smoothG11 + smoothG12 + smoothG13;"
   ]
  },
  {
   "cell_type": "code",
   "execution_count": null,
   "id": "d522c642",
   "metadata": {},
   "outputs": [],
   "source": [
    "using Gmsh:gmsh\n",
    "using  GridapGmsh\n",
    "using  Gridap\n",
    "using  Gridap.Geometry\n",
    "using  Gridap.TensorValues\n",
    "using  Gridap.Fields\n",
    "using  Gridap.CellData\n",
    "using  Gridap.ReferenceFEs"
   ]
  },
  {
   "cell_type": "code",
   "execution_count": null,
   "id": "03d63e87",
   "metadata": {},
   "outputs": [],
   "source": [
    "ls = 0.02\n",
    "hf = ls/2.1\n",
    "hd = 10*hf\n",
    "Lₚ = 4.6\n",
    "Hₚ = 2.3\n",
    "cw = 0.01\n",
    "Lc = 0.40\n",
    "Li = 0.10\n",
    "Lf = 0.25\n",
    "Lm = 0.8\n",
    "Ll = 0.9\n",
    "Le = 0.75"
   ]
  },
  {
   "cell_type": "code",
   "execution_count": null,
   "id": "eb1150e7",
   "metadata": {
    "scrolled": true
   },
   "outputs": [],
   "source": [
    "gmsh.initialize()\n",
    "gmsh.option.setNumber(\"General.Terminal\", 1)\n",
    "\n",
    "gmsh.model.geo.addPoint(-Lₚ/2, -Hₚ/2, 0.0, hd, 1)\n",
    "gmsh.model.geo.addPoint(-Lₚ/2+Ll, -Hₚ/2, 0.0, hd, 2)\n",
    "gmsh.model.geo.addPoint(-Lₚ/2+Ll, Hₚ/2, 0.0, hd, 3)\n",
    "gmsh.model.geo.addPoint(-Lₚ/2, Hₚ/2, 0.0, hd, 4)\n",
    "gmsh.model.geo.addPoint(-Lₚ/2, cw, 0.0, hd, 29)\n",
    "gmsh.model.geo.addPoint(-Lₚ/2+Lc, cw, 0.0, hd, 30)\n",
    "gmsh.model.geo.addPoint(-Lₚ/2+Lc, -cw, 0.0, hd, 31)\n",
    "gmsh.model.geo.addPoint(-Lₚ/2, -cw, 0.0, hd, 32)\n",
    "\n",
    "gmsh.model.geo.addLine(1, 2, 1)\n",
    "gmsh.model.geo.addLine(2, 3, 2)\n",
    "gmsh.model.geo.addLine(3, 4, 3)\n",
    "gmsh.model.geo.addLine(4, 29, 4)\n",
    "gmsh.model.geo.addLine(29, 30, 5)\n",
    "gmsh.model.geo.addLine(30,31, 6)\n",
    "gmsh.model.geo.addLine(31, 32, 7)\n",
    "gmsh.model.geo.addLine(32, 1, 8)\n",
    "\n",
    "gmsh.model.geo.addCurveLoop([1,2,3,4,5,6,7,8],1)\n",
    "gmsh.model.geo.addPlaneSurface([1], 1)\n",
    "\n",
    "# Second\n",
    "gmsh.model.geo.addPoint(-Lₚ/2+Ll+Li, -Hₚ/2, 0.0, hd, 5)\n",
    "gmsh.model.geo.addPoint(-Lₚ/2+Ll+Li, Hₚ/2, 0.0, hd, 6)\n",
    "\n",
    "gmsh.model.geo.addLine(2, 5, 9)\n",
    "gmsh.model.geo.addLine(5, 6, 10)\n",
    "gmsh.model.geo.addLine(6, 3, 11)\n",
    "gmsh.model.geo.addCurveLoop([9,10,11,-2],2)\n",
    "gmsh.model.geo.addPlaneSurface([2], 2)\n",
    "\n",
    "# Third\n",
    "gmsh.model.geo.addPoint(-Lₚ/2+Ll+Li+Lf, -Hₚ/2, 0.0, hd, 7)\n",
    "gmsh.model.geo.addPoint(-Lₚ/2+Ll+Li+Lf, Hₚ/2, 0.0, hd, 8)\n",
    "\n",
    "gmsh.model.geo.addLine(5, 7, 12)\n",
    "gmsh.model.geo.addLine(7, 8, 13)\n",
    "gmsh.model.geo.addLine(8, 6, 14)\n",
    "gmsh.model.geo.addCurveLoop([12,13,14,-10],3)\n",
    "gmsh.model.geo.addPlaneSurface([3], 3)\n",
    "\n",
    "# Fourth\n",
    "gmsh.model.geo.addPoint(-Lₚ/2+Ll+2*Li+Lf, -Hₚ/2, 0.0, hd, 9)\n",
    "gmsh.model.geo.addPoint(-Lₚ/2+Ll+2*Li+Lf, Hₚ/2, 0.0, hd, 10)\n",
    "\n",
    "gmsh.model.geo.addLine(7, 9, 15)\n",
    "gmsh.model.geo.addLine(9, 10, 16)\n",
    "gmsh.model.geo.addLine(10, 8, 17)\n",
    "gmsh.model.geo.addCurveLoop([15,16,17,-13],4)\n",
    "gmsh.model.geo.addPlaneSurface([4], 4)\n",
    "\n",
    "# Five\n",
    "gmsh.model.geo.addPoint(-Lₚ/2+Ll+2*Li+Lm+Lf, -Hₚ/2, 0.0, hd, 11)\n",
    "gmsh.model.geo.addPoint(-Lₚ/2+Ll+2*Li+Lm+Lf, Hₚ/2, 0.0, hd, 12)\n",
    "\n",
    "gmsh.model.geo.addLine(9, 11, 18)\n",
    "gmsh.model.geo.addLine(11, 12, 19)\n",
    "gmsh.model.geo.addLine(12, 10, 20)\n",
    "gmsh.model.geo.addCurveLoop([18,19,20,-16],5)\n",
    "gmsh.model.geo.addPlaneSurface([5], 5)\n",
    "\n",
    "# Six\n",
    "gmsh.model.geo.addPoint(-Lₚ/2+Ll+3*Li+Lm+Lf, -Hₚ/2, 0.0, hd, 13)\n",
    "gmsh.model.geo.addPoint(-Lₚ/2+Ll+3*Li+Lm+Lf, Hₚ/2, 0.0, hd, 14)\n",
    "\n",
    "gmsh.model.geo.addLine(11, 13, 21)\n",
    "gmsh.model.geo.addLine(13, 14, 22)\n",
    "gmsh.model.geo.addLine(14, 12, 23)\n",
    "gmsh.model.geo.addCurveLoop([21,22,23,-19],6)\n",
    "gmsh.model.geo.addPlaneSurface([6], 6)\n",
    "\n",
    "# Seven\n",
    "gmsh.model.geo.addPoint(-Lₚ/2+Ll+3*Li+Lm+2*Lf, -Hₚ/2, 0.0, hd, 15)\n",
    "gmsh.model.geo.addPoint(-Lₚ/2+Ll+3*Li+Lm+2*Lf, Hₚ/2, 0.0, hd, 16)\n",
    "\n",
    "gmsh.model.geo.addLine(13, 15, 24)\n",
    "gmsh.model.geo.addLine(15, 16, 25)\n",
    "gmsh.model.geo.addLine(16, 14, 26)\n",
    "gmsh.model.geo.addCurveLoop([24,25,26,-22],7)\n",
    "gmsh.model.geo.addPlaneSurface([7], 7)\n",
    "\n",
    "# Eight\n",
    "gmsh.model.geo.addPoint(-Lₚ/2+Ll+4*Li+Lm+2*Lf, -Hₚ/2, 0.0, hd, 17)\n",
    "gmsh.model.geo.addPoint(-Lₚ/2+Ll+4*Li+Lm+2*Lf, Hₚ/2, 0.0, hd, 18)\n",
    "\n",
    "gmsh.model.geo.addLine(15, 17, 27)\n",
    "gmsh.model.geo.addLine(17, 18, 28)\n",
    "gmsh.model.geo.addLine(18, 16, 29)\n",
    "gmsh.model.geo.addCurveLoop([27,28,29,-25],8)\n",
    "gmsh.model.geo.addPlaneSurface([8], 8)\n",
    "\n",
    "# Nine\n",
    "gmsh.model.geo.addPoint(-Lₚ/2+Ll+4*Li+2*Lm+2*Lf, -Hₚ/2, 0.0, hd, 19)\n",
    "gmsh.model.geo.addPoint(-Lₚ/2+Ll+4*Li+2*Lm+2*Lf, Hₚ/2, 0.0, hd, 20)\n",
    "\n",
    "gmsh.model.geo.addLine(17, 19, 30)\n",
    "gmsh.model.geo.addLine(19, 20, 31)\n",
    "gmsh.model.geo.addLine(20, 18, 32)\n",
    "gmsh.model.geo.addCurveLoop([30,31,32,-28],9)\n",
    "gmsh.model.geo.addPlaneSurface([9], 9)\n",
    "\n",
    "# Ten\n",
    "gmsh.model.geo.addPoint(-Lₚ/2+Ll+5*Li+2*Lm+2*Lf, -Hₚ/2, 0.0, hd, 21)\n",
    "gmsh.model.geo.addPoint(-Lₚ/2+Ll+5*Li+2*Lm+2*Lf, Hₚ/2, 0.0, hd, 22)\n",
    "\n",
    "gmsh.model.geo.addLine(19, 21, 33)\n",
    "gmsh.model.geo.addLine(21, 22, 34)\n",
    "gmsh.model.geo.addLine(22, 20, 35)\n",
    "gmsh.model.geo.addCurveLoop([33,34,35,-31],10)\n",
    "gmsh.model.geo.addPlaneSurface([10], 10)\n",
    "\n",
    "# Eleven\n",
    "gmsh.model.geo.addPoint(-Lₚ/2+Ll+5*Li+2*Lm+3*Lf, -Hₚ/2, 0.0, hd, 23)\n",
    "gmsh.model.geo.addPoint(-Lₚ/2+Ll+5*Li+2*Lm+3*Lf, Hₚ/2, 0.0, hd, 24)\n",
    "\n",
    "gmsh.model.geo.addLine(21, 23, 36)\n",
    "gmsh.model.geo.addLine(23, 24, 37)\n",
    "gmsh.model.geo.addLine(24, 22, 38)\n",
    "gmsh.model.geo.addCurveLoop([36,37,38,-34],11)\n",
    "gmsh.model.geo.addPlaneSurface([11], 11)\n",
    "\n",
    "# Twelve\n",
    "gmsh.model.geo.addPoint(-Lₚ/2+Ll+6*Li+2*Lm+3*Lf, -Hₚ/2, 0.0, hd, 25)\n",
    "gmsh.model.geo.addPoint(-Lₚ/2+Ll+6*Li+2*Lm+3*Lf, Hₚ/2, 0.0, hd, 26)\n",
    "\n",
    "gmsh.model.geo.addLine(23, 25, 39)\n",
    "gmsh.model.geo.addLine(25, 26, 40)\n",
    "gmsh.model.geo.addLine(26, 24, 41)\n",
    "gmsh.model.geo.addCurveLoop([39,40,41,-37],12)\n",
    "gmsh.model.geo.addPlaneSurface([12], 12)\n",
    "\n",
    "# Thirteen\n",
    "gmsh.model.geo.addPoint(-Lₚ/2+Ll+6*Li+2*Lm+3*Lf+Le, -Hₚ/2, 0.0, hd, 27)\n",
    "gmsh.model.geo.addPoint(-Lₚ/2+Ll+6*Li+2*Lm+3*Lf+Le, Hₚ/2, 0.0, hd, 28)\n",
    "\n",
    "gmsh.model.geo.addLine(25, 27, 42)\n",
    "gmsh.model.geo.addLine(27, 28, 43)\n",
    "gmsh.model.geo.addLine(28, 26, 44)\n",
    "gmsh.model.geo.addCurveLoop([42,43,44,-40],13)\n",
    "gmsh.model.geo.addPlaneSurface([13], 13)\n",
    "\n",
    "##\n",
    "gmsh.model.addPhysicalGroup(2, [1,5,9,13],1)\n",
    "gmsh.model.addPhysicalGroup(2, [2,4,6,8,10,12],2)\n",
    "gmsh.model.addPhysicalGroup(2, [3,7,11],3)\n",
    "\n",
    "gmsh.model.setPhysicalName(2, 1, \"Matrix\")\n",
    "gmsh.model.setPhysicalName(2, 2, \"Interface\")\n",
    "gmsh.model.setPhysicalName(2, 3, \"Fiber\")\n",
    "\n",
    "gmsh.model.addPhysicalGroup(0, [1],1)\n",
    "gmsh.model.addPhysicalGroup(1, [1,9,12,15,18,21,24,27,30,33,36,39,42],1)\n",
    "gmsh.model.addPhysicalGroup(1, [3,11,14,17,20,23,26,29,32,35,38,41,44],2)\n",
    "\n",
    "gmsh.model.setPhysicalName(1, 1, \"DirichletBot\")\n",
    "gmsh.model.setPhysicalName(1, 2, \"DirichletTop\")\n",
    "\n",
    "gmsh.model.setPhysicalName(0, 1, \"DirichletLeft\")\n",
    "\n",
    "gmsh.model.mesh.field.add(\"Box\", 11)\n",
    "gmsh.model.mesh.field.setNumber(11, \"VIn\", hf)\n",
    "gmsh.model.mesh.field.setNumber(11, \"VOut\", hd)\n",
    "gmsh.model.mesh.field.setNumber(11, \"XMin\", -0.5*Lₚ + 0.80*Lc)\n",
    "gmsh.model.mesh.field.setNumber(11, \"XMax\", 0.5*Lₚ)\n",
    "gmsh.model.mesh.field.setNumber(11, \"YMin\", -0.25*Hₚ)\n",
    "gmsh.model.mesh.field.setNumber(11, \"YMax\", 0.25*Hₚ)\n",
    "\n",
    "gmsh.model.mesh.field.setAsBackgroundMesh(11)\n",
    "\n",
    "\n",
    "gmsh.model.geo.synchronize()\n",
    "gmsh.model.mesh.generate(2)\n",
    "\n",
    "gmsh.write(\"RectangularComposite.msh\")\n",
    "gmsh.finalize()"
   ]
  },
  {
   "cell_type": "code",
   "execution_count": null,
   "id": "94502196",
   "metadata": {
    "scrolled": true
   },
   "outputs": [],
   "source": [
    "model = GmshDiscreteModel(\"RectangularComposite.msh\")\n",
    "writevtk(model ,\"RectangularComposite\")"
   ]
  },
  {
   "cell_type": "code",
   "execution_count": null,
   "id": "dedb5b6a",
   "metadata": {},
   "outputs": [],
   "source": [
    "using Gridap.Geometry\n",
    "labels = get_face_labeling(model)\n",
    "dimension = 2\n",
    "mat_tags = get_face_tag(labels,dimension);"
   ]
  },
  {
   "cell_type": "code",
   "execution_count": null,
   "id": "2878c2d1",
   "metadata": {},
   "outputs": [],
   "source": [
    "order = 1\n",
    "degree = 2*order\n",
    "Ω = Triangulation(model)\n",
    "dΩ = Measure(Ω,degree)"
   ]
  },
  {
   "cell_type": "code",
   "execution_count": null,
   "id": "b2e28372",
   "metadata": {},
   "outputs": [],
   "source": [
    "I2 = SymTensorValue{2,Float64}(1.0 ,0.0 ,1.0)\n",
    "I4 = I2⊗I2\n",
    "I4_sym = one(SymFourthOrderTensorValue{2,Float64})\n",
    "P_vol = (1.0/2)*I4\n",
    "P_dev = I4_sym  - P_vol"
   ]
  },
  {
   "cell_type": "code",
   "execution_count": null,
   "id": "dc1e2a4c",
   "metadata": {},
   "outputs": [],
   "source": [
    "p = get_cell_points(Ω)"
   ]
  },
  {
   "cell_type": "code",
   "execution_count": null,
   "id": "7894fc4a",
   "metadata": {},
   "outputs": [],
   "source": [
    "λn = lambdify(smoothλ)\n",
    "μn = lambdify(smoothμ)\n",
    "Gn = lambdify(smoothG)"
   ]
  },
  {
   "cell_type": "code",
   "execution_count": null,
   "id": "3a772a39",
   "metadata": {},
   "outputs": [],
   "source": [
    "λh(p) = λn.(p[1],p[2])\n",
    "μh(p) = μn.(p[1],p[2])\n",
    "Gh(p) = Gn.(p[1],p[2])\n",
    "reffe = ReferenceFE(lagrangian,Float64,order)\n",
    "V₁ = FESpace(model, reffe, conformity=:H1)"
   ]
  },
  {
   "cell_type": "code",
   "execution_count": null,
   "id": "9341eadb",
   "metadata": {},
   "outputs": [],
   "source": [
    "V₁₂ = MultiFieldFESpace([V₁,V₁,V₁])"
   ]
  },
  {
   "cell_type": "code",
   "execution_count": null,
   "id": "5d07ffb3",
   "metadata": {},
   "outputs": [],
   "source": [
    "λ_h,μ_h,G_h = interpolate_everywhere([λh,μh,Gh],V₁₂)"
   ]
  },
  {
   "cell_type": "code",
   "execution_count": null,
   "id": "b6291480",
   "metadata": {},
   "outputs": [],
   "source": [
    "function σfun(ε,ε_in,s_in,λ,μ)\n",
    "    σ_elas = λ*tr(ε)*one(ε) + 2*μ*ε\n",
    "    σ = (s_in ^2+η)*σ_elas\n",
    "    return  σ\n",
    "end"
   ]
  },
  {
   "cell_type": "code",
   "execution_count": null,
   "id": "4f582946",
   "metadata": {},
   "outputs": [],
   "source": [
    "function ψPos(ε_in,λ,μ)\n",
    "    σ_elas = λ*tr(ε_in)*one(ε_in) + 2*μ*ε_in\n",
    "    σ_array = get_array(σ_elas)\n",
    "    Egn_Vals = eigvals(σ_array)\n",
    "    Egn_Vecs = eigvecs(σ_array)\n",
    "    σ1 = Egn_Vals[1]\n",
    "    σ2 = Egn_Vals[2]\n",
    "    n1 = VectorValue(Egn_Vecs[:,1])\n",
    "    n2 = VectorValue(Egn_Vecs[:,2])\n",
    " if (σ1)  >= 0\n",
    "        if (σ2)  >= 0\n",
    "            ψPlus = 0.5*(ε_in ⊙ (σ1*(n1 ⊗ n1) + σ2*(n2 ⊗ n2)))\n",
    "        else\n",
    "            ψPlus = 0.5*(ε_in ⊙ (σ1*(n1 ⊗ n1)))\n",
    "        end\n",
    "    elseif (σ1)  < 0\n",
    "        if (σ2)  >= 0\n",
    "            ψPlus = 0.5*(ε_in ⊙ (σ2*(n2 ⊗ n2)))\n",
    "        else\n",
    "            ψPlus = 0.0\n",
    "        end\n",
    "    end\n",
    "    return ψPlus\n",
    "end"
   ]
  },
  {
   "cell_type": "code",
   "execution_count": null,
   "id": "b6fb6afc",
   "metadata": {},
   "outputs": [],
   "source": [
    "function  new_EnergyState(ψPlusPrev_in,ψhPos_in)\n",
    "    ψPlus_in = ψhPos_in\n",
    "    if ψPlus_in  >=ψPlusPrev_in\n",
    "        ψPlus_out =ψPlus_in\n",
    "    else\n",
    "        ψPlus_out=ψPlusPrev_in\n",
    "    end\n",
    "    true,ψPlus_out\n",
    "end"
   ]
  },
  {
   "cell_type": "code",
   "execution_count": null,
   "id": "c564a5f5",
   "metadata": {},
   "outputs": [],
   "source": [
    "function  project(q,model ,dΩ,order)\n",
    "    reffe = ReferenceFE(lagrangian ,Float64 ,order)\n",
    "    V = FESpace(model ,reffe ,conformity =:L2)\n",
    "    a(u,v) =∫(u*v)*dΩ\n",
    "    b(v) =∫(v*q)*dΩ\n",
    "    op = AffineFEOperator(a,b,V,V)\n",
    "    qh = Gridap.solve(op)\n",
    "    return  qh\n",
    "end"
   ]
  },
  {
   "cell_type": "code",
   "execution_count": null,
   "id": "5b15a1b1",
   "metadata": {},
   "outputs": [],
   "source": [
    "reffe_PF = ReferenceFE(lagrangian ,Float64,order)\n",
    "V0_PF = TestFESpace(model ,reffe_PF;conformity =:H1)\n",
    "U_PF = TrialFESpace(V0_PF)\n",
    "sh = zero(V0_PF)"
   ]
  },
  {
   "cell_type": "code",
   "execution_count": null,
   "id": "9f620064",
   "metadata": {
    "scrolled": false
   },
   "outputs": [],
   "source": [
    "reffe_Disp = ReferenceFE(lagrangian,VectorValue{2,Float64},order)\n",
    "        V0_Disp = TestFESpace(model,reffe_Disp;\n",
    "          conformity=:H1,\n",
    "          dirichlet_tags=[\"DirichletLeft\",\"DirichletBot\",\"DirichletTop\"],\n",
    "          dirichlet_masks=[(true,true), (false,true), (false,true)])\n",
    "\n",
    "uh = zero(V0_Disp)"
   ]
  },
  {
   "cell_type": "code",
   "execution_count": null,
   "id": "8c431896",
   "metadata": {
    "scrolled": true
   },
   "outputs": [],
   "source": [
    "writevtk(Ω,\"MaterialProperties\",cellfields= [\"λ\"=>λ_h,\"μ\"=>μ_h])"
   ]
  },
  {
   "cell_type": "code",
   "execution_count": null,
   "id": "acda4a6e",
   "metadata": {},
   "outputs": [],
   "source": [
    "writevtk(Ω,\"G\",cellfields= [\"Gc\"=>G_h])"
   ]
  },
  {
   "cell_type": "code",
   "execution_count": null,
   "id": "3dd21650",
   "metadata": {},
   "outputs": [],
   "source": [
    "LoadTagId = get_tag_from_name(labels,\"DirichletTop\")\n",
    "Γ_Load = BoundaryTriangulation(model,tags = LoadTagId)\n",
    "dΓ_Load = Measure(Γ_Load,degree)\n",
    "n_Γ_Load = get_normal_vector(Γ_Load)"
   ]
  },
  {
   "cell_type": "code",
   "execution_count": null,
   "id": "9171a771",
   "metadata": {},
   "outputs": [],
   "source": [
    "function   stepPhaseField(uh_in ,ΨPlusPrev_in)\n",
    "    a_PF(s,φ) =∫( (G_h)*ls*∇(φ)⋅∇(s)+ 2*ΨPlusPrev_in*s*φ+ ((G_h)/ls)*s*φ)*dΩ\n",
    "    b_PF(φ) =∫( ((G_h)/ls)*φ)*dΩ\n",
    "    op_PF = AffineFEOperator(a_PF,b_PF ,U_PF ,V0_PF)\n",
    "    sh_out = Gridap.solve(op_PF)\n",
    "    return  sh_out\n",
    "end"
   ]
  },
  {
   "cell_type": "code",
   "execution_count": null,
   "id": "81691306",
   "metadata": {},
   "outputs": [],
   "source": [
    "function  stepDisp(uh_in,sh_in,λ,μ,vApp)\n",
    "    uApp1(x) = VectorValue(0.0,0.0)\n",
    "    uApp2(x) = VectorValue(0.0,0.0)\n",
    "    uApp3(x) = VectorValue(0.0,vApp)\n",
    "    U_Disp = TrialFESpace(V0_Disp,[uApp1,uApp2,uApp3])\n",
    "    a_Disp(u,v) =∫( (ε(v)⊙(σfun∘(ε(u),ε(uh_in),sh_in,λ,μ)) ) )*dΩ\n",
    "    b_Disp(v) = 0.0\n",
    "    op_Disp = AffineFEOperator(a_Disp ,b_Disp ,U_Disp ,V0_Disp)\n",
    "    uh_out = Gridap.solve(op_Disp)\n",
    "    return  uh_out\n",
    "end"
   ]
  },
  {
   "cell_type": "code",
   "execution_count": null,
   "id": "295f9b13",
   "metadata": {
    "scrolled": true
   },
   "outputs": [],
   "source": [
    "vApp = 0\n",
    "const  vAppMax = 0.001\n",
    "delv = vAppMax/1000\n",
    "innerMax = 10\n",
    "count = 0\n",
    "Load = Float64[]\n",
    "Displacement = Float64[]\n",
    "\n",
    "push!(Load, 0.0)\n",
    "push!(Displacement, 0.0)\n",
    "\n",
    "sPrev = CellState(1.0,dΩ)\n",
    "sh = project(sPrev ,model ,dΩ,order)\n",
    "ψPlusPrev = CellState(0.0,dΩ)\n",
    "\n",
    "while  vApp .< vAppMax\n",
    "    count = count  .+ 1\n",
    "\n",
    "    vApp = vApp .+ delv\n",
    "    print(\"\\n Entering  displacemtent  step :\", float(vApp))\n",
    "\n",
    "    for  inner = 1: innerMax\n",
    "        ψhPlusPrev = project(ψPlusPrev ,model ,dΩ,order)\n",
    "        RelErr = abs(sum(∫( (G_h)*ls*∇(sh)⋅∇(sh) + 2*ψhPlusPrev*sh*sh + ((G_h)/ls)*sh*sh)*dΩ-∫( ((G_h)/ls)*sh)*dΩ))/abs(sum(∫( ((G_h)/ls)*sh)*dΩ))\n",
    "        print(\"\\n Relative Error :\", float(RelErr))\n",
    "        sh = stepPhaseField(uh,ψhPlusPrev)\n",
    "        uh = stepDisp(uh,sh,λ_h,μ_h,vApp)\n",
    "        ψhPos_in =ψPos∘(ε(uh),λ_h,μ_h)\n",
    "        update_state!( new_EnergyState ,ψPlusPrev ,ψhPos_in)\n",
    "        if   RelErr  < 1e-8\n",
    "            break\n",
    "        end\n",
    "    end\n",
    "    Node_Force = sum(∫(n_Γ_Load⋅(σfun∘(ε(uh),ε(uh),sh,λ_h,μ_h)))*dΓ_Load)\n",
    "    push!(Load , Node_Force[2])\n",
    "    push!( Displacement , vApp)\n",
    "    writevtk(Ω,\"results_ThreeMaterialsVertcalLoading$count\",cellfields= [\"uh\"=>uh ,\"s\"=>sh,\"epsi\"=>ε(uh)])\n",
    " end"
   ]
  },
  {
   "cell_type": "code",
   "execution_count": null,
   "id": "4be0efa8",
   "metadata": {},
   "outputs": [],
   "source": [
    "dispPlot = plot(Displacement,Load,label = nothing)\n",
    "xlabel!(\"Displacement (mm)\")\n",
    "ylabel!(\"Load (N)\")"
   ]
  },
  {
   "cell_type": "code",
   "execution_count": null,
   "id": "8b11c80e",
   "metadata": {},
   "outputs": [],
   "source": [
    "savefig(dispPlot,\"DisplacementPlot.pdf\")"
   ]
  }
 ],
 "metadata": {
  "@webio": {
   "lastCommId": null,
   "lastKernelId": null
  },
  "kernelspec": {
   "display_name": "Julia 1.6.2",
   "language": "julia",
   "name": "julia-1.6"
  },
  "language_info": {
   "file_extension": ".jl",
   "mimetype": "application/julia",
   "name": "julia",
   "version": "1.6.2"
  }
 },
 "nbformat": 4,
 "nbformat_minor": 5
}
