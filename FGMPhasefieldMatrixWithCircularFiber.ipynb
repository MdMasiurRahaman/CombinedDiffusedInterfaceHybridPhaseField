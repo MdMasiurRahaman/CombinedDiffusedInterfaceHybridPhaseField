{
 "cells": [
  {
   "cell_type": "code",
   "execution_count": null,
   "id": "c24f7d44",
   "metadata": {},
   "outputs": [],
   "source": [
    "using  SymPy\n",
    "using  Plots; pyplot()"
   ]
  },
  {
   "cell_type": "code",
   "execution_count": null,
   "id": "b29e96c4",
   "metadata": {},
   "outputs": [],
   "source": [
    "const η = 1e-10\n",
    "const h = 0.005\n",
    "const ht = 0.025\n",
    "const wd = 5*h\n",
    "const lsp = 0.010\n",
    "const rNum = 0.25 - 0.5*wd\n",
    "const RNum = 0.50"
   ]
  },
  {
   "cell_type": "code",
   "execution_count": null,
   "id": "254b4bd7",
   "metadata": {
    "scrolled": true
   },
   "outputs": [],
   "source": [
    "x,x₁,y,y₁,r,r₁,k,t = symbols(\"x,x₁,y,y₁,r,r₁,k,t\", real = true)"
   ]
  },
  {
   "cell_type": "code",
   "execution_count": null,
   "id": "8e99c432",
   "metadata": {},
   "outputs": [],
   "source": [
    "Eᵣ = 40e3\n",
    "Eₘ = 4e3\n",
    "Eᵢ = 4e3\n",
    "νᵣ = 0.33\n",
    "νₘ = 0.4\n",
    "νᵢ = 0.4\n",
    "\n",
    "@show λᵣ = Eᵣ*νᵣ/((1+νᵣ)*(1-2*νᵣ))\n",
    "@show λₘ = Eₘ*νₘ/((1+νₘ)*(1-2*νₘ))\n",
    "@show λᵢ = Eᵢ*νᵢ/((1+νᵢ)*(1-2*νᵢ))\n",
    "\n",
    "@show μᵣ = Eᵣ/(2*(1+νᵣ))\n",
    "@show μₘ = Eₘ/(2*(1+νₘ))\n",
    "@show μᵢ = Eᵢ/(2*(1+νᵢ))"
   ]
  },
  {
   "cell_type": "code",
   "execution_count": null,
   "id": "77568033",
   "metadata": {},
   "outputs": [],
   "source": [
    "Gᵢᵢ = 0.05\n",
    "Gₘ = 0.25\n",
    "Gᵣ = 0.50\n",
    "Gᵢ = Gᵢᵢ"
   ]
  },
  {
   "cell_type": "code",
   "execution_count": null,
   "id": "cd94b37c",
   "metadata": {},
   "outputs": [],
   "source": [
    "f = (wd/lsp)^3 - 3*(wd/lsp)^2 + 3*(wd/lsp)"
   ]
  },
  {
   "cell_type": "markdown",
   "id": "879a1026",
   "metadata": {},
   "source": [
    "### Piecewise function"
   ]
  },
  {
   "cell_type": "code",
   "execution_count": null,
   "id": "360cff81",
   "metadata": {},
   "outputs": [],
   "source": [
    "heaviside(x) = 0.5 * (sign(x) + 1)\n",
    "\n",
    "interval(x, a, b) = heaviside(x-a) - heaviside(x-b)"
   ]
  },
  {
   "cell_type": "code",
   "execution_count": null,
   "id": "f3db7c05",
   "metadata": {},
   "outputs": [],
   "source": [
    "s = abs(r₁-r)/h;\n",
    "w(r,r₁) = (1/(sqrt(2*π)*h))*exp(-s^2/2);"
   ]
  },
  {
   "cell_type": "code",
   "execution_count": null,
   "id": "671b9423",
   "metadata": {},
   "outputs": [],
   "source": [
    "λₕ(r) = λᵣ*interval(r,-rNum,rNum) - λₘ*interval(r,-rNum-wd,rNum+wd) + λᵢ* interval(r,-rNum-wd,rNum+wd) - λᵢ* interval(r,-rNum,rNum) + λₘ\n",
    "smoothλ = integrate(λₕ(r₁)*w(r,r₁),(r₁,-2*RNum-ht,2*RNum+ht))\n",
    "λ = simplify(smoothλ.subs(r, sqrt(x^2+y^2)))"
   ]
  },
  {
   "cell_type": "code",
   "execution_count": null,
   "id": "cea7bce7",
   "metadata": {},
   "outputs": [],
   "source": [
    "μₕ(r) = μᵣ*interval(r,-rNum,rNum) - μₘ*interval(r,-rNum-wd,rNum+wd) + μᵢ* interval(r,-rNum-wd,rNum+wd) - μᵢ* interval(r,-rNum,rNum) + μₘ\n",
    "smoothμ = integrate(μₕ(r₁)*w(r,r₁),(r₁,-2*RNum-ht,2*RNum+ht))\n",
    "μ = simplify(smoothμ.subs(r, sqrt(x^2+y^2)))"
   ]
  },
  {
   "cell_type": "code",
   "execution_count": null,
   "id": "3bb02e02",
   "metadata": {},
   "outputs": [],
   "source": [
    "Gₕ(r) = Gᵣ*interval(r,-rNum,rNum) - Gₘ*interval(r,-rNum-wd,rNum+wd) + Gᵢ* interval(r,-rNum-wd,rNum+wd) - Gᵢ* interval(r,-rNum,rNum) + Gₘ\n",
    "smoothG = integrate(Gₕ(r₁)*w(r,r₁),(r₁,-2*RNum-ht,2*RNum+ht))\n",
    "G = (smoothG.subs(r, sqrt(x^2+y^2)))"
   ]
  },
  {
   "cell_type": "code",
   "execution_count": null,
   "id": "be3e25e1",
   "metadata": {},
   "outputs": [],
   "source": [
    "discontλₕ(x,y) = (λₕ(r)).subs(r, sqrt(x^2+y^2))\n",
    "discontμₕ(x,y) = (μₕ(r)).subs(r, sqrt(x^2+y^2))\n",
    "discontGₕ(x,y) = (Gₕ(r)).subs(r, sqrt(x^2+y^2))"
   ]
  },
  {
   "cell_type": "code",
   "execution_count": null,
   "id": "5dd7f4b4",
   "metadata": {},
   "outputs": [],
   "source": [
    "xs = ys  = range(-RNum,RNum, length=100)\n",
    "plot1 = contourf(xs,ys,discontλₕ, c=:diverging_bwr_40_95_c42_n256, axis = nothing, showaxis =false,aspect_ratio=:equal, camera=(0,90))\n",
    "plot2 = contourf(xs,ys,λ, c=:diverging_bwr_40_95_c42_n256, axis = nothing, showaxis =false,aspect_ratio=:equal, camera=(0,90))\n",
    "plot(plot1,plot2)"
   ]
  },
  {
   "cell_type": "code",
   "execution_count": null,
   "id": "ab7198fc",
   "metadata": {},
   "outputs": [],
   "source": [
    "using Gmsh:gmsh\n",
    "using Gridap\n",
    "using GridapGmsh\n",
    "using Gridap.TensorValues"
   ]
  },
  {
   "cell_type": "code",
   "execution_count": null,
   "id": "5774e75a",
   "metadata": {},
   "outputs": [],
   "source": [
    "using Gridap.Arrays\n",
    "using Gridap.Fields\n",
    "using Gridap.ReferenceFEs\n",
    "using Gridap.Geometry\n",
    "using Gridap.CellData\n",
    "using Gridap.Algebra\n",
    "using LinearAlgebra"
   ]
  },
  {
   "cell_type": "markdown",
   "id": "54a2270f",
   "metadata": {},
   "source": [
    "## Creating mesh for the geometry"
   ]
  },
  {
   "cell_type": "code",
   "execution_count": null,
   "id": "a999d574",
   "metadata": {},
   "outputs": [],
   "source": [
    "hf = lsp/2.1\n",
    "hd = 30*hf\n",
    "Lₚ = 1.0\n",
    "Hₚ = 1.0\n",
    "rc = 0.25\n",
    "rc1 = 0.25 - 0.5*wd\n",
    "rc2 = 0.25 + 0.5*wd"
   ]
  },
  {
   "cell_type": "code",
   "execution_count": null,
   "id": "e500bdce",
   "metadata": {},
   "outputs": [],
   "source": [
    "gmsh.initialize()\n",
    "gmsh.option.setNumber(\"General.Terminal\", 1)\n",
    "\n",
    "\n",
    "gmsh.model.geo.addPoint(-Lₚ/2, -Hₚ/2, 0.0, hd, 1)\n",
    "gmsh.model.geo.addPoint(Lₚ/2, -Hₚ/2, 0.0, hd, 2)\n",
    "gmsh.model.geo.addPoint(Lₚ/2, Hₚ/2, 0.0, hd, 3)\n",
    "gmsh.model.geo.addPoint(-Lₚ/2, Hₚ/2, 0.0, hd, 4)\n",
    "\n",
    "gmsh.model.geo.addPoint(0, Hₚ/2, 0.0, hf, 100)\n",
    "gmsh.model.geo.addPoint(0, -Hₚ/2, 0.0, hf, 101)\n",
    "\n",
    "gmsh.model.geo.addLine(1, 101, 1)\n",
    "gmsh.model.geo.addLine(101, 2, 101)\n",
    "gmsh.model.geo.addLine(2, 3, 2)\n",
    "gmsh.model.geo.addLine(3, 100, 102)\n",
    "gmsh.model.geo.addLine(100, 4, 3)\n",
    "gmsh.model.geo.addLine(4, 1, 4)\n",
    "gmsh.model.geo.addCurveLoop([3,4,1,101,2,102],1)\n",
    "gmsh.model.addPhysicalGroup(2, [1],1)\n",
    "\n",
    "gmsh.model.geo.addPoint(-rc1, 0.0, 0.0, hf, 5)\n",
    "gmsh.model.geo.addPoint(rc1, 0.0, 0.0, hf, 6)\n",
    "gmsh.model.geo.addPoint(0.0, 0.0, 0.0, hf, 7)\n",
    "gmsh.model.geo.addCircleArc(5, 7, 6, 5)\n",
    "gmsh.model.geo.addCircleArc(6, 7, 5, 6)\n",
    "gmsh.model.geo.addCurveLoop([5,6],2)\n",
    "gmsh.model.addPhysicalGroup(2, [2],2)\n",
    "gmsh.model.geo.addPlaneSurface([2], 2)\n",
    "\n",
    "gmsh.model.geo.addPoint(-rc2, 0.0, 0.0, hf, 8)\n",
    "gmsh.model.geo.addPoint(rc2, 0.0, 0.0, hf, 9)\n",
    "gmsh.model.geo.addPoint(0.0, 0.0, 0.0, hf, 10)\n",
    "gmsh.model.geo.addCircleArc(8, 10, 9, 7)\n",
    "gmsh.model.geo.addCircleArc(9, 10, 8, 8)\n",
    "gmsh.model.geo.addCurveLoop([7,8],3)\n",
    "gmsh.model.geo.addPlaneSurface([2,-3], 3)\n",
    "gmsh.model.addPhysicalGroup(2, [3],3)\n",
    "\n",
    "gmsh.model.geo.addPlaneSurface([3,-1], 1)\n",
    "\n",
    "gmsh.model.addPhysicalGroup(0, [1],1)\n",
    "gmsh.model.addPhysicalGroup(1, [4],1)\n",
    "gmsh.model.addPhysicalGroup(1, [2],2)\n",
    "\n",
    "gmsh.model.setPhysicalName(2, 1, \"Matrix\")\n",
    "gmsh.model.setPhysicalName(2, 2, \"InHom\")\n",
    "gmsh.model.setPhysicalName(2, 3, \"Interface\")\n",
    "\n",
    "gmsh.model.setPhysicalName(0, 1, \"DirichletBot\")\n",
    "gmsh.model.setPhysicalName(1, 1, \"DirichletLeft\")\n",
    "gmsh.model.setPhysicalName(1, 2, \"DirichletRight\")\n",
    "\n",
    "\n",
    "gmsh.model.mesh.field.add(\"Box\", 11)\n",
    "gmsh.model.mesh.field.setNumber(11, \"VIn\", hf)\n",
    "gmsh.model.mesh.field.setNumber(11, \"VOut\", hd)\n",
    "gmsh.model.mesh.field.setNumber(11, \"XMin\", -0.05*Lₚ)\n",
    "gmsh.model.mesh.field.setNumber(11, \"XMax\", 0.35*Lₚ)\n",
    "gmsh.model.mesh.field.setNumber(11, \"YMin\", -Hₚ/2)\n",
    "gmsh.model.mesh.field.setNumber(11, \"YMax\", Hₚ/2)\n",
    "gmsh.model.mesh.field.setAsBackgroundMesh(11)\n",
    "\n",
    "gmsh.model.geo.synchronize()\n",
    "gmsh.model.mesh.generate(2)\n",
    "\n",
    "gmsh.write(\"MatrixWithSingleFiber.msh\")\n",
    "gmsh.finalize()"
   ]
  },
  {
   "cell_type": "code",
   "execution_count": null,
   "id": "1746091a",
   "metadata": {
    "scrolled": true
   },
   "outputs": [],
   "source": [
    "model = GmshDiscreteModel(\"MatrixWithSingleFiber.msh\")\n",
    "writevtk(model,\"MatrixWithSingleFiber\")"
   ]
  },
  {
   "cell_type": "code",
   "execution_count": null,
   "id": "289baf64",
   "metadata": {},
   "outputs": [],
   "source": [
    "order = 1\n",
    "degree = 2*order\n",
    "Ω = Triangulation(model)\n",
    "dΩ = Measure(Ω,degree)"
   ]
  },
  {
   "cell_type": "code",
   "execution_count": null,
   "id": "41326f7b",
   "metadata": {},
   "outputs": [],
   "source": [
    "using Gridap.Geometry\n",
    "labels = get_face_labeling(model)\n",
    "dimension = 2\n",
    "mat_tags = get_face_tag(labels,dimension);"
   ]
  },
  {
   "cell_type": "code",
   "execution_count": null,
   "id": "bb88d183",
   "metadata": {},
   "outputs": [],
   "source": [
    "p = get_cell_points(Ω)"
   ]
  },
  {
   "cell_type": "code",
   "execution_count": null,
   "id": "663582cd",
   "metadata": {},
   "outputs": [],
   "source": [
    "reffe = ReferenceFE(lagrangian,Float64,order)\n",
    "V₁ = FESpace(model, reffe, conformity=:H1)"
   ]
  },
  {
   "cell_type": "code",
   "execution_count": null,
   "id": "9e1caaa3",
   "metadata": {},
   "outputs": [],
   "source": [
    "V₂ = FESpace(model, reffe, conformity=:H1)\n",
    "V₃ = FESpace(model, reffe, conformity=:H1)"
   ]
  },
  {
   "cell_type": "code",
   "execution_count": null,
   "id": "e482df77",
   "metadata": {},
   "outputs": [],
   "source": [
    "V₁₂ = MultiFieldFESpace([V₁,V₁,V₁])"
   ]
  },
  {
   "cell_type": "code",
   "execution_count": null,
   "id": "33104305",
   "metadata": {},
   "outputs": [],
   "source": [
    "lambdify(λ)"
   ]
  },
  {
   "cell_type": "code",
   "execution_count": null,
   "id": "54306bc5",
   "metadata": {},
   "outputs": [],
   "source": [
    "λn = lambdify(λ)\n",
    "μn = lambdify(μ)\n",
    "Gn = lambdify(G)"
   ]
  },
  {
   "cell_type": "code",
   "execution_count": null,
   "id": "597d0783",
   "metadata": {},
   "outputs": [],
   "source": [
    "λh2(p) = λn.(p[1],p[2])\n",
    "μh2(p) = μn.(p[1],p[2])\n",
    "Gh2(p) = Gn.(p[1],p[2])"
   ]
  },
  {
   "cell_type": "code",
   "execution_count": null,
   "id": "b0f5bf85",
   "metadata": {},
   "outputs": [],
   "source": [
    "λ_h = interpolate_everywhere(λh2,V₁)\n",
    "μ_h = interpolate_everywhere(μh2,V₂)\n",
    "G_h = interpolate_everywhere(Gh2,V₃)"
   ]
  },
  {
   "cell_type": "code",
   "execution_count": null,
   "id": "5fb7e663",
   "metadata": {},
   "outputs": [],
   "source": [
    "writevtk(Ω,\"MaterialProperties\",cellfields= [\"λ\"=>λ_h,\"μ\"=>μ_h,\"Gc\"=> G_h])"
   ]
  },
  {
   "cell_type": "code",
   "execution_count": null,
   "id": "e5b6d6c0",
   "metadata": {},
   "outputs": [],
   "source": [
    "function σ_mod(ε, ε_in, s_in,λ,μ)\n",
    "    σ_elas = λ*tr(ε)*one(ε) + 2*μ*ε\n",
    "    σ = (s_in^2 + η)*σ_elas\n",
    "    return σ\n",
    "end"
   ]
  },
  {
   "cell_type": "code",
   "execution_count": null,
   "id": "da995e8a",
   "metadata": {},
   "outputs": [],
   "source": [
    "function ψPos(ε_in,λ,μ)\n",
    "    σ_elas = λ*tr(ε_in)*one(ε_in) + 2*μ*ε_in\n",
    "    σ_array = get_array(σ_elas)\n",
    "    Egn_Vals = eigvals(σ_array)\n",
    "    Egn_Vecs = eigvecs(σ_array)\n",
    "    σ1 = Egn_Vals[1]\n",
    "    σ2 = Egn_Vals[2]\n",
    "    n1 = VectorValue(Egn_Vecs[:,1])\n",
    "    n2 = VectorValue(Egn_Vecs[:,2])\n",
    " if (σ1)  >= 0\n",
    "        if (σ2)  >= 0\n",
    "            ψPlus = 0.5*(ε_in ⊙ (σ1*(n1 ⊗ n1) + σ2*(n2 ⊗ n2)))\n",
    "        else\n",
    "            ψPlus = 0.5*(ε_in ⊙ (σ1*(n1 ⊗ n1)))\n",
    "        end\n",
    "    elseif (σ1)  < 0\n",
    "        if (σ2)  >= 0\n",
    "            ψPlus = 0.5*(ε_in ⊙ (σ2*(n2 ⊗ n2)))\n",
    "        else\n",
    "            ψPlus = 0.0\n",
    "        end\n",
    "    end\n",
    "    return ψPlus\n",
    "end"
   ]
  },
  {
   "cell_type": "code",
   "execution_count": null,
   "id": "e5b38109",
   "metadata": {},
   "outputs": [],
   "source": [
    "function new_EnergyState(ψPlusPrev_in,ψhPos_in)\n",
    "  ψPlus_in = ψhPos_in\n",
    "  if ψPlus_in >= ψPlusPrev_in\n",
    "    ψPlus_out = ψPlus_in\n",
    "  else\n",
    "    ψPlus_out = ψPlusPrev_in\n",
    "  end\n",
    "  true,ψPlus_out\n",
    "end"
   ]
  },
  {
   "cell_type": "code",
   "execution_count": null,
   "id": "3bf5a3ce",
   "metadata": {},
   "outputs": [],
   "source": [
    "function project(q,model,dΩ,order)\n",
    "  reffe = ReferenceFE(lagrangian,Float64,order)\n",
    "  V = FESpace(model,reffe,conformity=:L2)\n",
    "  a(u,v) = ∫( u*v )*dΩ\n",
    "  l(v) = ∫( v*q )*dΩ\n",
    "  op = AffineFEOperator(a,l,V,V)\n",
    "  qh = Gridap.solve(op)\n",
    "  qh\n",
    "end"
   ]
  },
  {
   "cell_type": "code",
   "execution_count": null,
   "id": "absolute-workplace",
   "metadata": {
    "scrolled": false
   },
   "outputs": [],
   "source": [
    "sId = CellState(1.0,dΩ)\n",
    "shId = project(sId,model,dΩ,order)"
   ]
  },
  {
   "cell_type": "code",
   "execution_count": null,
   "id": "700af0f9",
   "metadata": {
    "scrolled": false
   },
   "outputs": [],
   "source": [
    "LoadTagId = get_tag_from_name(labels,\"DirichletRight\")\n",
    "Γ_Load = BoundaryTriangulation(model,tags = LoadTagId)\n",
    "dΓ_Load = Measure(Γ_Load,degree)\n",
    "n_Γ_Load = get_normal_vector(Γ_Load)"
   ]
  },
  {
   "cell_type": "code",
   "execution_count": null,
   "id": "950f5dcd",
   "metadata": {},
   "outputs": [],
   "source": [
    "reffe_PF = ReferenceFE(lagrangian,Float64,order)\n",
    "V0_PF = TestFESpace(model,reffe_PF;\n",
    "  conformity=:H1)\n",
    "U_PF = TrialFESpace(V0_PF)\n",
    "sh = zero(V0_PF)"
   ]
  },
  {
   "cell_type": "code",
   "execution_count": null,
   "id": "1942f3e1",
   "metadata": {
    "scrolled": true
   },
   "outputs": [],
   "source": [
    "reffe_Disp = ReferenceFE(lagrangian,VectorValue{2,Float64},order)\n",
    "        V0_Disp = TestFESpace(model,reffe_Disp;\n",
    "          conformity=:H1,\n",
    "          dirichlet_tags=[\"DirichletBot\",\"DirichletLeft\",\"DirichletRight\"],\n",
    "          dirichlet_masks=[(true,true), (true,false), (true,false)])\n",
    "\n",
    "uh = zero(V0_Disp)"
   ]
  },
  {
   "cell_type": "code",
   "execution_count": null,
   "id": "4da83bf8",
   "metadata": {},
   "outputs": [],
   "source": [
    "function   stepPhaseField(uh_in ,ΨPlusPrev_in)\n",
    "    a_PF(s,φ) =∫( G_h*lsp*∇(φ)⋅∇(s)+ 2*ΨPlusPrev_in*s*φ+ (G_h/lsp)*s*φ)*dΩ\n",
    "    b_PF(φ) =∫( (G_h/lsp)*φ)*dΩ\n",
    "    op_PF = AffineFEOperator(a_PF,b_PF ,U_PF ,V0_PF)\n",
    "    sh_out = Gridap.solve(op_PF)\n",
    "    return  sh_out\n",
    "end"
   ]
  },
  {
   "cell_type": "code",
   "execution_count": null,
   "id": "9eab4a9c",
   "metadata": {},
   "outputs": [],
   "source": [
    "function   stepDisp(uh_in,sh_in,uApp)\n",
    "        uApp1(x) = VectorValue(0.0,0.0)\n",
    "        uApp2(x) = VectorValue(0.0,0.0)\n",
    "        uApp3(x) = VectorValue(uApp,0.0)\n",
    "        U_Disp = TrialFESpace(V0_Disp,[uApp1,uApp2,uApp3])\n",
    "\n",
    "        a_Disp(u,v) = ∫( (ε(v) ⊙ (σ_mod∘(ε(u),ε(uh_in),sh_in,λ_h,μ_h)) ) )*dΩ\n",
    "        b_Disp(v) = 0.0\n",
    "        op_Disp = AffineFEOperator(a_Disp,b_Disp,U_Disp,V0_Disp)\n",
    "        uh_out = Gridap.solve(op_Disp)\n",
    "    return uh_out\n",
    "end"
   ]
  },
  {
   "cell_type": "code",
   "execution_count": null,
   "id": "8a4b863f",
   "metadata": {
    "scrolled": true
   },
   "outputs": [],
   "source": [
    "uApp = 0\n",
    "delu = 2e-4\n",
    "uAppMax = 0.020\n",
    "innerMax = 10\n",
    "count = 0\n",
    "Load = Float64[]\n",
    "Displacement = Float64[]\n",
    "push!(Load, 0.0)\n",
    "push!(Displacement, 0.0)\n",
    "\n",
    "sPrev = CellState(1.0,dΩ)\n",
    "sh = project(sPrev,model,dΩ,order)\n",
    "ψPlusPrev = CellState(0.0,dΩ)\n",
    "\n",
    "while uApp .< uAppMax \n",
    "        \n",
    "    uApp = uApp .+ delu\n",
    "    count = count .+ 1\n",
    "    \n",
    "    if uApp >= 0.005\n",
    "        delu = 1.5e-4\n",
    "    end\n",
    "   \n",
    "    print(\"\\n Entering displacemtent step$count :\", float(uApp))\n",
    "    \n",
    "   for inner = 1:innerMax\n",
    "        \n",
    "        ψhPlusPrev = project(ψPlusPrev,model,dΩ,order)\n",
    "        \n",
    "        RelErr = abs(sum(∫( G_h*lsp*∇(sh)⋅∇(sh) + 2*ψhPlusPrev*sh*sh + (G_h/lsp)*sh*sh)*dΩ-∫( (G_h/lsp)*sh)*dΩ))/abs(sum(∫( (G_h/lsp)*sh)*dΩ))\n",
    "\n",
    "        print(\"\\n error = \",float(RelErr))\n",
    "        \n",
    "        sh = stepPhaseField(uh,ψhPlusPrev) \n",
    "        uh = stepDisp(uh,sh,uApp)\n",
    "        \n",
    "        ψhPos_in = ψPos∘(ε(uh),λ_h,μ_h) \n",
    "        update_state!(new_EnergyState,ψPlusPrev,ψhPos_in)\n",
    "        \n",
    "        if RelErr < 1e-8\n",
    "            break \n",
    "        end \n",
    "    end\n",
    "    \n",
    "    Node_Force = sum(∫( n_Γ_Load ⋅ (σ_mod∘(ε(uh),ε(uh),sh,λ_h,μ_h)) ) *dΓ_Load)\n",
    "    \n",
    "    push!(Load, Node_Force[1])\n",
    "    push!(Displacement, uApp)\n",
    "    if uApp <= 0.01\n",
    "        if mod(count,2) == 0 \n",
    "             writevtk(Ω,\"results_PhaseFieldMatrixWithCircularFiber$count\",cellfields=\n",
    "            [\"uh\"=>uh,\"s\"=>sh , \"epsi\"=>ε(uh)])\n",
    "        end\n",
    "    elseif uApp > 0.01\n",
    "             writevtk(Ω,\"results_PhaseFieldMatrixWithCircularFiber$count\",cellfields=\n",
    "            [\"uh\"=>uh,\"s\"=>sh , \"epsi\"=>ε(uh)])\n",
    "    end\n",
    "end "
   ]
  },
  {
   "cell_type": "code",
   "execution_count": null,
   "id": "f9f34a5d",
   "metadata": {
    "scrolled": false
   },
   "outputs": [],
   "source": [
    "writevtk(Ω,\"results_PhaseFieldMatrixWithCircularFiber$count\",cellfields=\n",
    "        [\"uh\"=>uh,\"s\"=>sh , \"epsi\"=>ε(uh)])"
   ]
  },
  {
   "cell_type": "code",
   "execution_count": null,
   "id": "emerging-negative",
   "metadata": {
    "scrolled": true
   },
   "outputs": [],
   "source": [
    "plot(Displacement,Load,label = nothing)\n",
    "xlabel!(\"Displacement (mm)\")\n",
    "ylabel!(\"Load (N)\")"
   ]
  },
  {
   "cell_type": "code",
   "execution_count": null,
   "id": "d472d8d9",
   "metadata": {},
   "outputs": [],
   "source": [
    "using DelimitedFiles\n",
    "Disp = writedlm(\"DispDataMatrixWithCircularInclusion.csv\",  Displacement, ',')\n",
    "Force = writedlm(\"LoadDataMatrixWithCircularInclusion.csv\",  Load, ',')"
   ]
  }
 ],
 "metadata": {
  "@webio": {
   "lastCommId": null,
   "lastKernelId": null
  },
  "kernelspec": {
   "display_name": "Julia 1.6.2",
   "language": "julia",
   "name": "julia-1.6"
  },
  "language_info": {
   "file_extension": ".jl",
   "mimetype": "application/julia",
   "name": "julia",
   "version": "1.6.2"
  }
 },
 "nbformat": 4,
 "nbformat_minor": 5
}
