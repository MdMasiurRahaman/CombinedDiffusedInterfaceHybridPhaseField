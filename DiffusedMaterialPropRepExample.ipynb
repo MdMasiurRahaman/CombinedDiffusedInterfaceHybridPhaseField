{
 "cells": [
  {
   "cell_type": "code",
   "execution_count": null,
   "id": "0e0b4725",
   "metadata": {},
   "outputs": [],
   "source": [
    "using  SymPy\n",
    "using  Plots;pyplot()\n",
    "using LinearAlgebra"
   ]
  },
  {
   "cell_type": "markdown",
   "id": "2e137c26",
   "metadata": {},
   "source": [
    "### Input the elastic properties of matrix and inclusion"
   ]
  },
  {
   "cell_type": "code",
   "execution_count": null,
   "id": "cab2d068",
   "metadata": {},
   "outputs": [],
   "source": [
    "Eᵢ = 37.7e3\n",
    "Eₘ = 377.7e3\n",
    "νᵢ = 0.22\n",
    "νₘ = 0.2\n",
    "@show λᵢ = Eᵢ*νᵢ/((1+νᵢ)*(1-2*νᵢ))\n",
    "@show λₘ = Eₘ*νₘ/((1+νₘ)*(1-2*νₘ))\n",
    "@show μᵢ = Eᵢ/(2*(1+νᵢ))\n",
    "@show μₘ = Eₘ/(2*(1+νₘ))"
   ]
  },
  {
   "cell_type": "markdown",
   "id": "6a2ad6dc",
   "metadata": {},
   "source": [
    "### Dimensions of the Plate"
   ]
  },
  {
   "cell_type": "code",
   "execution_count": null,
   "id": "cb77c212",
   "metadata": {},
   "outputs": [],
   "source": [
    "L = 20\n",
    "H = 20\n",
    "h = 0.5  # Diffsed length\n",
    "ht = 1"
   ]
  },
  {
   "cell_type": "markdown",
   "id": "698c5fbc",
   "metadata": {},
   "source": [
    "### Defining the symbolic variable using SymPy"
   ]
  },
  {
   "cell_type": "code",
   "execution_count": null,
   "id": "50393304",
   "metadata": {},
   "outputs": [],
   "source": [
    "x,x₁,y,y₁ = symbols(\"x,x₁,y,y₁\", real = true)"
   ]
  },
  {
   "cell_type": "markdown",
   "id": "c78dd1fc",
   "metadata": {},
   "source": [
    "### Piecewise function"
   ]
  },
  {
   "cell_type": "code",
   "execution_count": null,
   "id": "5c781e9d",
   "metadata": {},
   "outputs": [],
   "source": [
    "heaviside(x) = 0.5 * (sign(x) + 1)\n",
    "\n",
    "interval(x, a, b) = heaviside(x-a) - heaviside(x-b)"
   ]
  },
  {
   "cell_type": "markdown",
   "id": "8fd89d90",
   "metadata": {},
   "source": [
    "### Gaussian Kernel Function"
   ]
  },
  {
   "cell_type": "code",
   "execution_count": null,
   "id": "d349f7b0",
   "metadata": {
    "scrolled": true
   },
   "outputs": [],
   "source": [
    "wₕ(x,x₁) = (1/(sqrt(2*pi)*h))*exp(-(x-x₁)^2/(2*h^2))"
   ]
  },
  {
   "cell_type": "markdown",
   "id": "931f7dfc",
   "metadata": {},
   "source": [
    "### Discontinuous material properties"
   ]
  },
  {
   "cell_type": "code",
   "execution_count": null,
   "id": "9b7e5b37",
   "metadata": {},
   "outputs": [],
   "source": [
    "λFx1 = interval(x₁,-L-ht,L+ht)*wₕ(x,x₁)\n",
    "λFy1 = interval(y₁,-H-ht,0)*wₕ(y,y₁)\n",
    "λFy2 = interval(y₁,0,H+ht)*wₕ(y,y₁)"
   ]
  },
  {
   "cell_type": "code",
   "execution_count": null,
   "id": "f531617b",
   "metadata": {},
   "outputs": [],
   "source": [
    "μFx1 = interval(x₁,-L-ht,L+ht)*wₕ(x,x₁)\n",
    "μFy1 = interval(y₁,-H-ht,0)*wₕ(y,y₁)\n",
    "μFy2 = interval(y₁,0,H+ht)*wₕ(y,y₁)"
   ]
  },
  {
   "cell_type": "code",
   "execution_count": null,
   "id": "7f71f085",
   "metadata": {},
   "outputs": [],
   "source": [
    "λdiscont1 = λᵢ * interval(x₁,-L-ht,L+ht)* interval(y₁,-H-ht,0)\n",
    "λdiscont2 = λₘ * interval(x₁,-L-ht,L+ht)* interval(y₁,0,H+ht)\n",
    "λdiscont = λdiscont1 + λdiscont2"
   ]
  },
  {
   "cell_type": "code",
   "execution_count": null,
   "id": "0463ca20",
   "metadata": {
    "scrolled": true
   },
   "outputs": [],
   "source": [
    "μdiscont1 = μᵢ * interval(x₁,-L-ht,L+ht)* interval(y₁,-H-ht,0)\n",
    "μdiscont2 = μₘ * interval(x₁,-L-ht,L+ht)* interval(y₁,0,H+ht)\n",
    "μdiscont = μdiscont1 + μdiscont2"
   ]
  },
  {
   "cell_type": "markdown",
   "id": "049feae2",
   "metadata": {},
   "source": [
    "### Diffused material properties"
   ]
  },
  {
   "cell_type": "code",
   "execution_count": null,
   "id": "26745c6a",
   "metadata": {},
   "outputs": [],
   "source": [
    "smoothλ1 = integrate(λFx1,(x₁,-L-ht,L+ht))*integrate(λFy1,(y₁,-H-ht,H+ht))*λᵢ\n",
    "smoothλ2 = integrate(λFx1,(x₁,-L-ht,L+ht))*integrate(λFy2,(y₁,-H-ht,H+ht))*λₘ\n",
    "smoothλ = smoothλ1 + smoothλ2"
   ]
  },
  {
   "cell_type": "code",
   "execution_count": null,
   "id": "040b8854",
   "metadata": {
    "scrolled": true
   },
   "outputs": [],
   "source": [
    "smoothμ1 = integrate(μFx1,(x₁,-L-ht,L+ht))*integrate(μFy1,(y₁,-H-ht,H+ht))*μᵢ\n",
    "smoothμ2 = integrate(μFx1,(x₁,-L-ht,L+ht))*integrate(μFy2,(y₁,-H-ht,H+ht))*μₘ\n",
    "smoothμ = smoothμ1 + smoothμ2"
   ]
  },
  {
   "cell_type": "markdown",
   "id": "3489621b",
   "metadata": {},
   "source": [
    "## Illustration"
   ]
  },
  {
   "cell_type": "code",
   "execution_count": null,
   "id": "735a984e",
   "metadata": {
    "scrolled": true
   },
   "outputs": [],
   "source": [
    "xs = range(-L,L, length=100)\n",
    "ys = range(-H,H, length=100)\n",
    "\n",
    "plot1 = contourf(xs, ys, λdiscont, c=:diverging_bwr_40_95_c42_n256, axis = nothing, showaxis =false,aspect_ratio=:equal, camera=(0,90))\n",
    "plot2 = contourf(xs, ys, smoothλ, c=:diverging_bwr_40_95_c42_n256, axis = nothing, showaxis =false,aspect_ratio=:equal,camera=(0,90))\n",
    "plot3 = contourf(xs, ys, μdiscont, c=:diverging_bwr_40_95_c42_n256, axis = nothing, showaxis =false,aspect_ratio=:equal, camera=(0,90))\n",
    "plot4 = contourf(xs, ys, smoothμ, c=:diverging_bwr_40_95_c42_n256, axis = nothing, showaxis =false,aspect_ratio=:equal, camera=(0,90))\n",
    "plotλ = plot(plot1,plot2)\n",
    "plotμ = plot(plot3,plot4)"
   ]
  },
  {
   "cell_type": "markdown",
   "id": "9c402664",
   "metadata": {},
   "source": [
    "### Save figures"
   ]
  },
  {
   "cell_type": "code",
   "execution_count": null,
   "id": "6c26401a",
   "metadata": {},
   "outputs": [],
   "source": [
    "savefig(plotλ, \"TwoMaterialλDiffusion.pdf\")\n",
    "savefig(plotμ, \"TwoMaterialμDiffusion.pdf\")"
   ]
  }
 ],
 "metadata": {
  "kernelspec": {
   "display_name": "Julia 1.8.0",
   "language": "julia",
   "name": "julia-1.8"
  },
  "language_info": {
   "file_extension": ".jl",
   "mimetype": "application/julia",
   "name": "julia",
   "version": "1.8.0"
  }
 },
 "nbformat": 4,
 "nbformat_minor": 5
}
