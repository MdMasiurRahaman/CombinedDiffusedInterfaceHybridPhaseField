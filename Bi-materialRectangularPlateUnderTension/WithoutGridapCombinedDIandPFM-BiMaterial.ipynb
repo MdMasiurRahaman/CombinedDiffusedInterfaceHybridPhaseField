{
 "cells": [
  {
   "cell_type": "code",
   "execution_count": null,
   "id": "541b9f29",
   "metadata": {},
   "outputs": [],
   "source": [
    "using Dates\n",
    "timet1 = time()"
   ]
  },
  {
   "cell_type": "code",
   "execution_count": null,
   "id": "8e0d6ae6",
   "metadata": {},
   "outputs": [],
   "source": [
    "using  SymPy\n",
    "using  Plots; pyplot()\n",
    "using LinearAlgebra"
   ]
  },
  {
   "cell_type": "code",
   "execution_count": null,
   "id": "1490c6fa",
   "metadata": {},
   "outputs": [],
   "source": [
    "E₁ = 377.7e3\n",
    "E₂ = 37.7e3\n",
    "ν₁ = 0.2\n",
    "ν₂ = 0.22\n",
    "h = 0.5"
   ]
  },
  {
   "cell_type": "code",
   "execution_count": null,
   "id": "2f68c611",
   "metadata": {},
   "outputs": [],
   "source": [
    "const t = 1.0"
   ]
  },
  {
   "cell_type": "code",
   "execution_count": null,
   "id": "c64dbdf2",
   "metadata": {},
   "outputs": [],
   "source": [
    "ht = 1\n",
    "Eᵢ = 37.7e3\n",
    "Eₘ = 377.7e3\n",
    "νᵢ = 0.22\n",
    "νₘ = 0.2\n",
    "@show λᵢ = Eᵢ*νᵢ/((1+νᵢ)*(1-2*νᵢ))\n",
    "@show λₘ = Eₘ*νₘ/((1+νₘ)*(1-2*νₘ))\n",
    "@show μᵢ = Eᵢ/(2*(1+νᵢ))\n",
    "@show μₘ = Eₘ/(2*(1+νₘ))"
   ]
  },
  {
   "cell_type": "code",
   "execution_count": null,
   "id": "5def8be4",
   "metadata": {},
   "outputs": [],
   "source": [
    "Gᵢ = 1\n",
    "Gₘ = 10\n",
    "L = 20\n",
    "H = 20\n",
    "η = 1e-10\n",
    "Gc = 5"
   ]
  },
  {
   "cell_type": "code",
   "execution_count": null,
   "id": "3713024f",
   "metadata": {},
   "outputs": [],
   "source": [
    "x,x₁,y,y₁ = symbols(\"x,x₁,y,y₁\", real = true)"
   ]
  },
  {
   "cell_type": "code",
   "execution_count": null,
   "id": "e9841668",
   "metadata": {},
   "outputs": [],
   "source": [
    "sign(0)"
   ]
  },
  {
   "cell_type": "code",
   "execution_count": null,
   "id": "d5905db3",
   "metadata": {},
   "outputs": [],
   "source": [
    "heaviside(x) = 0.5 * (sign(x) + 1)\n",
    "\n",
    "interval(x, a, b) = heaviside(x-a) - heaviside(x-b)\n",
    "\n",
    "wₕ(x,x₁) = (1/(sqrt(2*pi)*h))*exp(-(x-x₁)^2/(2*h^2))"
   ]
  },
  {
   "cell_type": "code",
   "execution_count": null,
   "id": "8d7726ce",
   "metadata": {},
   "outputs": [],
   "source": [
    "λFx1 = interval(x₁,-L-ht,L+ht)*wₕ(x,x₁)\n",
    "λFy1 = interval(y₁,-H-ht,0)*wₕ(y,y₁)\n",
    "λFy2 = interval(y₁,0,H+ht)*wₕ(y,y₁)\n",
    "\n",
    "μFx1 = interval(x₁,-L-ht,L+ht)*wₕ(x,x₁)\n",
    "μFy1 = interval(y₁,-H-ht,0)*wₕ(y,y₁)\n",
    "μFy2 = interval(y₁,0,H+ht)*wₕ(y,y₁)\n",
    "\n",
    "λdiscont1 = λᵢ * interval(x₁,-L-ht,L+ht)* interval(y₁,-H-ht,0)\n",
    "λdiscont2 = λₘ * interval(x₁,-L-ht,L+ht)* interval(y₁,0,H+ht)\n",
    "λdiscont = λdiscont1 + λdiscont2\n",
    "\n",
    "μdiscont1 = μᵢ * interval(x₁,-L-ht,L+ht)* interval(y₁,-H-ht,0)\n",
    "μdiscont2 = μₘ * interval(x₁,-L-ht,L+ht)* interval(y₁,0,H+ht)\n",
    "μdiscont = μdiscont1 + μdiscont2\n",
    "\n",
    "Gdiscont1 = Gᵢ * interval(x₁,-L-ht,L+ht)* interval(y₁,-H-ht,0)\n",
    "Gdiscont2 = Gₘ * interval(x₁,-L-ht,L+ht)* interval(y₁,0,H+ht)\n",
    "Gdiscont = Gdiscont1 + Gdiscont2\n",
    "\n",
    "smoothλ1 = integrate(λFx1,(x₁,-L-ht,L+ht))*integrate(λFy1,(y₁,-H-ht,H+ht))*λᵢ\n",
    "smoothλ2 = integrate(λFx1,(x₁,-L-ht,L+ht))*integrate(λFy2,(y₁,-H-ht,H+ht))*λₘ\n",
    "smoothλ = smoothλ1 + smoothλ2\n",
    "\n",
    "smoothμ1 = integrate(μFx1,(x₁,-L-ht,L+ht))*integrate(μFy1,(y₁,-H-ht,H+ht))*μᵢ\n",
    "smoothμ2 = integrate(μFx1,(x₁,-L-ht,L+ht))*integrate(μFy2,(y₁,-H-ht,H+ht))*μₘ\n",
    "smoothμ = smoothμ1 + smoothμ2\n",
    "\n",
    "smoothG1 = integrate(μFx1,(x₁,-L-ht,L+ht))*integrate(μFy1,(y₁,-H-ht,H+ht))*Gᵢ\n",
    "smoothG2 = integrate(μFx1,(x₁,-L-ht,L+ht))*integrate(μFy2,(y₁,-H-ht,H+ht))*Gₘ\n",
    "smoothG = smoothG1 + smoothG2"
   ]
  },
  {
   "cell_type": "code",
   "execution_count": null,
   "id": "3a52c4e6",
   "metadata": {},
   "outputs": [],
   "source": [
    "xs = range(-L,L, length=100)\n",
    "ys = range(-H,H, length=100)\n",
    "\n",
    "plot1 = contourf(xs, ys, λdiscont, c=:diverging_bwr_40_95_c42_n256, axis = nothing, showaxis =false,aspect_ratio=:equal, camera=(0,90))\n",
    "plot2 = contourf(xs, ys, smoothλ, c=:diverging_bwr_40_95_c42_n256, axis = nothing, showaxis =false,aspect_ratio=:equal,camera=(0,90))\n",
    "plot3 = contourf(xs, ys, μdiscont, c=:diverging_bwr_40_95_c42_n256, axis = nothing, showaxis =false,aspect_ratio=:equal, camera=(0,90))\n",
    "plot4 = contourf(xs, ys, smoothμ, c=:diverging_bwr_40_95_c42_n256, axis = nothing, showaxis =false,aspect_ratio=:equal, camera=(0,90))\n",
    "plot5 = contourf(xs, ys, Gdiscont, c=:diverging_bwr_40_95_c42_n256, axis = nothing, showaxis =false,aspect_ratio=:equal, camera=(0,90))\n",
    "plot6 = contourf(xs, ys, smoothG, c=:diverging_bwr_40_95_c42_n256, axis = nothing, showaxis =false,aspect_ratio=:equal, camera=(0,90))\n",
    "plot(plot1,plot2)\n",
    "plot(plot3,plot4)\n",
    "#plot(plot5,plot6)"
   ]
  },
  {
   "cell_type": "code",
   "execution_count": null,
   "id": "liable-passing",
   "metadata": {},
   "outputs": [],
   "source": [
    "using Gmsh:gmsh\n",
    "using LinearAlgebra\n",
    "using PyPlot\n",
    "using WriteVTK\n",
    "using SparseArrays\n",
    "using Printf\n",
    "using MinFEM\n",
    "using Gridap\n",
    "using GridapGmsh"
   ]
  },
  {
   "cell_type": "code",
   "execution_count": null,
   "id": "40042b05",
   "metadata": {},
   "outputs": [],
   "source": [
    "lsp = 0.3\n",
    "hf = lsp/2.2\n",
    "hd = 10*hf\n",
    "Lₚ = 40.0\n",
    "Hₚ = 40.0\n",
    "rc = 2"
   ]
  },
  {
   "cell_type": "code",
   "execution_count": null,
   "id": "bright-suggestion",
   "metadata": {
    "scrolled": true
   },
   "outputs": [],
   "source": [
    "gmsh.initialize()\n",
    "gmsh.option.setNumber(\"General.Terminal\", 1)\n",
    "\n",
    "gmsh.model.geo.addPoint(-Lₚ/2, -Hₚ/2, 0.0, hd, 1)\n",
    "gmsh.model.geo.addPoint(-rc, -Hₚ/2, 0.0, hf, 2)\n",
    "gmsh.model.geo.addPoint(0, -Hₚ/2, 0.0, hf, 3)\n",
    "gmsh.model.geo.addPoint(rc, -Hₚ/2, 0.0, hf, 4)\n",
    "gmsh.model.geo.addPoint(Lₚ/2, -Hₚ/2, 0.0, hd, 5)\n",
    "gmsh.model.geo.addPoint(Lₚ/2, 0.0, 0.0, hd, 6)\n",
    "#gmsh.model.geo.addPoint(Lₚ/2, 2*ls, 0.0, hd, 7)\n",
    "gmsh.model.geo.addPoint(Lₚ/2, Hₚ/2, 0.0, hd, 8)\n",
    "gmsh.model.geo.addPoint(-Lₚ/2, Hₚ/2, 0.0, hd, 9)\n",
    "gmsh.model.geo.addPoint(-Lₚ/2, 0.0, 0.0, hd, 10)\n",
    "#gmsh.model.geo.addPoint(-Lₚ/2, -2*ls, 0.0, hd, 11)\n",
    "\n",
    "gmsh.model.geo.addLine(1, 2, 1)\n",
    "gmsh.model.geo.addCircleArc(4, 3, 2, 2)\n",
    "gmsh.model.geo.addLine(4, 5, 3)\n",
    "gmsh.model.geo.addLine(5, 6, 4)\n",
    "gmsh.model.geo.addLine(6, 8, 5)\n",
    "gmsh.model.geo.addLine(8, 9, 6)\n",
    "gmsh.model.geo.addLine(9, 10, 7)\n",
    "gmsh.model.geo.addLine(10, 1, 8)\n",
    "\n",
    "gmsh.model.geo.addLine(6, 10, 9)\n",
    "#gmsh.model.geo.addLine(7, 10, 12)\n",
    "\n",
    "gmsh.model.geo.addCurveLoop([1,-2,3,4,9,8],1)\n",
    "gmsh.model.geo.addCurveLoop([5,6,7,-9],2)\n",
    "\n",
    "gmsh.model.geo.addPlaneSurface([1], 1)\n",
    "gmsh.model.geo.addPlaneSurface([2], 2)\n",
    "#gmsh.model.geo.addPlaneSurface([1,2], 3)\n",
    "\n",
    "gmsh.model.addPhysicalGroup(1, [6],1)\n",
    "gmsh.model.addPhysicalGroup(1, [7,8],2)\n",
    "gmsh.model.addPhysicalGroup(1, [4,5],3)\n",
    "\n",
    "gmsh.model.addPhysicalGroup(2, [1],1)\n",
    "gmsh.model.addPhysicalGroup(2, [2],2)\n",
    "#gmsh.model.addPhysicalGroup(2, [3],3)\n",
    "\n",
    "gmsh.model.setPhysicalName(2, 1, \"MatrixB\")\n",
    "gmsh.model.setPhysicalName(2, 2, \"MatrixA\")\n",
    "#gmsh.model.setPhysicalName(2, 3, \"Domain\")\n",
    "\n",
    "gmsh.model.setPhysicalName(1, 1, \"DirichletTop\")\n",
    "gmsh.model.setPhysicalName(1, 2, \"DirichletLeft\")\n",
    "gmsh.model.setPhysicalName(1, 3, \"DirichletRight\")\n",
    "\n",
    "\n",
    "gmsh.model.mesh.field.add(\"Box\", 11)\n",
    "gmsh.model.mesh.field.setNumber(11, \"VIn\", hf)\n",
    "gmsh.model.mesh.field.setNumber(11, \"VOut\", hd)\n",
    "gmsh.model.mesh.field.setNumber(11, \"XMin\", -0.5*Lₚ)\n",
    "gmsh.model.mesh.field.setNumber(11, \"XMax\", 0.5*Lₚ)\n",
    "gmsh.model.mesh.field.setNumber(11, \"YMin\", -2*lsp)\n",
    "gmsh.model.mesh.field.setNumber(11, \"YMax\", 2*lsp)\n",
    "gmsh.model.mesh.field.setAsBackgroundMesh(11)\n",
    "\n",
    "gmsh.model.geo.synchronize()\n",
    "gmsh.model.mesh.generate(2)\n",
    "\n",
    "gmsh.write(\"RectangularComposite.msh\")\n",
    "gmsh.finalize()"
   ]
  },
  {
   "cell_type": "code",
   "execution_count": null,
   "id": "2763d34f",
   "metadata": {},
   "outputs": [],
   "source": [
    "model = GmshDiscreteModel(\"RectangularComposite.msh\")\n",
    "writevtk(model ,\"RectangularComposite\")"
   ]
  },
  {
   "cell_type": "code",
   "execution_count": null,
   "id": "ccb2de75",
   "metadata": {
    "scrolled": false
   },
   "outputs": [],
   "source": [
    "mesh = import_mesh(\"RectangularComposite.msh\")\n",
    "NodesCoord = mesh.Nodes\n",
    "Nₙ = size(NodesCoord,1)\n",
    "nodeCoordX = [NodesCoord[i][1] for i in 1:Nₙ]\n",
    "nodeCoordY = [NodesCoord[i][2] for i in 1:Nₙ]\n",
    "coord = [nodeCoordX nodeCoordY]\n",
    "elem = mesh.Elements\n",
    "Nₑ = size(elem,1)\n",
    "\n",
    "xl = minimum(coord[:,1])\n",
    "xr = maximum(coord[:,1])\n",
    "yb = minimum(coord[:,2])\n",
    "yt = maximum(coord[:,2])\n",
    "bbNdLeft = coord[:,1][coord[:,1] .<= xl+1e-6]\n",
    "bbNdRight = coord[:,1][coord[:,1] .>= xr-1e-6]\n",
    "bbNdTop = coord[:,2][coord[:,2] .>= yt-1e-6]\n",
    "\n",
    "data = tuple(coord[1,:]...)\n",
    "for i in 2:Nₙ\n",
    "data = [data; tuple(coord[i,:]...)]\n",
    "end\n",
    "idxLB = findall(((x,y),) -> x in bbNdLeft, data)\n",
    "idxRB = findall(((x,y),) -> x in bbNdRight, data)\n",
    "idxTB = findall(((x,y),) -> y in bbNdTop, data)\n",
    "\n",
    "idxForce = idxRB \n",
    "\n",
    "PyPlot.scatter(coord[:,1],coord[:,2], label = \"Dom\")\n",
    "PyPlot.scatter(coord[idxLB,1],coord[idxLB,2], label = \"LeftSupport\")\n",
    "PyPlot.scatter(coord[idxRB,1],coord[idxRB,2], label = \"LoadLine\")\n",
    "PyPlot.scatter(coord[idxTB,1],coord[idxTB,2],label = \"TopSupport\")"
   ]
  },
  {
   "cell_type": "code",
   "execution_count": null,
   "id": "88178b7e",
   "metadata": {},
   "outputs": [],
   "source": [
    "λExp = lambdify(smoothλ)\n",
    "μExp = lambdify(smoothμ)\n",
    "GExp = lambdify(Gdiscont)"
   ]
  },
  {
   "cell_type": "code",
   "execution_count": null,
   "id": "4694ed7c",
   "metadata": {},
   "outputs": [],
   "source": [
    "λVal = zeros(Float64,Nₙ,1)\n",
    "μVal = zeros(Float64,Nₙ,1)\n",
    "GVal = zeros(Float64,Nₙ,1)\n",
    "\n",
    "for i in 1:Nₙ\n",
    "    λVal[i] = λExp.(NodesCoord[i][1],NodesCoord[i][2])\n",
    "    μVal[i] = μExp.(NodesCoord[i][1],NodesCoord[i][2])\n",
    "    GVal[i] = GExp.(NodesCoord[i][1],NodesCoord[i][2])\n",
    "end"
   ]
  },
  {
   "cell_type": "markdown",
   "id": "ranging-prime",
   "metadata": {},
   "source": [
    "## Input Parameters "
   ]
  },
  {
   "cell_type": "code",
   "execution_count": null,
   "id": "formed-meditation",
   "metadata": {},
   "outputs": [],
   "source": [
    "const DOFᵤ = 2\n",
    "const DOFₙ = DOFᵤ \n",
    "const TElₜ = 3 \n",
    "const HPₙ = 3"
   ]
  },
  {
   "cell_type": "code",
   "execution_count": null,
   "id": "ahead-owner",
   "metadata": {},
   "outputs": [],
   "source": [
    "function hammer(nhpt)\n",
    "\n",
    "samp = zeros(Float64,nhpt,3)\n",
    "if nhpt == 1\n",
    "    samp=[1/3 1/3 1/2];\n",
    "elseif  nhpt == 3\n",
    "    samp=[1/6 1/6 1/6; \n",
    "        2/3 1/6 1/6; \n",
    "        1/6 2/3 1/6]\n",
    "elseif nhpt == 4\n",
    "    samp= [1/3 1/3 -27/96; \n",
    "        1/5 1/5 25/96;\n",
    "        3/5 1/5 25/96;\n",
    "        1/5 3/5 25/96]\n",
    "end\n",
    "    return samp\n",
    "end\n",
    "\n",
    "samp = hammer(HPₙ)"
   ]
  },
  {
   "cell_type": "code",
   "execution_count": null,
   "id": "nervous-walnut",
   "metadata": {},
   "outputs": [],
   "source": [
    "function ShapeFunStrainDispMatrix(ElType,ξ,η,coordEl,DOF)   \n",
    "    N = zeros(Float64,1,ElType)\n",
    "    dN_dξ = zeros(Float64,1,ElType)\n",
    "    dN_dη = zeros(Float64,1,ElType)\n",
    "    B₀ = zeros(Float64,2,ElType)\n",
    "    J = zeros(Float64,2,2)\n",
    "    JinvB₀ = zeros(Float64,2,ElType)\n",
    "    Bᵤ = zeros(Float64,ElType,DOF*ElType)\n",
    "    if ElType == 3\n",
    "        N[1,1] = 1 - ξ -η\n",
    "        N[1,2] = ξ\n",
    "        N[1,3] = η\n",
    "        dN_dξ[1,1]  = -1.0\n",
    "        dN_dξ[1,2]  = 1.0\n",
    "        dN_dξ[1,3]  = 0.0\n",
    "        dN_dη[1,1]  = -1.0\n",
    "        dN_dη[1,2]  = 0.0\n",
    "        dN_dη[1,3]  = 1.0\n",
    "        B₀ = [dN_dξ; dN_dη]\n",
    "        J = [dN_dξ; dN_dη]*coordEl\n",
    "        JinvB₀ = inv(J)*B₀\n",
    "        Bᵤ = [JinvB₀[1,:]'   zeros(1,ElType); zeros(1,ElType)  JinvB₀[2,:]'; JinvB₀[2,:]'  JinvB₀[1,:]']\n",
    "    return  J,JinvB₀,N,Bᵤ \n",
    "  end\n",
    "end"
   ]
  },
  {
   "cell_type": "code",
   "execution_count": null,
   "id": "chicken-logic",
   "metadata": {},
   "outputs": [],
   "source": [
    "function PhaseFieldStiffMatStrEnePos(disp,PrvStrEnerPos)\n",
    "        kfp = spzeros(Float64,Nₙ,Nₙ)\n",
    "        fpf = zeros(Float64,Nₙ,1) \n",
    "        StrEnerPos = zeros(Float64,Nₑ*HPₙ,1)\n",
    "    for iel in 1:Nₑ\n",
    "       ndIndx = elem[iel]\n",
    "       stIndex = (((iel-1)*HPₙ) .+ 1:(iel*HPₙ))\n",
    "       coordEl = coord[ndIndx,:]\n",
    "       dispEl =  disp[ndIndx,:] \n",
    "       PrvStrEnerPosEl  = PrvStrEnerPos[stIndex]\n",
    "    λNode =   λVal[ndIndx,:]\n",
    "    μNode =   μVal[ndIndx,:]\n",
    "    GNode =   GVal[ndIndx,:]\n",
    "    Kefp = zeros(Float64,TElₜ,TElₜ)\n",
    "    fepf = zeros(Float64,TElₜ,1) \n",
    "    strEnePosEl = zeros(Float64,HPₙ,1)      \n",
    "    for i = 1:HPₙ\n",
    "    ξ = samp[i,1]\n",
    "    η = samp[i,2]\n",
    "    wt = samp[i,3]\n",
    "    J,JinvB₀,N,Bᵤ = ShapeFunStrainDispMatrix(TElₜ,ξ,η,coordEl,DOFₙ)\n",
    "    detJ = det(J)\n",
    "    Gm = N*GNode\n",
    "    λd = N*λNode\n",
    "    μd = N*μNode\n",
    "    Gc = Gm[1]\n",
    "    strain = Bᵤ*[dispEl[:,1]' dispEl[:,2]']'\n",
    "    l=(strain[1] .+ strain[2])\n",
    "    εArray = [strain[1] strain[3];strain[3] strain[2]]\n",
    "    Λ, P = eigen(εArray)\n",
    "    ε1 = Λ[1]\n",
    "    ε2 = Λ[2]\n",
    "    if ε1 >= 0 &&  ε2 >= 0\n",
    "        Λpos = [ε1 0; 0 ε2]\n",
    "        Λneg = [0 0; 0 0]\n",
    "    elseif ε1 >= 0 &&  ε2 < 0\n",
    "        Λpos = [ε1 0; 0 0]\n",
    "        Λneg = [0 0; 0 ε2]\n",
    "    elseif ε1 < 0 &&  ε2 >= 0\n",
    "        Λpos = [0 0; 0 ε2]\n",
    "        Λneg = [ε1 0; 0 0]\n",
    "    elseif ε1 < 0 &&  ε2 < 0\n",
    "        Λpos = [0 0; 0 0]\n",
    "        Λneg = [ε1 0; 0 ε2]\n",
    "    end\n",
    "    εPos = P*Λpos*P'\n",
    "    εNeg = P*Λneg*P'\n",
    "    ContractStrain = 0\n",
    "            for i=1:2\n",
    "                for j = 1:2\n",
    "                    ContractStrain = ContractStrain + εPos[i,j]*εPos[i,j]\n",
    "                end\n",
    "            end\n",
    "    if l .>= 0\n",
    "                strEnePosEl[i] = 0.5*λd[1]*l^2 + μd[1]*ContractStrain\n",
    "    elseif l .< 0\n",
    "                strEnePosEl[i] = μd[1]*ContractStrain\n",
    "    end \n",
    "        if PrvStrEnerPosEl[i] .>  strEnePosEl[i]            \n",
    "        strEnePosEl[i] = PrvStrEnerPosEl[i]\n",
    "        end\n",
    "    A = Matrix{Float64}(I,2,2)\n",
    "    Kefp = Kefp .+ t*wt*detJ*lsp*Gc*(JinvB₀'*A*JinvB₀)\n",
    "    Kefp = Kefp .+ t*wt*detJ*2*strEnePosEl[i]*(N'*N)\n",
    "    Kefp = Kefp .+ t*wt*detJ*(Gc/lsp)*(N'*N)\n",
    "        \n",
    "    fepf = fepf .+ t*wt*detJ*(Gc/lsp)*N' \n",
    "    end      \n",
    "    kfp[ndIndx[:,1],ndIndx[:,1]] = kfp[ndIndx[:,1],ndIndx[:,1]] .+ Kefp\n",
    "    fpf[ndIndx[:,1]] = fpf[ndIndx[:,1]] .+  fepf\n",
    "    StrEnerPos[stIndex] =  strEnePosEl  \n",
    "    end\n",
    "    return kfp,fpf,StrEnerPos\n",
    "end"
   ]
  },
  {
   "cell_type": "markdown",
   "id": "9aeea1d3",
   "metadata": {},
   "source": [
    "ndIndx = elem[1]\n",
    "phiEl =   Eval[ndIndx,:]\n",
    "phiNewEl =   νVal[ndIndx,:]\n",
    "Ed = N*phiEl\n",
    "νd = N*phiNewEl\n",
    "νd[1]\n",
    "Dc(Ed[1],νd[1])"
   ]
  },
  {
   "cell_type": "code",
   "execution_count": null,
   "id": "acute-citizenship",
   "metadata": {
    "scrolled": true
   },
   "outputs": [],
   "source": [
    "function ElasStiffMat(disp,PhaseField)\n",
    "    \n",
    "    KG = spzeros(Float64,DOFₙ*Nₙ,DOFₙ*Nₙ)  \n",
    "    eps = 1e-10\n",
    "    \n",
    "    for iel in 1:Nₑ\n",
    "    ndIndx = elem[iel]\n",
    "    elDOF = [ndIndx ; ndIndx .+ Nₙ*ones(Int64,TElₜ,1)]\n",
    "    dispEl =  disp[ndIndx,:] \n",
    "    coordEl = coord[ndIndx,:]\n",
    "    phiEl =   PhaseField[ndIndx,:]                 \n",
    "    λNode =   λVal[ndIndx,:]\n",
    "    μNode =   μVal[ndIndx,:]\n",
    "    GNode =   GVal[ndIndx,:]\n",
    "        \n",
    "    Kᵤᵤ = zeros(Float64,DOFₙ*TElₜ,DOFₙ*TElₜ)            \n",
    "    for i = 1:HPₙ \n",
    "    ξ = samp[i,1]\n",
    "    η = samp[i,2]\n",
    "    wt = samp[i,3]\n",
    "    J,JinvB₀,N,Bᵤ = ShapeFunStrainDispMatrix(TElₜ,ξ,η,coordEl,DOFₙ)\n",
    "    detJ = det(J)\n",
    "    strain = Bᵤ*[dispEl[:,1]' dispEl[:,2]']'  \n",
    "    gpPhiEl =  N*phiEl\n",
    "    λd = N*λNode\n",
    "    μd = N*μNode\n",
    "    Gm = N*GNode\n",
    "    pfsh = gpPhiEl[1,1].^2 .+ eps  #g_s\n",
    "    Dmod = [λd[1]+2*μd[1]  λd[1]  0; λd[1]  λd[1]+2*μd[1]  0;0  0  2*μd[1]]*pfsh                \n",
    "    Kᵤᵤ = Kᵤᵤ .+ t*wt*Bᵤ'*Dmod*Bᵤ*detJ\n",
    "    end\n",
    "    KG[elDOF[:,1],elDOF[:,1]] = KG[elDOF[:,1],elDOF[:,1]] .+ Kᵤᵤ\n",
    "    end   \n",
    "    return KG\n",
    "end"
   ]
  },
  {
   "cell_type": "markdown",
   "id": "stock-gates",
   "metadata": {},
   "source": [
    "## FE formulation"
   ]
  },
  {
   "cell_type": "code",
   "execution_count": null,
   "id": "d83d0a4d",
   "metadata": {},
   "outputs": [],
   "source": [
    "const vAppMax = 0.20\n",
    "\n",
    "Load = Float64[]\n",
    "Displacement = Float64[]\n",
    "\n",
    "cell = MeshCell(VTKCellTypes.VTK_TRIANGLE, elem[1])\n",
    "for iel in 2:Nₑ\n",
    "c = MeshCell(VTKCellTypes.VTK_TRIANGLE, elem[iel])\n",
    "cell = [cell; c]\n",
    "end"
   ]
  },
  {
   "cell_type": "code",
   "execution_count": null,
   "id": "741c39ce",
   "metadata": {
    "scrolled": true
   },
   "outputs": [],
   "source": [
    "count = 0 \n",
    "v = 0\n",
    "delv = 1e-3\n",
    "innerMax = 20\n",
    "\n",
    "uv = zeros(Float64,2*Nₙ,1)\n",
    "disp = zeros(Float64,Nₙ,2)\n",
    "StrEnerPos = zeros(Float64,Nₑ*HPₙ,1)\n",
    "PrvStrEnerPos = zeros(Float64,Nₑ*HPₙ,1)\n",
    "PhaseField = zeros(Float64,Nₙ,1)\n",
    "KG = spzeros(Float64,DOFₙ*Nₙ,DOFₙ*Nₙ)\n",
    "Force = zeros(Float64,DOFₙ*Nₙ,1)\n",
    "\n",
    "timet3 = time()\n",
    "while v .< vAppMax \n",
    "   count = count .+ 1\n",
    "    v = v .+ delv;\n",
    "    print(\"\\n Entering displacemtent step :\", float(v))\n",
    "    \n",
    "  for inner = 1:innerMax\n",
    "        \n",
    "      kfp,fpf,StrEnerPos = PhaseFieldStiffMatStrEnePos(disp,PrvStrEnerPos) \n",
    "      PrvStrEnerPos = StrEnerPos \n",
    "\n",
    "      err = sqrt((kfp*PhaseField - fpf)'*(kfp*PhaseField - fpf))[1]\n",
    "      print(\"\\n error = \",float(err))\n",
    "               \n",
    "      PhaseField = kfp\\fpf     \n",
    "\n",
    "      KG = ElasStiffMat(disp,PhaseField)\n",
    "\n",
    "            DOFbbLeftUV = idxLB\n",
    "            DOFbbRightV = idxRB\n",
    "\n",
    "            DOFtbV = idxTB .+ Nₙ*ones(Int64,size(idxTB,1),1)\n",
    "            GenDispDOF = [DOFbbLeftUV; DOFbbRightV; DOFtbV]\n",
    "            TotDOF = collect(1:1:2*Nₙ)\n",
    "            UnDOF = setdiff(TotDOF,GenDispDOF)\n",
    "            uvb = [zeros(Float64,size(idxLB,1),1); v*ones(Float64,size(idxRB,1),1); zeros(Float64,size(idxTB,1),1)]\n",
    "            uvd = -(KG[UnDOF,UnDOF])\\(KG[UnDOF,GenDispDOF[:,1]]*uvb)\n",
    "            uv[UnDOF] = uvd\n",
    "            uv[GenDispDOF] = uvb\n",
    "            disp[:,1] = uv[1:Nₙ]\n",
    "            disp[:,2] = uv[Nₙ+1:2*Nₙ]\n",
    "      \n",
    "        if err < 1e-3\n",
    "            break      \n",
    "        end \n",
    "  end\n",
    "Force = KG*uv  \n",
    "Node_Force = Force[idxForce]        \n",
    "\n",
    "push!(Load, sum(Node_Force))\n",
    "push!(Displacement, v)\n",
    "\n",
    "vtk_grid(\"./Results_PhaseFieldBeamWithNotch$count\",coord[:,1],coord[:,2],cell) do vtk \n",
    "        vtk[\"u\", VTKPointData()] = uv[1:Nₙ]\n",
    "        vtk[\"v\", VTKPointData()] = uv[Nₙ+1:2*Nₙ]\n",
    "        vtk[\"PhaseField\",VTKPointData()] = PhaseField \n",
    "        end\n",
    "end\n",
    "timet4 = time()"
   ]
  },
  {
   "cell_type": "code",
   "execution_count": null,
   "id": "6d836fa7",
   "metadata": {},
   "outputs": [],
   "source": [
    "vtk_grid(\"./MaterialProperty\",coord[:,1],coord[:,2],cell) do vtk \n",
    "        vtk[\"lambda\", VTKPointData()] = λVal[1:Nₙ]\n",
    "        vtk[\"mu\", VTKPointData()] = μVal[1:Nₙ]\n",
    "        vtk[\"Gc\", VTKPointData()] = GVal[1:Nₙ]\n",
    "end"
   ]
  },
  {
   "cell_type": "code",
   "execution_count": null,
   "id": "9e077dc2",
   "metadata": {},
   "outputs": [],
   "source": [
    "Force"
   ]
  },
  {
   "cell_type": "code",
   "execution_count": null,
   "id": "40767b41",
   "metadata": {},
   "outputs": [],
   "source": [
    "using Plots"
   ]
  },
  {
   "cell_type": "code",
   "execution_count": null,
   "id": "limiting-decline",
   "metadata": {
    "scrolled": true
   },
   "outputs": [],
   "source": [
    "plot(Displacement,Load)"
   ]
  },
  {
   "cell_type": "code",
   "execution_count": null,
   "id": "14caa6e1",
   "metadata": {
    "scrolled": true
   },
   "outputs": [],
   "source": [
    "Load"
   ]
  },
  {
   "cell_type": "code",
   "execution_count": null,
   "id": "3f88d162",
   "metadata": {
    "scrolled": true
   },
   "outputs": [],
   "source": [
    "maximum(Load)"
   ]
  },
  {
   "cell_type": "code",
   "execution_count": null,
   "id": "57ac5da6",
   "metadata": {},
   "outputs": [],
   "source": [
    "using DelimitedFiles\n",
    "Disp = writedlm(\"DispDataSingleLayerPlatewithSquareInclusion.csv\",  Displacement, ',')\n",
    "Force = writedlm(\"LoadDataSingleLayerPlatewithSquareInclusion.csv\",  Load, ',')"
   ]
  },
  {
   "cell_type": "code",
   "execution_count": null,
   "id": "70e1790a",
   "metadata": {},
   "outputs": [],
   "source": [
    "timet2 = time()"
   ]
  }
 ],
 "metadata": {
  "@webio": {
   "lastCommId": null,
   "lastKernelId": null
  },
  "kernelspec": {
   "display_name": "Julia 1.6.2",
   "language": "julia",
   "name": "julia-1.6"
  },
  "language_info": {
   "file_extension": ".jl",
   "mimetype": "application/julia",
   "name": "julia",
   "version": "1.6.2"
  }
 },
 "nbformat": 4,
 "nbformat_minor": 5
}
