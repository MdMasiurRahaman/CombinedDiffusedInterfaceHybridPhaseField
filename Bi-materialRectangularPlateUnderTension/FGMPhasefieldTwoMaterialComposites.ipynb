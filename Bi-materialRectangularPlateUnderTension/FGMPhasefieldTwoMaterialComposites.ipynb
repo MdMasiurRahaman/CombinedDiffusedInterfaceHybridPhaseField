{
 "cells": [
  {
   "cell_type": "code",
   "execution_count": null,
   "id": "87fd73b2",
   "metadata": {},
   "outputs": [],
   "source": [
    "using  SymPy\n",
    "using  Plots; pyplot()\n",
    "using LinearAlgebra"
   ]
  },
  {
   "cell_type": "code",
   "execution_count": null,
   "id": "e91a1b48",
   "metadata": {},
   "outputs": [],
   "source": [
    "E₁ = 377.7e3\n",
    "E₂ = 37.7e3\n",
    "ν₁ = 0.2\n",
    "ν₂ = 0.22\n",
    "h = 0.5"
   ]
  },
  {
   "cell_type": "code",
   "execution_count": null,
   "id": "343415fc",
   "metadata": {},
   "outputs": [],
   "source": [
    "ht = 1"
   ]
  },
  {
   "cell_type": "code",
   "execution_count": null,
   "id": "cab2d068",
   "metadata": {},
   "outputs": [],
   "source": [
    "Eᵢ = 37.7e3\n",
    "Eₘ = 377.7e3\n",
    "νᵢ = 0.22\n",
    "νₘ = 0.2\n",
    "@show λᵢ = Eᵢ*νᵢ/((1+νᵢ)*(1-2*νᵢ))\n",
    "@show λₘ = Eₘ*νₘ/((1+νₘ)*(1-2*νₘ))\n",
    "@show μᵢ = Eᵢ/(2*(1+νᵢ))\n",
    "@show μₘ = Eₘ/(2*(1+νₘ))"
   ]
  },
  {
   "cell_type": "code",
   "execution_count": null,
   "id": "18b6c1ca",
   "metadata": {},
   "outputs": [],
   "source": [
    "Gᵢ = 1\n",
    "Gₘ = 10"
   ]
  },
  {
   "cell_type": "code",
   "execution_count": null,
   "id": "cb77c212",
   "metadata": {},
   "outputs": [],
   "source": [
    "L = 20\n",
    "H = 20\n",
    "η = 1e-10"
   ]
  },
  {
   "cell_type": "code",
   "execution_count": null,
   "id": "50393304",
   "metadata": {},
   "outputs": [],
   "source": [
    "x,x₁,y,y₁ = symbols(\"x,x₁,y,y₁\", real = true)"
   ]
  },
  {
   "cell_type": "markdown",
   "id": "c78dd1fc",
   "metadata": {},
   "source": [
    "### Piecewise function"
   ]
  },
  {
   "cell_type": "code",
   "execution_count": null,
   "id": "5c781e9d",
   "metadata": {},
   "outputs": [],
   "source": [
    "heaviside(x) = 0.5 * (sign(x) + 1)\n",
    "\n",
    "interval(x, a, b) = heaviside(x-a) - heaviside(x-b)"
   ]
  },
  {
   "cell_type": "markdown",
   "id": "8fd89d90",
   "metadata": {},
   "source": [
    "### Gaussian Kernel Function"
   ]
  },
  {
   "cell_type": "code",
   "execution_count": null,
   "id": "d349f7b0",
   "metadata": {},
   "outputs": [],
   "source": [
    "wₕ(x,x₁) = (1/(sqrt(2*pi)*h))*exp(-(x-x₁)^2/(2*h^2))"
   ]
  },
  {
   "cell_type": "code",
   "execution_count": null,
   "id": "9b7e5b37",
   "metadata": {},
   "outputs": [],
   "source": [
    "λFx1 = interval(x₁,-L-ht,L+ht)*wₕ(x,x₁)\n",
    "λFy1 = interval(y₁,-H-ht,0)*wₕ(y,y₁)\n",
    "λFy2 = interval(y₁,0,H+ht)*wₕ(y,y₁)"
   ]
  },
  {
   "cell_type": "code",
   "execution_count": null,
   "id": "f531617b",
   "metadata": {},
   "outputs": [],
   "source": [
    "μFx1 = interval(x₁,-L-ht,L+ht)*wₕ(x,x₁)\n",
    "μFy1 = interval(y₁,-H-ht,0)*wₕ(y,y₁)\n",
    "μFy2 = interval(y₁,0,H+ht)*wₕ(y,y₁)"
   ]
  },
  {
   "cell_type": "code",
   "execution_count": null,
   "id": "7f71f085",
   "metadata": {},
   "outputs": [],
   "source": [
    "λdiscont1 = λᵢ * interval(x₁,-L-ht,L+ht)* interval(y₁,-H-ht,0)\n",
    "λdiscont2 = λₘ * interval(x₁,-L-ht,L+ht)* interval(y₁,0,H+ht)\n",
    "λdiscont = λdiscont1 + λdiscont2"
   ]
  },
  {
   "cell_type": "code",
   "execution_count": null,
   "id": "0463ca20",
   "metadata": {
    "scrolled": true
   },
   "outputs": [],
   "source": [
    "μdiscont1 = μᵢ * interval(x₁,-L-ht,L+ht)* interval(y₁,-H-ht,0)\n",
    "μdiscont2 = μₘ * interval(x₁,-L-ht,L+ht)* interval(y₁,0,H+ht)\n",
    "μdiscont = μdiscont1 + μdiscont2"
   ]
  },
  {
   "cell_type": "code",
   "execution_count": null,
   "id": "e715faf0",
   "metadata": {
    "scrolled": true
   },
   "outputs": [],
   "source": [
    "Gdiscont1 = Gᵢ * interval(x₁,-L-ht,L+ht)* interval(y₁,-H-ht,0)\n",
    "Gdiscont2 = Gₘ * interval(x₁,-L-ht,L+ht)* interval(y₁,0,H+ht)\n",
    "Gdiscont = Gdiscont1 + Gdiscont2"
   ]
  },
  {
   "cell_type": "code",
   "execution_count": null,
   "id": "26745c6a",
   "metadata": {},
   "outputs": [],
   "source": [
    "smoothλ1 = integrate(λFx1,(x₁,-L-ht,L+ht))*integrate(λFy1,(y₁,-H-ht,H+ht))*λᵢ\n",
    "smoothλ2 = integrate(λFx1,(x₁,-L-ht,L+ht))*integrate(λFy2,(y₁,-H-ht,H+ht))*λₘ\n",
    "smoothλ = smoothλ1 + smoothλ2"
   ]
  },
  {
   "cell_type": "code",
   "execution_count": null,
   "id": "040b8854",
   "metadata": {
    "scrolled": true
   },
   "outputs": [],
   "source": [
    "smoothμ1 = integrate(μFx1,(x₁,-L-ht,L+ht))*integrate(μFy1,(y₁,-H-ht,H+ht))*μᵢ\n",
    "smoothμ2 = integrate(μFx1,(x₁,-L-ht,L+ht))*integrate(μFy2,(y₁,-H-ht,H+ht))*μₘ\n",
    "smoothμ = smoothμ1 + smoothμ2"
   ]
  },
  {
   "cell_type": "code",
   "execution_count": null,
   "id": "3694c442",
   "metadata": {
    "scrolled": true
   },
   "outputs": [],
   "source": [
    "smoothG1 = integrate(μFx1,(x₁,-L-ht,L+ht))*integrate(μFy1,(y₁,-H-ht,H+ht))*Gᵢ\n",
    "smoothG2 = integrate(μFx1,(x₁,-L-ht,L+ht))*integrate(μFy2,(y₁,-H-ht,H+ht))*Gₘ\n",
    "smoothG = smoothG1 + smoothG2"
   ]
  },
  {
   "cell_type": "code",
   "execution_count": null,
   "id": "735a984e",
   "metadata": {
    "scrolled": true
   },
   "outputs": [],
   "source": [
    "xs = range(-L,L, length=100)\n",
    "ys = range(-H,H, length=100)\n",
    "\n",
    "plot1 = contourf(xs, ys, λdiscont, c=:diverging_bwr_40_95_c42_n256, axis = nothing, showaxis =false,aspect_ratio=:equal, camera=(0,90))\n",
    "plot2 = contourf(xs, ys, smoothλ, c=:diverging_bwr_40_95_c42_n256, axis = nothing, showaxis =false,aspect_ratio=:equal,camera=(0,90))\n",
    "plot3 = contourf(xs, ys, μdiscont, c=:diverging_bwr_40_95_c42_n256, axis = nothing, showaxis =false,aspect_ratio=:equal, camera=(0,90))\n",
    "plot4 = contourf(xs, ys, smoothμ, c=:diverging_bwr_40_95_c42_n256, axis = nothing, showaxis =false,aspect_ratio=:equal, camera=(0,90))\n",
    "plot5 = contourf(xs, ys, Gdiscont, c=:diverging_bwr_40_95_c42_n256, axis = nothing, showaxis =false,aspect_ratio=:equal, camera=(0,90))\n",
    "plot6 = contourf(xs, ys, smoothG, c=:diverging_bwr_40_95_c42_n256, axis = nothing, showaxis =false,aspect_ratio=:equal, camera=(0,90))\n",
    "plot(plot1,plot2)\n",
    "plot(plot3,plot4)\n",
    "#plot(plot5,plot6)"
   ]
  },
  {
   "cell_type": "code",
   "execution_count": null,
   "id": "d522c642",
   "metadata": {},
   "outputs": [],
   "source": [
    "using Gmsh:gmsh\n",
    "using  GridapGmsh\n",
    "using  Gridap\n",
    "using  Gridap.Geometry\n",
    "using  Gridap.TensorValues\n",
    "using  Gridap.Fields\n",
    "using  Gridap.CellData\n",
    "using  Gridap.ReferenceFEs"
   ]
  },
  {
   "cell_type": "code",
   "execution_count": null,
   "id": "03d63e87",
   "metadata": {},
   "outputs": [],
   "source": [
    "ls = 0.3\n",
    "hf = ls/2.2\n",
    "hd = 10*hf\n",
    "Lₚ = 40.0\n",
    "Hₚ = 40.0\n",
    "rc = 2"
   ]
  },
  {
   "cell_type": "code",
   "execution_count": null,
   "id": "2de72dc3",
   "metadata": {},
   "outputs": [],
   "source": [
    "gmsh.initialize()\n",
    "gmsh.option.setNumber(\"General.Terminal\", 1)\n",
    "\n",
    "gmsh.model.geo.addPoint(-Lₚ/2, -Hₚ/2, 0.0, hd, 1)\n",
    "gmsh.model.geo.addPoint(-rc, -Hₚ/2, 0.0, hf, 2)\n",
    "gmsh.model.geo.addPoint(0, -Hₚ/2, 0.0, hf, 3)\n",
    "gmsh.model.geo.addPoint(rc, -Hₚ/2, 0.0, hf, 4)\n",
    "gmsh.model.geo.addPoint(Lₚ/2, -Hₚ/2, 0.0, hd, 5)\n",
    "gmsh.model.geo.addPoint(Lₚ/2, 0.0, 0.0, hd, 6)\n",
    "gmsh.model.geo.addPoint(Lₚ/2, Hₚ/2, 0.0, hd, 8)\n",
    "gmsh.model.geo.addPoint(-Lₚ/2, Hₚ/2, 0.0, hd, 9)\n",
    "gmsh.model.geo.addPoint(-Lₚ/2, 0.0, 0.0, hd, 10)\n",
    "\n",
    "gmsh.model.geo.addLine(1, 2, 1)\n",
    "gmsh.model.geo.addCircleArc(4, 3, 2, 2)\n",
    "gmsh.model.geo.addLine(4, 5, 3)\n",
    "gmsh.model.geo.addLine(5, 6, 4)\n",
    "gmsh.model.geo.addLine(6, 8, 5)\n",
    "gmsh.model.geo.addLine(8, 9, 6)\n",
    "gmsh.model.geo.addLine(9, 10, 7)\n",
    "gmsh.model.geo.addLine(10, 1, 8)\n",
    "\n",
    "gmsh.model.geo.addLine(6, 10, 9)\n",
    "\n",
    "gmsh.model.geo.addCurveLoop([1,-2,3,4,9,8],1)\n",
    "gmsh.model.geo.addCurveLoop([5,6,7,-9],2)\n",
    "\n",
    "gmsh.model.geo.addPlaneSurface([1], 1)\n",
    "gmsh.model.geo.addPlaneSurface([2], 2)\n",
    "\n",
    "gmsh.model.addPhysicalGroup(1, [6],1)\n",
    "gmsh.model.addPhysicalGroup(1, [7,8],2)\n",
    "gmsh.model.addPhysicalGroup(1, [4,5],3)\n",
    "\n",
    "gmsh.model.addPhysicalGroup(2, [1],1)\n",
    "gmsh.model.addPhysicalGroup(2, [2],2)\n",
    "\n",
    "gmsh.model.setPhysicalName(2, 1, \"MatrixB\")\n",
    "gmsh.model.setPhysicalName(2, 2, \"MatrixA\")\n",
    "\n",
    "gmsh.model.setPhysicalName(1, 1, \"DirichletTop\")\n",
    "gmsh.model.setPhysicalName(1, 2, \"DirichletLeft\")\n",
    "gmsh.model.setPhysicalName(1, 3, \"DirichletRight\")\n",
    "\n",
    "\n",
    "gmsh.model.mesh.field.add(\"Box\", 11)\n",
    "gmsh.model.mesh.field.setNumber(11, \"VIn\", hf)\n",
    "gmsh.model.mesh.field.setNumber(11, \"VOut\", hd)\n",
    "gmsh.model.mesh.field.setNumber(11, \"XMin\", -0.5*Lₚ)\n",
    "gmsh.model.mesh.field.setNumber(11, \"XMax\", 0.5*Lₚ)\n",
    "gmsh.model.mesh.field.setNumber(11, \"YMin\", -2*ls)\n",
    "gmsh.model.mesh.field.setNumber(11, \"YMax\", 2*ls)\n",
    "gmsh.model.mesh.field.setAsBackgroundMesh(11)\n",
    "\n",
    "gmsh.model.geo.synchronize()\n",
    "gmsh.model.mesh.generate(2)\n",
    "\n",
    "gmsh.write(\"RectangularComposite.msh\")\n",
    "gmsh.finalize()"
   ]
  },
  {
   "cell_type": "code",
   "execution_count": null,
   "id": "94502196",
   "metadata": {},
   "outputs": [],
   "source": [
    "model = GmshDiscreteModel(\"RectangularComposite.msh\")\n",
    "writevtk(model ,\"RectangularComposite\")"
   ]
  },
  {
   "cell_type": "code",
   "execution_count": null,
   "id": "dedb5b6a",
   "metadata": {},
   "outputs": [],
   "source": [
    "using Gridap.Geometry\n",
    "labels = get_face_labeling(model)\n",
    "dimension = 2\n",
    "mat_tags = get_face_tag(labels,dimension);"
   ]
  },
  {
   "cell_type": "code",
   "execution_count": null,
   "id": "fdee97df",
   "metadata": {},
   "outputs": [],
   "source": [
    "const matrixA_tag = get_tag_from_name(labels,\"MatrixA\")\n",
    "const matrixB_tag = get_tag_from_name(labels,\"MatrixB\")"
   ]
  },
  {
   "cell_type": "code",
   "execution_count": null,
   "id": "2878c2d1",
   "metadata": {},
   "outputs": [],
   "source": [
    "order = 1\n",
    "degree = 2*order\n",
    "Ω = Triangulation(model)\n",
    "dΩ = Measure(Ω,degree)"
   ]
  },
  {
   "cell_type": "code",
   "execution_count": null,
   "id": "8cf52ff5",
   "metadata": {},
   "outputs": [],
   "source": [
    "const Gc_matrixA = 10.0\n",
    "const Gc_matrixB = 1.0"
   ]
  },
  {
   "cell_type": "code",
   "execution_count": null,
   "id": "436c3468",
   "metadata": {},
   "outputs": [],
   "source": [
    "function Gc(s_id,tag)\n",
    "        if tag == matrixA_tag          \n",
    "            return  Gc_matrixA *s_id\n",
    "        elseif tag == matrixB_tag        \n",
    "            return Gc_matrixB *s_id\n",
    "        end\n",
    "end"
   ]
  },
  {
   "cell_type": "code",
   "execution_count": null,
   "id": "b2e28372",
   "metadata": {},
   "outputs": [],
   "source": [
    "I2 = SymTensorValue{2,Float64}(1.0 ,0.0 ,1.0)\n",
    "I4 = I2⊗I2\n",
    "I4_sym = one(SymFourthOrderTensorValue{2,Float64})\n",
    "P_vol = (1.0/3)*I4\n",
    "P_dev = I4_sym  - P_vol"
   ]
  },
  {
   "cell_type": "code",
   "execution_count": null,
   "id": "dc1e2a4c",
   "metadata": {},
   "outputs": [],
   "source": [
    "p = get_cell_points(Ω)"
   ]
  },
  {
   "cell_type": "code",
   "execution_count": null,
   "id": "bb8da3f8",
   "metadata": {},
   "outputs": [],
   "source": [
    "reffe = ReferenceFE(lagrangian,Float64,order)\n",
    "V₁ = FESpace(model, reffe, conformity=:H1)\n",
    "V₂ = FESpace(model, reffe, conformity=:H1)\n",
    "V₃ = FESpace(model, reffe, conformity=:H1)"
   ]
  },
  {
   "cell_type": "code",
   "execution_count": null,
   "id": "666f0402",
   "metadata": {},
   "outputs": [],
   "source": [
    "λn = lambdify(smoothλ)\n",
    "μn = lambdify(smoothμ)\n",
    "\n",
    "λh2(p) = λn.(p[1],p[2])\n",
    "μh2(p) = μn.(p[1],p[2])"
   ]
  },
  {
   "cell_type": "code",
   "execution_count": null,
   "id": "ad5ce461",
   "metadata": {},
   "outputs": [],
   "source": [
    "μ_h = interpolate_everywhere(μh2,V₂)\n",
    "λ_h = interpolate_everywhere(λh2,V₃)"
   ]
  },
  {
   "cell_type": "code",
   "execution_count": null,
   "id": "f68a1e79",
   "metadata": {},
   "outputs": [],
   "source": [
    "σ_elasVal(ε,λ,μ) = λ*tr(ε)*one(ε) + 2*μ*ε"
   ]
  },
  {
   "cell_type": "code",
   "execution_count": null,
   "id": "b6291480",
   "metadata": {},
   "outputs": [],
   "source": [
    "function σfun(ε,ε_in,s_in,λ,μ)\n",
    "    σ_elas = λ*tr(ε)*one(ε) + 2*μ*ε\n",
    "    σ = (s_in ^2+η)*σ_elas\n",
    "    return  σ\n",
    "end"
   ]
  },
  {
   "cell_type": "code",
   "execution_count": null,
   "id": "4f582946",
   "metadata": {},
   "outputs": [],
   "source": [
    "function ψPos(ε_in,λ,μ)\n",
    "    σ_elas = λ*tr(ε_in)*one(ε_in) + 2*μ*ε_in\n",
    "    σ_array = get_array(σ_elas)\n",
    "    Egn_Vals = eigvals(σ_array)\n",
    "    Egn_Vecs = eigvecs(σ_array)\n",
    "    σ1 = Egn_Vals[1]\n",
    "    σ2 = Egn_Vals[2]\n",
    "    n1 = VectorValue(Egn_Vecs[:,1])\n",
    "    n2 = VectorValue(Egn_Vecs[:,2])\n",
    " if (σ1)  >= 0\n",
    "        if (σ2)  >= 0\n",
    "            ψPlus = 0.5*(ε_in ⊙ (σ1*(n1 ⊗ n1) + σ2*(n2 ⊗ n2)))\n",
    "        else\n",
    "            ψPlus = 0.5*(ε_in ⊙ (σ1*(n1 ⊗ n1)))\n",
    "        end\n",
    "    elseif (σ1)  < 0\n",
    "        if (σ2)  >= 0\n",
    "            ψPlus = 0.5*(ε_in ⊙ (σ2*(n2 ⊗ n2)))\n",
    "        else\n",
    "            ψPlus = 0.0\n",
    "        end\n",
    "    end\n",
    "    return ψPlus\n",
    "end"
   ]
  },
  {
   "cell_type": "code",
   "execution_count": null,
   "id": "b6fb6afc",
   "metadata": {},
   "outputs": [],
   "source": [
    "function  new_EnergyState(ψPlusPrev_in,ψhPos_in)\n",
    "    ψPlus_in = ψhPos_in\n",
    "    if ψPlus_in  >=ψPlusPrev_in\n",
    "        ψPlus_out =ψPlus_in\n",
    "    else\n",
    "        ψPlus_out=ψPlusPrev_in\n",
    "    end\n",
    "    true,ψPlus_out\n",
    "end"
   ]
  },
  {
   "cell_type": "code",
   "execution_count": null,
   "id": "c564a5f5",
   "metadata": {},
   "outputs": [],
   "source": [
    "function  project(q,model ,dΩ,order)\n",
    "    reffe = ReferenceFE(lagrangian ,Float64 ,order)\n",
    "    V = FESpace(model ,reffe ,conformity =:L2)\n",
    "    a(u,v) =∫(u*v)*dΩ\n",
    "    b(v) =∫(v*q)*dΩ\n",
    "    op = AffineFEOperator(a,b,V,V)\n",
    "    qh = Gridap.solve(op)\n",
    "    return  qh\n",
    "end"
   ]
  },
  {
   "cell_type": "code",
   "execution_count": null,
   "id": "5b15a1b1",
   "metadata": {},
   "outputs": [],
   "source": [
    "reffe_PF = ReferenceFE(lagrangian ,Float64,order)\n",
    "V0_PF = TestFESpace(model ,reffe_PF;conformity =:H1)\n",
    "U_PF = TrialFESpace(V0_PF)\n",
    "sh = zero(V0_PF)"
   ]
  },
  {
   "cell_type": "code",
   "execution_count": null,
   "id": "9f620064",
   "metadata": {
    "scrolled": true
   },
   "outputs": [],
   "source": [
    "reffe_Disp = ReferenceFE(lagrangian,VectorValue{2,Float64},order)\n",
    "        V0_Disp = TestFESpace(model,reffe_Disp;\n",
    "          conformity=:H1,\n",
    "          dirichlet_tags=[\"DirichletTop\",\"DirichletLeft\",\"DirichletRight\"],\n",
    "          dirichlet_masks=[(false,true), (true,false), (true,false)])\n",
    "\n",
    "uh = zero(V0_Disp)"
   ]
  },
  {
   "cell_type": "code",
   "execution_count": null,
   "id": "61d2ac25",
   "metadata": {
    "scrolled": true
   },
   "outputs": [],
   "source": [
    "sId = CellState(1.0,dΩ)\n",
    "shId = project(sId,model,dΩ,order)"
   ]
  },
  {
   "cell_type": "code",
   "execution_count": null,
   "id": "107c696d",
   "metadata": {},
   "outputs": [],
   "source": [
    "Gc∘(shId,mat_tags)"
   ]
  },
  {
   "cell_type": "code",
   "execution_count": null,
   "id": "8c431896",
   "metadata": {
    "scrolled": true
   },
   "outputs": [],
   "source": [
    "writevtk(Ω,\"MaterialProperties\",cellfields= [\"λ\"=>λ_h,\"μ\"=>μ_h,\"Gc\"=>(Gc∘(shId,mat_tags))])"
   ]
  },
  {
   "cell_type": "code",
   "execution_count": null,
   "id": "3dd21650",
   "metadata": {},
   "outputs": [],
   "source": [
    "LoadTagId = get_tag_from_name(labels,\"DirichletRight\")\n",
    "Γ_Load = BoundaryTriangulation(model,tags = LoadTagId)\n",
    "dΓ_Load = Measure(Γ_Load,degree)\n",
    "n_Γ_Load = get_normal_vector(Γ_Load)"
   ]
  },
  {
   "cell_type": "code",
   "execution_count": null,
   "id": "9171a771",
   "metadata": {},
   "outputs": [],
   "source": [
    "function   stepPhaseField(uh_in ,ΨPlusPrev_in)\n",
    "    a_PF(s,φ) =∫( (Gc∘(shId,mat_tags))*ls*∇(φ)⋅∇(s)+ 2*ΨPlusPrev_in*s*φ+ ((Gc∘(shId,mat_tags))/ls)*s*φ)*dΩ\n",
    "    b_PF(φ) =∫( ((Gc∘(shId,mat_tags))/ls)*φ)*dΩ\n",
    "    op_PF = AffineFEOperator(a_PF,b_PF ,U_PF ,V0_PF)\n",
    "    sh_out = Gridap.solve(op_PF)\n",
    "    return  sh_out\n",
    "end"
   ]
  },
  {
   "cell_type": "code",
   "execution_count": null,
   "id": "81691306",
   "metadata": {},
   "outputs": [],
   "source": [
    "function  stepDisp(uh_in,sh_in,λ,μ,vApp)\n",
    "    uApp1(x) = VectorValue(0.0,0.0)\n",
    "    uApp2(x) = VectorValue(0.0,0.0)\n",
    "    uApp3(x) = VectorValue(vApp,0.0)\n",
    "    U_Disp = TrialFESpace(V0_Disp,[uApp1,uApp2,uApp3])\n",
    "    a_Disp(u,v) =∫( (ε(v)⊙(σfun∘(ε(u),ε(uh_in),sh_in,λ,μ)) ) )*dΩ\n",
    "    b_Disp(v) = 0.0\n",
    "    op_Disp = AffineFEOperator(a_Disp ,b_Disp ,U_Disp ,V0_Disp)\n",
    "    uh_out = Gridap.solve(op_Disp)\n",
    "    return  uh_out\n",
    "end"
   ]
  },
  {
   "cell_type": "code",
   "execution_count": null,
   "id": "295f9b13",
   "metadata": {
    "scrolled": true
   },
   "outputs": [],
   "source": [
    "vApp = 0\n",
    "delv = 1e-3\n",
    "const  vAppMax = 0.20\n",
    "innerMax = 10\n",
    "count = 0\n",
    "Load = Float64[]\n",
    "Displacement = Float64[]\n",
    "\n",
    "push!(Load, 0.0)\n",
    "push!(Displacement, 0.0)\n",
    "\n",
    "sPrev = CellState(1.0,dΩ)\n",
    "sh = project(sPrev ,model ,dΩ,order)\n",
    "ψPlusPrev = CellState(0.0,dΩ)\n",
    "\n",
    "while  vApp .< vAppMax\n",
    "    count = count  .+ 1\n",
    "\n",
    "    vApp = vApp .+ delv\n",
    "    print(\"\\n Entering  displacemtent  step :\", float(vApp))\n",
    "\n",
    "    for  inner = 1: innerMax\n",
    "        ψhPlusPrev = project(ψPlusPrev ,model ,dΩ,order)\n",
    "        RelErr = abs(sum(∫( (Gc∘(shId,mat_tags))*ls*∇(sh)⋅∇(sh) + 2*ψhPlusPrev*sh*sh + ((Gc∘(shId,mat_tags))/ls)*sh*sh)*dΩ-∫( ((Gc∘(shId,mat_tags))/ls)*sh)*dΩ))/abs(sum(∫( ((Gc∘(shId,mat_tags))/ls)*sh)*dΩ))\n",
    "        print(\"\\n Relative Error :\", float(RelErr))\n",
    "        sh = stepPhaseField(uh,ψhPlusPrev)\n",
    "        uh = stepDisp(uh,sh,λ_h,μ_h,vApp)\n",
    "        ψhPos_in =ψPos∘(ε(uh),λ_h,μ_h)\n",
    "        update_state!( new_EnergyState ,ψPlusPrev ,ψhPos_in)\n",
    "        if   RelErr  < 1e-8\n",
    "            break\n",
    "        end\n",
    "    end\n",
    "    Node_Force = sum(∫(n_Γ_Load⋅(σfun∘(ε(uh),ε(uh),sh,λ_h,μ_h)))*dΓ_Load)\n",
    "    push!(Load , Node_Force[1])\n",
    "    push!( Displacement , vApp)\n",
    "    if mod(count,5)==0\n",
    "    writevtk(Ω,\"results_TwoMaterialComposites$count\",cellfields= [\"uh\"=>uh ,\"s\"=>sh,\"epsi\"=>ε(uh)])\n",
    "    end\n",
    " end"
   ]
  },
  {
   "cell_type": "code",
   "execution_count": null,
   "id": "4be0efa8",
   "metadata": {},
   "outputs": [],
   "source": [
    "dispPlot = plot(Displacement,Load,label = nothing)\n",
    "xlabel!(\"Displacement (mm)\")\n",
    "ylabel!(\"Load (N)\")"
   ]
  }
 ],
 "metadata": {
  "@webio": {
   "lastCommId": null,
   "lastKernelId": null
  },
  "kernelspec": {
   "display_name": "Julia 1.6.2",
   "language": "julia",
   "name": "julia-1.6"
  },
  "language_info": {
   "file_extension": ".jl",
   "mimetype": "application/julia",
   "name": "julia",
   "version": "1.6.2"
  }
 },
 "nbformat": 4,
 "nbformat_minor": 5
}
