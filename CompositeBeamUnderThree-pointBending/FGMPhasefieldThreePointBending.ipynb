{
 "cells": [
  {
   "cell_type": "code",
   "execution_count": null,
   "id": "87fd73b2",
   "metadata": {},
   "outputs": [],
   "source": [
    "using  SymPy\n",
    "using  Plots; pyplot()\n",
    "using LinearAlgebra"
   ]
  },
  {
   "cell_type": "code",
   "execution_count": null,
   "id": "cab2d068",
   "metadata": {},
   "outputs": [],
   "source": [
    "Eₘ = 380e3\n",
    "Eᵣ = 480e3\n",
    "Eᵢ = Eₘ\n",
    "νₘ = 0.25\n",
    "νᵣ = 0.30\n",
    "νᵢ = νₘ\n",
    "\n",
    "@show λᵢ = Eᵢ*νᵢ/((1+νᵢ)*(1-2*νᵢ))\n",
    "@show λₘ = Eₘ*νₘ/((1+νₘ)*(1-2*νₘ))\n",
    "@show λᵣ = Eᵣ*νᵣ/((1+νᵣ)*(1-2*νᵣ))\n",
    "@show μᵢ = Eᵢ/(2*(1+νᵢ))\n",
    "@show μₘ = Eₘ/(2*(1+νₘ))\n",
    "@show μᵣ = Eᵣ/(2*(1+νᵣ))"
   ]
  },
  {
   "cell_type": "code",
   "execution_count": null,
   "id": "fc5df476",
   "metadata": {},
   "outputs": [],
   "source": [
    "Gₘ = 0.01\n",
    "Gᵣ = 0.01710\n",
    "Gᵢ = 0.00171"
   ]
  },
  {
   "cell_type": "code",
   "execution_count": null,
   "id": "cb77c212",
   "metadata": {},
   "outputs": [],
   "source": [
    "L = 2.25\n",
    "H = 0.5\n",
    "η = 1e-10"
   ]
  },
  {
   "cell_type": "code",
   "execution_count": null,
   "id": "074ce258",
   "metadata": {},
   "outputs": [],
   "source": [
    "ht = 0.10\n",
    "h = 0.01\n",
    "Hm = 0.30\n",
    "Hi = 0.05"
   ]
  },
  {
   "cell_type": "code",
   "execution_count": null,
   "id": "50393304",
   "metadata": {},
   "outputs": [],
   "source": [
    "x,x₁,y,y₁ = symbols(\"x,x₁,y,y₁\", real = true)"
   ]
  },
  {
   "cell_type": "markdown",
   "id": "c78dd1fc",
   "metadata": {},
   "source": [
    "### Piecewise function"
   ]
  },
  {
   "cell_type": "code",
   "execution_count": null,
   "id": "5c781e9d",
   "metadata": {},
   "outputs": [],
   "source": [
    "heaviside(x) = 0.5 * (sign(x) + 1)\n",
    "\n",
    "interval(x, a, b) = heaviside(x-a) - heaviside(x-b)"
   ]
  },
  {
   "cell_type": "markdown",
   "id": "8fd89d90",
   "metadata": {},
   "source": [
    "### Gaussian Kernel Function"
   ]
  },
  {
   "cell_type": "code",
   "execution_count": null,
   "id": "d349f7b0",
   "metadata": {},
   "outputs": [],
   "source": [
    "wₕ(x,x₁) = (1/(sqrt(2*pi)*h))*exp(-(x-x₁)^2/(2*h^2))"
   ]
  },
  {
   "cell_type": "code",
   "execution_count": null,
   "id": "9b7e5b37",
   "metadata": {},
   "outputs": [],
   "source": [
    "Fx1 = interval(x₁,-L-ht,L+ht)*wₕ(x,x₁)\n",
    "Fy1 = interval(y₁,-H-ht,-H+Hm)*wₕ(y,y₁)\n",
    "Fy2 = interval(y₁,-H+Hm,-H+Hm+Hi)*wₕ(y,y₁)\n",
    "Fy3 = interval(y₁,-H+Hm+Hi,-H+2*Hm+Hi)*wₕ(y,y₁)\n",
    "Fy4 = interval(y₁,-H+2*Hm+Hi,-H+2*Hm+2*Hi)*wₕ(y,y₁)\n",
    "Fy5 = interval(y₁,-H+2*Hm+2*Hi,-H+3*Hm+2*Hi+ht)*wₕ(y,y₁)"
   ]
  },
  {
   "cell_type": "code",
   "execution_count": null,
   "id": "7f71f085",
   "metadata": {},
   "outputs": [],
   "source": [
    "λdiscont1 = λₘ * interval(x₁,-L-ht,L+ht)* interval(y₁,-H-ht,-H+Hm)\n",
    "λdiscont2 = λᵢ * interval(x₁,-L-ht,L+ht)* interval(y₁,-H+Hm,-H+Hm+Hi)\n",
    "λdiscont3 = λᵣ * interval(x₁,-L-ht,L+ht)* interval(y₁,-H+Hm+Hi,-H+2*Hm+Hi)\n",
    "λdiscont4 = λᵢ * interval(x₁,-L-ht,L+ht)* interval(y₁,-H+2*Hm+Hi,-H+2*Hm+2*Hi)\n",
    "λdiscont5 = λₘ * interval(x₁,-L-ht,L+ht)* interval(y₁,-H+2*Hm+2*Hi,-H+3*Hm+2*Hi+ht)\n",
    "λdiscont = λdiscont1 + λdiscont2 + λdiscont3 + λdiscont4 + λdiscont5"
   ]
  },
  {
   "cell_type": "code",
   "execution_count": null,
   "id": "0463ca20",
   "metadata": {
    "scrolled": true
   },
   "outputs": [],
   "source": [
    "μdiscont1 = μₘ * interval(x₁,-L-ht,L+ht)* interval(y₁,-H-ht,-H+Hm)\n",
    "μdiscont2 = μᵢ * interval(x₁,-L-ht,L+ht)* interval(y₁,-H+Hm,-H+Hm+Hi)\n",
    "μdiscont3 = μᵣ * interval(x₁,-L-ht,L+ht)* interval(y₁,-H+Hm+Hi,-H+2*Hm+Hi)\n",
    "μdiscont4 = μᵢ * interval(x₁,-L-ht,L+ht)* interval(y₁,-H+2*Hm+Hi,-H+2*Hm+2*Hi)\n",
    "μdiscont5 = μₘ * interval(x₁,-L-ht,L+ht)* interval(y₁,-H+2*Hm+2*Hi,-H+3*Hm+2*Hi+ht)\n",
    "μdiscont = μdiscont1 + μdiscont2 + μdiscont3 + μdiscont4 + μdiscont5"
   ]
  },
  {
   "cell_type": "code",
   "execution_count": null,
   "id": "f607cee9",
   "metadata": {},
   "outputs": [],
   "source": [
    "Gdiscont1 = Gₘ * interval(x₁,-L-ht,L+ht)* interval(y₁,-H-ht,-H+Hm)\n",
    "Gdiscont2 = Gᵢ * interval(x₁,-L-ht,L+ht)* interval(y₁,-H+Hm,-H+Hm+Hi)\n",
    "Gdiscont3 = Gᵣ * interval(x₁,-L-ht,L+ht)* interval(y₁,-H+Hm+Hi,-H+2*Hm+Hi)\n",
    "Gdiscont4 = Gᵢ * interval(x₁,-L-ht,L+ht)* interval(y₁,-H+2*Hm+Hi,-H+2*Hm+2*Hi)\n",
    "Gdiscont5 = Gₘ * interval(x₁,-L-ht,L+ht)* interval(y₁,-H+2*Hm+2*Hi,-H+3*Hm+2*Hi+ht)\n",
    "Gdiscont = Gdiscont1 + Gdiscont2 + Gdiscont3 + Gdiscont4 + Gdiscont5"
   ]
  },
  {
   "cell_type": "code",
   "execution_count": null,
   "id": "26745c6a",
   "metadata": {},
   "outputs": [],
   "source": [
    "smoothλ1 = integrate(Fx1,(x₁,-L-ht,L+ht))*integrate(Fy1,(y₁,-H-ht,H+ht))*λₘ\n",
    "smoothλ2 = integrate(Fx1,(x₁,-L-ht,L+ht))*integrate(Fy2,(y₁,-H-ht,H+ht))*λᵢ\n",
    "smoothλ3 = integrate(Fx1,(x₁,-L-ht,L+ht))*integrate(Fy3,(y₁,-H-ht,H+ht))*λᵣ\n",
    "smoothλ4 = integrate(Fx1,(x₁,-L-ht,L+ht))*integrate(Fy4,(y₁,-H-ht,H+ht))*λᵢ\n",
    "smoothλ5 = integrate(Fx1,(x₁,-L-ht,L+ht))*integrate(Fy5,(y₁,-H-ht,H+ht))*λₘ\n",
    "smoothλ = smoothλ1 + smoothλ2 + smoothλ3 + smoothλ4 + smoothλ5;"
   ]
  },
  {
   "cell_type": "code",
   "execution_count": null,
   "id": "040b8854",
   "metadata": {
    "scrolled": true
   },
   "outputs": [],
   "source": [
    "smoothμ1 = integrate(Fx1,(x₁,-L-ht,L+ht))*integrate(Fy1,(y₁,-H-ht,H+ht))*μₘ\n",
    "smoothμ2 = integrate(Fx1,(x₁,-L-ht,L+ht))*integrate(Fy2,(y₁,-H-ht,H+ht))*μᵢ\n",
    "smoothμ3 = integrate(Fx1,(x₁,-L-ht,L+ht))*integrate(Fy3,(y₁,-H-ht,H+ht))*μᵣ\n",
    "smoothμ4 = integrate(Fx1,(x₁,-L-ht,L+ht))*integrate(Fy4,(y₁,-H-ht,H+ht))*μᵢ\n",
    "smoothμ5 = integrate(Fx1,(x₁,-L-ht,L+ht))*integrate(Fy5,(y₁,-H-ht,H+ht))*μₘ\n",
    "smoothμ = smoothμ1 + smoothμ2 + smoothμ3 + smoothμ4 + smoothμ5;"
   ]
  },
  {
   "cell_type": "code",
   "execution_count": null,
   "id": "b68e3c10",
   "metadata": {},
   "outputs": [],
   "source": [
    "smoothG1 = integrate(Fx1,(x₁,-L-ht,L+ht))*integrate(Fy1,(y₁,-H-ht,H+ht))*Gₘ\n",
    "smoothG2 = integrate(Fx1,(x₁,-L-ht,L+ht))*integrate(Fy2,(y₁,-H-ht,H+ht))*Gᵢ\n",
    "smoothG3 = integrate(Fx1,(x₁,-L-ht,L+ht))*integrate(Fy3,(y₁,-H-ht,H+ht))*Gᵣ\n",
    "smoothG4 = integrate(Fx1,(x₁,-L-ht,L+ht))*integrate(Fy4,(y₁,-H-ht,H+ht))*Gᵢ\n",
    "smoothG5 = integrate(Fx1,(x₁,-L-ht,L+ht))*integrate(Fy5,(y₁,-H-ht,H+ht))*Gₘ\n",
    "smoothG = smoothG1 + smoothG2 + smoothG3 + smoothG4 + smoothG5;"
   ]
  },
  {
   "cell_type": "code",
   "execution_count": null,
   "id": "735a984e",
   "metadata": {
    "scrolled": true
   },
   "outputs": [],
   "source": [
    "xs = range(-L,L, length=100)\n",
    "ys = range(-H,H, length=100)\n",
    "\n",
    "plot1 = contourf(xs, ys, λdiscont, c=:diverging_bwr_40_95_c42_n256, axis = nothing, showaxis =false,aspect_ratio=:equal, camera=(0,90))\n",
    "plot2 = contourf(xs, ys, smoothλ, c=:diverging_bwr_40_95_c42_n256, axis = nothing, showaxis =false,aspect_ratio=:equal,camera=(0,90))\n",
    "plot3 = contourf(xs, ys, μdiscont, c=:diverging_bwr_40_95_c42_n256, axis = nothing, showaxis =false,aspect_ratio=:equal, camera=(0,90))\n",
    "plot4 = contourf(xs, ys, smoothμ, c=:diverging_bwr_40_95_c42_n256, axis = nothing, showaxis =false,aspect_ratio=:equal, camera=(0,90))\n",
    "plot5 = contourf(xs, ys, Gdiscont, c=:diverging_bwr_40_95_c42_n256, axis = nothing, showaxis =false,aspect_ratio=:equal, camera=(0,90))\n",
    "plot6 = contourf(xs, ys, smoothG, c=:diverging_bwr_40_95_c42_n256, axis = nothing, showaxis =false,aspect_ratio=:equal, camera=(0,90))"
   ]
  },
  {
   "cell_type": "code",
   "execution_count": null,
   "id": "d522c642",
   "metadata": {},
   "outputs": [],
   "source": [
    "using Gmsh:gmsh\n",
    "using  GridapGmsh\n",
    "using  Gridap\n",
    "using  Gridap.Geometry\n",
    "using  Gridap.TensorValues\n",
    "using  Gridap.Fields\n",
    "using  Gridap.CellData\n",
    "using  Gridap.ReferenceFEs"
   ]
  },
  {
   "cell_type": "code",
   "execution_count": null,
   "id": "03d63e87",
   "metadata": {},
   "outputs": [],
   "source": [
    "ls = 0.020\n",
    "hf = ls/2.1\n",
    "hd = 10*hf\n",
    "Lₚ = 4.5\n",
    "Hₚ = 1.0\n",
    "sw = 0.25\n",
    "CL = 0.15\n",
    "LL = hd\n",
    "cw = 0.01"
   ]
  },
  {
   "cell_type": "code",
   "execution_count": null,
   "id": "b893a783",
   "metadata": {},
   "outputs": [],
   "source": [
    "gmsh.initialize()\n",
    "gmsh.option.setNumber(\"General.Terminal\", 1)\n",
    "\n",
    "gmsh.model.geo.addPoint(-Lₚ/2, -Hₚ/2, 0.0, hd, 1)\n",
    "gmsh.model.geo.addPoint(-Lₚ/2+sw, -Hₚ/2, 0.0, hd, 2)\n",
    "gmsh.model.geo.addPoint(-cw/2, -Hₚ/2, 0.0, hd, 3)\n",
    "gmsh.model.geo.addPoint(-cw/2, -Hₚ/2+CL, 0.0, hd, 4)\n",
    "gmsh.model.geo.addPoint(0.0, -Hₚ/2+1.1*CL, 0.0, hd, 5)\n",
    "gmsh.model.geo.addPoint(cw/2, -Hₚ/2+CL, 0.0, hd, 6)\n",
    "gmsh.model.geo.addPoint(cw/2, -Hₚ/2, 0.0, hd, 7)\n",
    "gmsh.model.geo.addPoint(Lₚ/2-sw, -Hₚ/2, 0.0, hd, 8)\n",
    "gmsh.model.geo.addPoint(Lₚ/2, -Hₚ/2, 0.0, hd, 9)\n",
    "gmsh.model.geo.addPoint(Lₚ/2, -Hₚ/2+Hm, 0.0, hd, 10)\n",
    "gmsh.model.geo.addPoint(Lₚ/2, -Hₚ/2+Hm+Hi, 0.0, hd, 11)\n",
    "gmsh.model.geo.addPoint(Lₚ/2, -Hₚ/2+2*Hm+Hi, 0.0, hd, 12)\n",
    "gmsh.model.geo.addPoint(Lₚ/2, -Hₚ/2+2*Hm+2*Hi, 0.0, hd, 13)\n",
    "gmsh.model.geo.addPoint(Lₚ/2, -Hₚ/2+3*Hm+2*Hi, 0.0, hd, 14)\n",
    "gmsh.model.geo.addPoint(LL, -Hₚ/2+3*Hm+2*Hi, 0.0, hd, 15)\n",
    "gmsh.model.geo.addPoint(-LL, -Hₚ/2+3*Hm+2*Hi, 0.0, hd, 16)\n",
    "gmsh.model.geo.addPoint(-Lₚ/2, -Hₚ/2+3*Hm+2*Hi, 0.0, hd, 17)\n",
    "gmsh.model.geo.addPoint(-Lₚ/2, -Hₚ/2+2*Hm+2*Hi, 0.0, hd, 18)\n",
    "gmsh.model.geo.addPoint(-Lₚ/2, -Hₚ/2+2*Hm+1*Hi, 0.0, hd, 19)\n",
    "gmsh.model.geo.addPoint(-Lₚ/2, -Hₚ/2+1*Hm+1*Hi, 0.0, hd, 20)\n",
    "gmsh.model.geo.addPoint(-Lₚ/2, -Hₚ/2+1*Hm, 0.0, hd, 21)\n",
    "\n",
    "gmsh.model.geo.addLine(1, 2, 1)\n",
    "gmsh.model.geo.addLine(2, 3, 2)\n",
    "gmsh.model.geo.addLine(3, 4, 3)\n",
    "gmsh.model.geo.addLine(4, 5, 4)\n",
    "gmsh.model.geo.addLine(5, 6, 5)\n",
    "gmsh.model.geo.addLine(6, 7, 6)\n",
    "gmsh.model.geo.addLine(7, 8, 7)\n",
    "gmsh.model.geo.addLine(8, 9, 8)\n",
    "gmsh.model.geo.addLine(9, 10, 9)\n",
    "gmsh.model.geo.addLine(10, 11, 10)\n",
    "gmsh.model.geo.addLine(11, 12, 11)\n",
    "gmsh.model.geo.addLine(12, 13, 12)\n",
    "gmsh.model.geo.addLine(13, 14, 13)\n",
    "gmsh.model.geo.addLine(14, 15, 14)\n",
    "gmsh.model.geo.addLine(15, 16, 15)\n",
    "gmsh.model.geo.addLine(16, 17, 16)\n",
    "gmsh.model.geo.addLine(17, 18, 17)\n",
    "gmsh.model.geo.addLine(18, 19, 18)\n",
    "gmsh.model.geo.addLine(19, 20, 19)\n",
    "gmsh.model.geo.addLine(20, 21, 20)\n",
    "gmsh.model.geo.addLine(21, 1, 21)\n",
    "\n",
    "gmsh.model.geo.addLine(10, 21, 101)\n",
    "gmsh.model.geo.addLine(11, 20, 102)\n",
    "gmsh.model.geo.addLine(12, 19, 103)\n",
    "gmsh.model.geo.addLine(13, 18, 104)\n",
    "\n",
    "gmsh.model.geo.addCurveLoop([1,2,3,4,5,6,7,8,9,101,21],1)\n",
    "gmsh.model.geo.addCurveLoop([10,102,20,-101],2)\n",
    "gmsh.model.geo.addCurveLoop([11,103,19,-102],3)\n",
    "gmsh.model.geo.addCurveLoop([12,104,18,-103],4)\n",
    "gmsh.model.geo.addCurveLoop([13,14,15,16,17,-104],5)\n",
    "\n",
    "gmsh.model.geo.addPlaneSurface([1], 1)\n",
    "gmsh.model.geo.addPlaneSurface([2], 2)\n",
    "gmsh.model.geo.addPlaneSurface([3], 3)\n",
    "gmsh.model.geo.addPlaneSurface([4], 4)\n",
    "gmsh.model.geo.addPlaneSurface([5], 5)\n",
    "\n",
    "gmsh.model.addPhysicalGroup(0, [2],1)\n",
    "gmsh.model.addPhysicalGroup(0, [8],2)\n",
    "\n",
    "gmsh.model.addPhysicalGroup(1, [15],1)\n",
    "\n",
    "gmsh.model.addPhysicalGroup(2, [1,5],1)\n",
    "gmsh.model.addPhysicalGroup(2, [3],2)\n",
    "gmsh.model.addPhysicalGroup(2, [2,4],3)\n",
    "\n",
    "gmsh.model.setPhysicalName(2, 1, \"Matrix\")\n",
    "gmsh.model.setPhysicalName(2, 2, \"Fiber\")\n",
    "gmsh.model.setPhysicalName(2, 3, \"Interface\")\n",
    "\n",
    "gmsh.model.setPhysicalName(1, 1, \"DirichletTop\")\n",
    "\n",
    "gmsh.model.setPhysicalName(0, 1, \"DirichletLeft\")\n",
    "gmsh.model.setPhysicalName(0, 2, \"DirichletRight\")\n",
    "\n",
    "\n",
    "gmsh.model.mesh.field.add(\"Box\", 11)\n",
    "gmsh.model.mesh.field.setNumber(11, \"VIn\", hf)\n",
    "gmsh.model.mesh.field.setNumber(11, \"VOut\", hd)\n",
    "gmsh.model.mesh.field.setNumber(11, \"XMin\", -0.5*Lₚ)\n",
    "gmsh.model.mesh.field.setNumber(11, \"XMax\", 0.5*Lₚ)\n",
    "gmsh.model.mesh.field.setNumber(11, \"YMin\", -Hm)\n",
    "gmsh.model.mesh.field.setNumber(11, \"YMax\", Hm)\n",
    "\n",
    "gmsh.model.mesh.field.add(\"Box\", 12)\n",
    "gmsh.model.mesh.field.setNumber(12, \"VIn\", hf)\n",
    "gmsh.model.mesh.field.setNumber(12, \"VOut\", hd)\n",
    "gmsh.model.mesh.field.setNumber(12, \"XMin\", -4*cw)\n",
    "gmsh.model.mesh.field.setNumber(12, \"XMax\", 4*cw)\n",
    "gmsh.model.mesh.field.setNumber(12, \"YMin\", -0.5*Hₚ)\n",
    "gmsh.model.mesh.field.setNumber(12, \"YMax\", 0.5*Hₚ)\n",
    "\n",
    "gmsh.model.mesh.field.add(\"Min\", 13)\n",
    "gmsh.model.mesh.field.setNumbers(13, \"FieldsList\", [11,12])\n",
    "\n",
    "gmsh.model.mesh.field.setAsBackgroundMesh(13)\n",
    "\n",
    "\n",
    "gmsh.model.geo.synchronize()\n",
    "gmsh.model.mesh.generate(2)\n",
    "\n",
    "gmsh.write(\"ThreePointBending.msh\")\n",
    "gmsh.finalize()"
   ]
  },
  {
   "cell_type": "code",
   "execution_count": null,
   "id": "94502196",
   "metadata": {},
   "outputs": [],
   "source": [
    "model = GmshDiscreteModel(\"ThreePointBending.msh\")\n",
    "writevtk(model ,\"ThreePointBending\")"
   ]
  },
  {
   "cell_type": "code",
   "execution_count": null,
   "id": "dedb5b6a",
   "metadata": {},
   "outputs": [],
   "source": [
    "using Gridap.Geometry\n",
    "labels = get_face_labeling(model)\n",
    "dimension = 2\n",
    "mat_tags = get_face_tag(labels,dimension);"
   ]
  },
  {
   "cell_type": "code",
   "execution_count": null,
   "id": "2878c2d1",
   "metadata": {},
   "outputs": [],
   "source": [
    "order = 1\n",
    "degree = 2*order\n",
    "Ω = Triangulation(model)\n",
    "dΩ = Measure(Ω,degree)"
   ]
  },
  {
   "cell_type": "code",
   "execution_count": null,
   "id": "dc1e2a4c",
   "metadata": {},
   "outputs": [],
   "source": [
    "p = get_cell_points(Ω)"
   ]
  },
  {
   "cell_type": "code",
   "execution_count": null,
   "id": "7894fc4a",
   "metadata": {},
   "outputs": [],
   "source": [
    "λn = lambdify(smoothλ)\n",
    "μn = lambdify(smoothμ)\n",
    "Gn = lambdify(smoothG)"
   ]
  },
  {
   "cell_type": "code",
   "execution_count": null,
   "id": "3a772a39",
   "metadata": {},
   "outputs": [],
   "source": [
    "λh(p) = λn.(p[1],p[2])\n",
    "μh(p) = μn.(p[1],p[2])\n",
    "Gh(p) = Gn.(p[1],p[2])\n",
    "reffe = ReferenceFE(lagrangian,Float64,order)\n",
    "V₁ = FESpace(model, reffe, conformity=:H1)"
   ]
  },
  {
   "cell_type": "code",
   "execution_count": null,
   "id": "9341eadb",
   "metadata": {},
   "outputs": [],
   "source": [
    "V₁₂ = MultiFieldFESpace([V₁,V₁,V₁])"
   ]
  },
  {
   "cell_type": "code",
   "execution_count": null,
   "id": "5d07ffb3",
   "metadata": {},
   "outputs": [],
   "source": [
    "λ_h,μ_h,G_h = interpolate_everywhere([λh,μh,Gh],V₁₂)"
   ]
  },
  {
   "cell_type": "code",
   "execution_count": null,
   "id": "b6291480",
   "metadata": {},
   "outputs": [],
   "source": [
    "function σfun(ε,ε_in,s_in,λ,μ)\n",
    "    σ_elas = λ*tr(ε)*one(ε) + 2*μ*ε\n",
    "    σ = (s_in ^2+η)*σ_elas\n",
    "    return  σ\n",
    "end"
   ]
  },
  {
   "cell_type": "code",
   "execution_count": null,
   "id": "4f582946",
   "metadata": {},
   "outputs": [],
   "source": [
    "function ψPos(ε_in,λ,μ)\n",
    "    σ_elas = λ*tr(ε_in)*one(ε_in) + 2*μ*ε_in\n",
    "    σ_array = get_array(σ_elas)\n",
    "    Egn_Vals = eigvals(σ_array)\n",
    "    Egn_Vecs = eigvecs(σ_array)\n",
    "    σ1 = Egn_Vals[1]\n",
    "    σ2 = Egn_Vals[2]\n",
    "    n1 = VectorValue(Egn_Vecs[:,1])\n",
    "    n2 = VectorValue(Egn_Vecs[:,2])\n",
    " if (σ1)  >= 0\n",
    "        if (σ2)  >= 0\n",
    "            ψPlus = 0.5*(ε_in ⊙ (σ1*(n1 ⊗ n1) + σ2*(n2 ⊗ n2)))\n",
    "        else\n",
    "            ψPlus = 0.5*(ε_in ⊙ (σ1*(n1 ⊗ n1)))\n",
    "        end\n",
    "    elseif (σ1)  < 0\n",
    "        if (σ2)  >= 0\n",
    "            ψPlus = 0.5*(ε_in ⊙ (σ2*(n2 ⊗ n2)))\n",
    "        else\n",
    "            ψPlus = 0.0\n",
    "        end\n",
    "    end\n",
    "    return ψPlus\n",
    "end"
   ]
  },
  {
   "cell_type": "code",
   "execution_count": null,
   "id": "b6fb6afc",
   "metadata": {},
   "outputs": [],
   "source": [
    "function  new_EnergyState(ψPlusPrev_in,ψhPos_in)\n",
    "    ψPlus_in = ψhPos_in\n",
    "    if ψPlus_in  >=ψPlusPrev_in\n",
    "        ψPlus_out =ψPlus_in\n",
    "    else\n",
    "        ψPlus_out=ψPlusPrev_in\n",
    "    end\n",
    "    true,ψPlus_out\n",
    "end"
   ]
  },
  {
   "cell_type": "code",
   "execution_count": null,
   "id": "c564a5f5",
   "metadata": {},
   "outputs": [],
   "source": [
    "function  project(q,model ,dΩ,order)\n",
    "    reffe = ReferenceFE(lagrangian ,Float64 ,order)\n",
    "    V = FESpace(model ,reffe ,conformity =:L2)\n",
    "    a(u,v) =∫(u*v)*dΩ\n",
    "    b(v) =∫(v*q)*dΩ\n",
    "    op = AffineFEOperator(a,b,V,V)\n",
    "    qh = Gridap.solve(op)\n",
    "    return  qh\n",
    "end"
   ]
  },
  {
   "cell_type": "code",
   "execution_count": null,
   "id": "5b15a1b1",
   "metadata": {},
   "outputs": [],
   "source": [
    "reffe_PF = ReferenceFE(lagrangian ,Float64,order)\n",
    "V0_PF = TestFESpace(model ,reffe_PF;conformity =:H1)\n",
    "U_PF = TrialFESpace(V0_PF)\n",
    "sh = zero(V0_PF)"
   ]
  },
  {
   "cell_type": "code",
   "execution_count": null,
   "id": "9f620064",
   "metadata": {
    "scrolled": false
   },
   "outputs": [],
   "source": [
    "reffe_Disp = ReferenceFE(lagrangian,VectorValue{2,Float64},order)\n",
    "        V0_Disp = TestFESpace(model,reffe_Disp;\n",
    "          conformity=:H1,\n",
    "          dirichlet_tags=[\"DirichletLeft\",\"DirichletRight\",\"DirichletTop\"],\n",
    "          dirichlet_masks=[(true,true), (false,true),(false,true)])\n",
    "\n",
    "uh = zero(V0_Disp)"
   ]
  },
  {
   "cell_type": "code",
   "execution_count": null,
   "id": "8c431896",
   "metadata": {
    "scrolled": true
   },
   "outputs": [],
   "source": [
    "writevtk(Ω,\"MaterialProperties\",cellfields= [\"λ\"=>λ_h,\"μ\"=>μ_h,\"Gc\"=>G_h])"
   ]
  },
  {
   "cell_type": "code",
   "execution_count": null,
   "id": "acda4a6e",
   "metadata": {},
   "outputs": [],
   "source": [
    "writevtk(Ω,\"lambda\",cellfields= [\"λ\"=>λ_h])"
   ]
  },
  {
   "cell_type": "code",
   "execution_count": null,
   "id": "3dd21650",
   "metadata": {},
   "outputs": [],
   "source": [
    "LoadTagId = get_tag_from_name(labels,\"DirichletTop\")\n",
    "Γ_Load = BoundaryTriangulation(model,tags = LoadTagId)\n",
    "dΓ_Load = Measure(Γ_Load,degree)\n",
    "n_Γ_Load = get_normal_vector(Γ_Load)"
   ]
  },
  {
   "cell_type": "code",
   "execution_count": null,
   "id": "9171a771",
   "metadata": {},
   "outputs": [],
   "source": [
    "function   stepPhaseField(uh_in ,ΨPlusPrev_in)\n",
    "    a_PF(s,φ) =∫( (G_h)*ls*∇(φ)⋅∇(s)+ 2*ΨPlusPrev_in*s*φ+ ((G_h)/ls)*s*φ)*dΩ\n",
    "    b_PF(φ) =∫( ((G_h)/ls)*φ)*dΩ\n",
    "    op_PF = AffineFEOperator(a_PF,b_PF ,U_PF ,V0_PF)\n",
    "    sh_out = Gridap.solve(op_PF)\n",
    "    return  sh_out\n",
    "end"
   ]
  },
  {
   "cell_type": "code",
   "execution_count": null,
   "id": "81691306",
   "metadata": {},
   "outputs": [],
   "source": [
    "function  stepDisp(uh_in,sh_in,λ,μ,vApp)\n",
    "    uApp1(x) = VectorValue(0.0,0.0)\n",
    "    uApp2(x) = VectorValue(0.0,0.0)\n",
    "    uApp3(x) = VectorValue(0.0,-vApp)\n",
    "    U_Disp = TrialFESpace(V0_Disp,[uApp1,uApp2,uApp3])\n",
    "    a_Disp(u,v) =∫( (ε(v)⊙(σfun∘(ε(u),ε(uh_in),sh_in,λ,μ)) ) )*dΩ\n",
    "    b_Disp(v) = 0.0\n",
    "    op_Disp = AffineFEOperator(a_Disp ,b_Disp ,U_Disp ,V0_Disp)\n",
    "    uh_out = Gridap.solve(op_Disp)\n",
    "    return  uh_out\n",
    "end"
   ]
  },
  {
   "cell_type": "code",
   "execution_count": null,
   "id": "295f9b13",
   "metadata": {
    "scrolled": true
   },
   "outputs": [],
   "source": [
    "vApp = 0\n",
    "const  vAppMax = 0.004\n",
    "delv = vAppMax/500\n",
    "innerMax = 10\n",
    "count = 0\n",
    "Load = Float64[]\n",
    "Displacement = Float64[]\n",
    "\n",
    "push!(Load, 0.0)\n",
    "push!(Displacement, 0.0)\n",
    "\n",
    "sPrev = CellState(1.0,dΩ)\n",
    "sh = project(sPrev ,model ,dΩ,order)\n",
    "ψPlusPrev = CellState(0.0,dΩ)\n",
    "\n",
    "while  vApp .< vAppMax\n",
    "    count = count  .+ 1\n",
    "\n",
    "    vApp = vApp .+ delv\n",
    "    print(\"\\n Entering  displacemtent  step $count :\", float(vApp))\n",
    "\n",
    "    for  inner = 1: innerMax\n",
    "        ψhPlusPrev = project(ψPlusPrev ,model ,dΩ,order)\n",
    "        RelErr = abs(sum(∫( (G_h)*ls*∇(sh)⋅∇(sh) + 2*ψhPlusPrev*sh*sh + ((G_h)/ls)*sh*sh)*dΩ-∫( ((G_h)/ls)*sh)*dΩ))/abs(sum(∫( ((G_h)/ls)*sh)*dΩ))\n",
    "        print(\"\\n Relative Error :\", float(RelErr))\n",
    "        sh = stepPhaseField(uh,ψhPlusPrev)\n",
    "        uh = stepDisp(uh,sh,λ_h,μ_h,vApp)\n",
    "        ψhPos_in =ψPos∘(ε(uh),λ_h,μ_h)\n",
    "        update_state!( new_EnergyState ,ψPlusPrev ,ψhPos_in)\n",
    "        if   RelErr  < 1e-8\n",
    "            break\n",
    "        end\n",
    "    end\n",
    "    Node_Force = sum(∫(n_Γ_Load⋅(σfun∘(ε(uh),ε(uh),sh,λ_h,μ_h)))*dΓ_Load)\n",
    "    push!(Load , -Node_Force[2])\n",
    "    push!( Displacement , vApp)\n",
    "    writevtk(Ω,\"results_SymThreePtBendingTest$count\",cellfields= [\"uh\"=>uh ,\"s\"=>sh,\"epsi\"=>ε(uh)])\n",
    " end"
   ]
  },
  {
   "cell_type": "code",
   "execution_count": null,
   "id": "4be0efa8",
   "metadata": {},
   "outputs": [],
   "source": [
    "dispPlot = plot(Displacement,Load,label = nothing)\n",
    "xlabel!(\"Displacement (mm)\")\n",
    "ylabel!(\"Load (N)\")"
   ]
  }
 ],
 "metadata": {
  "@webio": {
   "lastCommId": null,
   "lastKernelId": null
  },
  "kernelspec": {
   "display_name": "Julia 1.6.2",
   "language": "julia",
   "name": "julia-1.6"
  },
  "language_info": {
   "file_extension": ".jl",
   "mimetype": "application/julia",
   "name": "julia",
   "version": "1.6.2"
  }
 },
 "nbformat": 4,
 "nbformat_minor": 5
}
